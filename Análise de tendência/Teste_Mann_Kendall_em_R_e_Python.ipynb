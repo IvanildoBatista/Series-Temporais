{
  "nbformat": 4,
  "nbformat_minor": 0,
  "metadata": {
    "colab": {
      "name": "Teste Mann-Kendall em R e Python.ipynb",
      "provenance": []
    },
    "kernelspec": {
      "name": "python3",
      "display_name": "Python 3"
    },
    "language_info": {
      "name": "python"
    }
  },
  "cells": [
    {
      "cell_type": "markdown",
      "metadata": {
        "id": "KuphguL2lFul"
      },
      "source": [
        "# Análise de tendência de séries temporais\n",
        "\n",
        "**O que é uma tendência**: A tendência é movimento de crescimento ou de decrescimento da série temporal e que ocorrem de forma sustentada. A tendência pode ser global (estar em toda série) ou local (em uma parte da série).\n",
        "\n",
        "## Teste *Mann-Kendall* em *R* e em *Python*\n",
        "\n",
        "\n",
        "O Teste *Mann-Kendall* (*Mann*, 1945; *Kendall*, 1975) é utilizado para determinar se uma série de dados possui tendência temporal estatisticamente significativa, como, por exemplo, a análise de dados de monitoramento de águas superficiais ou subterrânea, visando determinar se concentrações de um contaminante químico apresentam tendência de diminuição, tendência de aumento ou ausência de tendência ao longo do tempo. Por isso, o Teste *Mann-Kendall* é um método muito utilizado em dados ambientais.\n",
        "\n",
        "#### Hipóteses do teste\n",
        "\n",
        "$H_0$ : Não há tendência presente nos dados.\n",
        "\n",
        "$H_1$ : Há tendência nos dados.\n",
        "\n",
        "\n",
        "Para saber se há tendência o *p-valor* do teste deve ser inferior ao nível de significância definido, para que a hipótese nula seja rejeitada. Para saber se a tendência é crescente ou decrescente, observa-se o sinal da estatística $S$.\n",
        "\n",
        "## Habilitando a linguagem *R* no *Colab Notebook*"
      ]
    },
    {
      "cell_type": "code",
      "metadata": {
        "id": "YEAFWUzUhauV"
      },
      "source": [
        "%load_ext rpy2.ipython"
      ],
      "execution_count": null,
      "outputs": []
    },
    {
      "cell_type": "markdown",
      "metadata": {
        "id": "1QDzIMPUmmg8"
      },
      "source": [
        "## Instalando os pacotes do *R*\n",
        "\n",
        "Em *R* existem dois pacotes que realizam o cálculo do teste *Mann-Kendall* que são o *trend* e o *kendall*.\n",
        "\n",
        "Documentação dos pacotes:\n",
        "\n",
        "1) [**Kendall**](https://cran.r-project.org/web/packages/Kendall/Kendall.pdf)\n",
        "\n",
        "2) [**trend**](https://cran.r-project.org/web/packages/trend/trend.pdf)"
      ]
    },
    {
      "cell_type": "code",
      "metadata": {
        "colab": {
          "base_uri": "https://localhost:8080/"
        },
        "id": "Umv0PpX1iCyp",
        "outputId": "be9238fb-4da8-4b51-8597-255465b4efef"
      },
      "source": [
        "%%R\n",
        "\n",
        "install.packages(\"trend\")"
      ],
      "execution_count": null,
      "outputs": [
        {
          "output_type": "stream",
          "text": [
            "R[write to console]: Installing package into ‘/usr/local/lib/R/site-library’\n",
            "(as ‘lib’ is unspecified)\n",
            "\n",
            "R[write to console]: also installing the dependency ‘extraDistr’\n",
            "\n",
            "\n",
            "R[write to console]: trying URL 'https://cran.rstudio.com/src/contrib/extraDistr_1.9.1.tar.gz'\n",
            "\n",
            "R[write to console]: Content type 'application/x-gzip'\n",
            "R[write to console]:  length 147894 bytes (144 KB)\n",
            "\n",
            "R[write to console]: =\n",
            "R[write to console]: =\n",
            "R[write to console]: =\n",
            "R[write to console]: =\n",
            "R[write to console]: =\n",
            "R[write to console]: =\n",
            "R[write to console]: =\n",
            "R[write to console]: =\n",
            "R[write to console]: =\n",
            "R[write to console]: =\n",
            "R[write to console]: =\n",
            "R[write to console]: =\n",
            "R[write to console]: =\n",
            "R[write to console]: =\n",
            "R[write to console]: =\n",
            "R[write to console]: =\n",
            "R[write to console]: =\n",
            "R[write to console]: =\n",
            "R[write to console]: =\n",
            "R[write to console]: =\n",
            "R[write to console]: =\n",
            "R[write to console]: =\n",
            "R[write to console]: =\n",
            "R[write to console]: =\n",
            "R[write to console]: =\n",
            "R[write to console]: =\n",
            "R[write to console]: =\n",
            "R[write to console]: =\n",
            "R[write to console]: =\n",
            "R[write to console]: =\n",
            "R[write to console]: =\n",
            "R[write to console]: =\n",
            "R[write to console]: =\n",
            "R[write to console]: =\n",
            "R[write to console]: =\n",
            "R[write to console]: =\n",
            "R[write to console]: =\n",
            "R[write to console]: =\n",
            "R[write to console]: =\n",
            "R[write to console]: =\n",
            "R[write to console]: =\n",
            "R[write to console]: =\n",
            "R[write to console]: =\n",
            "R[write to console]: =\n",
            "R[write to console]: =\n",
            "R[write to console]: =\n",
            "R[write to console]: =\n",
            "R[write to console]: =\n",
            "R[write to console]: =\n",
            "R[write to console]: =\n",
            "R[write to console]: \n",
            "\n",
            "R[write to console]: downloaded 144 KB\n",
            "\n",
            "\n",
            "R[write to console]: trying URL 'https://cran.rstudio.com/src/contrib/trend_1.1.4.tar.gz'\n",
            "\n",
            "R[write to console]: Content type 'application/x-gzip'\n",
            "R[write to console]:  length 281365 bytes (274 KB)\n",
            "\n",
            "R[write to console]: =\n",
            "R[write to console]: =\n",
            "R[write to console]: =\n",
            "R[write to console]: =\n",
            "R[write to console]: =\n",
            "R[write to console]: =\n",
            "R[write to console]: =\n",
            "R[write to console]: =\n",
            "R[write to console]: =\n",
            "R[write to console]: =\n",
            "R[write to console]: =\n",
            "R[write to console]: =\n",
            "R[write to console]: =\n",
            "R[write to console]: =\n",
            "R[write to console]: =\n",
            "R[write to console]: =\n",
            "R[write to console]: =\n",
            "R[write to console]: =\n",
            "R[write to console]: =\n",
            "R[write to console]: =\n",
            "R[write to console]: =\n",
            "R[write to console]: =\n",
            "R[write to console]: =\n",
            "R[write to console]: =\n",
            "R[write to console]: =\n",
            "R[write to console]: =\n",
            "R[write to console]: =\n",
            "R[write to console]: =\n",
            "R[write to console]: =\n",
            "R[write to console]: =\n",
            "R[write to console]: =\n",
            "R[write to console]: =\n",
            "R[write to console]: =\n",
            "R[write to console]: =\n",
            "R[write to console]: =\n",
            "R[write to console]: =\n",
            "R[write to console]: =\n",
            "R[write to console]: =\n",
            "R[write to console]: =\n",
            "R[write to console]: =\n",
            "R[write to console]: =\n",
            "R[write to console]: =\n",
            "R[write to console]: =\n",
            "R[write to console]: =\n",
            "R[write to console]: =\n",
            "R[write to console]: =\n",
            "R[write to console]: =\n",
            "R[write to console]: =\n",
            "R[write to console]: =\n",
            "R[write to console]: =\n",
            "R[write to console]: \n",
            "\n",
            "R[write to console]: downloaded 274 KB\n",
            "\n",
            "\n",
            "R[write to console]: \n",
            "\n",
            "R[write to console]: \n",
            "R[write to console]: The downloaded source packages are in\n",
            "\t‘/tmp/Rtmpekbde7/downloaded_packages’\n",
            "R[write to console]: \n",
            "R[write to console]: \n",
            "\n"
          ],
          "name": "stderr"
        }
      ]
    },
    {
      "cell_type": "code",
      "metadata": {
        "colab": {
          "base_uri": "https://localhost:8080/"
        },
        "id": "S8XJZsv7jYFD",
        "outputId": "d832c62f-6d4a-47d6-c8c3-d7320ea2a608"
      },
      "source": [
        "%%R\n",
        "\n",
        "install.packages(\"Kendall\")"
      ],
      "execution_count": null,
      "outputs": [
        {
          "output_type": "stream",
          "text": [
            "R[write to console]: Installing package into ‘/usr/local/lib/R/site-library’\n",
            "(as ‘lib’ is unspecified)\n",
            "\n",
            "R[write to console]: trying URL 'https://cran.rstudio.com/src/contrib/Kendall_2.2.tar.gz'\n",
            "\n",
            "R[write to console]: Content type 'application/x-gzip'\n",
            "R[write to console]:  length 10880 bytes (10 KB)\n",
            "\n",
            "R[write to console]: =\n",
            "R[write to console]: =\n",
            "R[write to console]: =\n",
            "R[write to console]: =\n",
            "R[write to console]: =\n",
            "R[write to console]: =\n",
            "R[write to console]: =\n",
            "R[write to console]: =\n",
            "R[write to console]: =\n",
            "R[write to console]: =\n",
            "R[write to console]: =\n",
            "R[write to console]: =\n",
            "R[write to console]: =\n",
            "R[write to console]: =\n",
            "R[write to console]: =\n",
            "R[write to console]: =\n",
            "R[write to console]: =\n",
            "R[write to console]: =\n",
            "R[write to console]: =\n",
            "R[write to console]: =\n",
            "R[write to console]: =\n",
            "R[write to console]: =\n",
            "R[write to console]: =\n",
            "R[write to console]: =\n",
            "R[write to console]: =\n",
            "R[write to console]: =\n",
            "R[write to console]: =\n",
            "R[write to console]: =\n",
            "R[write to console]: =\n",
            "R[write to console]: =\n",
            "R[write to console]: =\n",
            "R[write to console]: =\n",
            "R[write to console]: =\n",
            "R[write to console]: =\n",
            "R[write to console]: =\n",
            "R[write to console]: =\n",
            "R[write to console]: =\n",
            "R[write to console]: =\n",
            "R[write to console]: =\n",
            "R[write to console]: =\n",
            "R[write to console]: =\n",
            "R[write to console]: =\n",
            "R[write to console]: =\n",
            "R[write to console]: =\n",
            "R[write to console]: =\n",
            "R[write to console]: =\n",
            "R[write to console]: =\n",
            "R[write to console]: =\n",
            "R[write to console]: =\n",
            "R[write to console]: =\n",
            "R[write to console]: \n",
            "\n",
            "R[write to console]: downloaded 10 KB\n",
            "\n",
            "\n",
            "R[write to console]: \n",
            "\n",
            "R[write to console]: \n",
            "R[write to console]: The downloaded source packages are in\n",
            "\t‘/tmp/Rtmpekbde7/downloaded_packages’\n",
            "R[write to console]: \n",
            "R[write to console]: \n",
            "\n"
          ],
          "name": "stderr"
        }
      ]
    },
    {
      "cell_type": "markdown",
      "metadata": {
        "id": "-FINODDdm4fN"
      },
      "source": [
        "## Instalando a biblioteca do *Python*\n",
        "\n",
        "Em *Python* há apenas a biblioteca *pymannkendall*, mas é uma biblioteca bastante extensa e com mais testes de tendência.\n",
        "\n",
        "Documentação : [**pymannkendall**](https://github.com/mmhs013/pyMannKendall)."
      ]
    },
    {
      "cell_type": "code",
      "metadata": {
        "colab": {
          "base_uri": "https://localhost:8080/"
        },
        "id": "JnXSnzkcjYHq",
        "outputId": "73ad1900-1cff-4770-9cf9-941d6ed103e1"
      },
      "source": [
        "pip install pymannkendall"
      ],
      "execution_count": null,
      "outputs": [
        {
          "output_type": "stream",
          "text": [
            "Collecting pymannkendall\n",
            "  Downloading https://files.pythonhosted.org/packages/03/72/7eeda485b586ddaaa274225bb2aa365f3a24c94790283d7c230bcecbb28e/pymannkendall-1.4.2-py3-none-any.whl\n",
            "Requirement already satisfied: numpy in /usr/local/lib/python3.7/dist-packages (from pymannkendall) (1.19.5)\n",
            "Requirement already satisfied: scipy in /usr/local/lib/python3.7/dist-packages (from pymannkendall) (1.4.1)\n",
            "Installing collected packages: pymannkendall\n",
            "Successfully installed pymannkendall-1.4.2\n"
          ],
          "name": "stdout"
        }
      ]
    },
    {
      "cell_type": "markdown",
      "metadata": {
        "id": "ur0P_VejnAgO"
      },
      "source": [
        "## Importando os pacotes e a biblioteca"
      ]
    },
    {
      "cell_type": "code",
      "metadata": {
        "id": "PnFYN2F5llKq"
      },
      "source": [
        "%%R\n",
        "\n",
        "library(trend)\n",
        "library(Kendall)"
      ],
      "execution_count": null,
      "outputs": []
    },
    {
      "cell_type": "code",
      "metadata": {
        "id": "5cJdZTL_kxhU"
      },
      "source": [
        "import pymannkendall as mk\n",
        "import pandas as pd"
      ],
      "execution_count": null,
      "outputs": []
    },
    {
      "cell_type": "markdown",
      "metadata": {
        "id": "JXpnIdWMnGvV"
      },
      "source": [
        "## Importando a base de dados\n",
        "\n",
        "Os dados foram extraídos do *Federal Reserve Bank* e podem ser extraídos [aqui](https://fred.stlouisfed.org/series/MRTSSM4453USS). A série trata de Vendas no varejo de lojas de cerveja, vinho e licores nos Estados Unidos."
      ]
    },
    {
      "cell_type": "code",
      "metadata": {
        "id": "LbVnbmlxjYJu"
      },
      "source": [
        "%%R\n",
        "#em R\n",
        "serie = read.csv('MRTSSM4453USS.csv')"
      ],
      "execution_count": null,
      "outputs": []
    },
    {
      "cell_type": "code",
      "metadata": {
        "id": "0xDTHT_AjYLx"
      },
      "source": [
        "#em Python\n",
        "serie = pd.read_csv('MRTSSM4453USS.csv')"
      ],
      "execution_count": null,
      "outputs": []
    },
    {
      "cell_type": "markdown",
      "metadata": {
        "id": "BFUoSR6ysRbF"
      },
      "source": [
        "Últimas observações."
      ]
    },
    {
      "cell_type": "code",
      "metadata": {
        "colab": {
          "base_uri": "https://localhost:8080/"
        },
        "id": "qnR-laGasOnW",
        "outputId": "e421ca87-079a-422e-b2fd-ad955293215f"
      },
      "source": [
        "%%R\n",
        "\n",
        "tail(serie)"
      ],
      "execution_count": null,
      "outputs": [
        {
          "output_type": "stream",
          "text": [
            "          DATE MRTSSM4453USS\n",
            "336 2019-12-01          5065\n",
            "337 2020-01-01          5114\n",
            "338 2020-02-01          5145\n",
            "339 2020-03-01          6065\n",
            "340 2020-04-01          5569\n",
            "341 2020-05-01          6072\n"
          ],
          "name": "stdout"
        }
      ]
    },
    {
      "cell_type": "code",
      "metadata": {
        "colab": {
          "base_uri": "https://localhost:8080/",
          "height": 200
        },
        "id": "CkPA5lTTsOlI",
        "outputId": "beb77f5d-86ae-4c05-cc35-364e27f04a19"
      },
      "source": [
        "serie.tail()"
      ],
      "execution_count": null,
      "outputs": [
        {
          "output_type": "execute_result",
          "data": {
            "text/html": [
              "<div>\n",
              "<style scoped>\n",
              "    .dataframe tbody tr th:only-of-type {\n",
              "        vertical-align: middle;\n",
              "    }\n",
              "\n",
              "    .dataframe tbody tr th {\n",
              "        vertical-align: top;\n",
              "    }\n",
              "\n",
              "    .dataframe thead th {\n",
              "        text-align: right;\n",
              "    }\n",
              "</style>\n",
              "<table border=\"1\" class=\"dataframe\">\n",
              "  <thead>\n",
              "    <tr style=\"text-align: right;\">\n",
              "      <th></th>\n",
              "      <th>DATE</th>\n",
              "      <th>MRTSSM4453USS</th>\n",
              "    </tr>\n",
              "  </thead>\n",
              "  <tbody>\n",
              "    <tr>\n",
              "      <th>336</th>\n",
              "      <td>2020-01-01</td>\n",
              "      <td>5114</td>\n",
              "    </tr>\n",
              "    <tr>\n",
              "      <th>337</th>\n",
              "      <td>2020-02-01</td>\n",
              "      <td>5145</td>\n",
              "    </tr>\n",
              "    <tr>\n",
              "      <th>338</th>\n",
              "      <td>2020-03-01</td>\n",
              "      <td>6065</td>\n",
              "    </tr>\n",
              "    <tr>\n",
              "      <th>339</th>\n",
              "      <td>2020-04-01</td>\n",
              "      <td>5569</td>\n",
              "    </tr>\n",
              "    <tr>\n",
              "      <th>340</th>\n",
              "      <td>2020-05-01</td>\n",
              "      <td>6072</td>\n",
              "    </tr>\n",
              "  </tbody>\n",
              "</table>\n",
              "</div>"
            ],
            "text/plain": [
              "           DATE  MRTSSM4453USS\n",
              "336  2020-01-01           5114\n",
              "337  2020-02-01           5145\n",
              "338  2020-03-01           6065\n",
              "339  2020-04-01           5569\n",
              "340  2020-05-01           6072"
            ]
          },
          "metadata": {
            "tags": []
          },
          "execution_count": 25
        }
      ]
    },
    {
      "cell_type": "markdown",
      "metadata": {
        "id": "T76TfmU4qpG_"
      },
      "source": [
        "## Aplicando o teste de *Mann-Kendall*\n",
        "\n",
        "Pacote *trend*"
      ]
    },
    {
      "cell_type": "code",
      "metadata": {
        "colab": {
          "base_uri": "https://localhost:8080/"
        },
        "id": "rUsG82O1jAAQ",
        "outputId": "ce537b21-bee3-4c0c-efbd-8076d774b1b5"
      },
      "source": [
        "%%R\n",
        "\n",
        "mk.test(serie$MRTSSM4453USS)"
      ],
      "execution_count": null,
      "outputs": [
        {
          "output_type": "stream",
          "text": [
            "\n",
            "\tMann-Kendall trend test\n",
            "\n",
            "data:  serie$MRTSSM4453USS\n",
            "z = 26.657, n = 341, p-value < 2.2e-16\n",
            "alternative hypothesis: true S is not equal to 0\n",
            "sample estimates:\n",
            "           S         varS          tau \n",
            "5.607700e+04 4.425028e+06 9.674704e-01 \n",
            "\n"
          ],
          "name": "stdout"
        }
      ]
    },
    {
      "cell_type": "markdown",
      "metadata": {
        "id": "HsGpibF0q430"
      },
      "source": [
        "Pacote *MannKendall*"
      ]
    },
    {
      "cell_type": "code",
      "metadata": {
        "colab": {
          "base_uri": "https://localhost:8080/"
        },
        "id": "fVr1QzaGkg6R",
        "outputId": "e36ff442-0064-48dd-d25b-d0a2fccb58e9"
      },
      "source": [
        "%%R\n",
        "\n",
        "MannKendall(serie$MRTSSM4453USS)"
      ],
      "execution_count": null,
      "outputs": [
        {
          "output_type": "stream",
          "text": [
            "tau = 0.967, 2-sided pvalue =< 2.22e-16\n"
          ],
          "name": "stdout"
        }
      ]
    },
    {
      "cell_type": "markdown",
      "metadata": {
        "id": "Gauh4Zt2q9FB"
      },
      "source": [
        "Biblioteca *pymannkendall*"
      ]
    },
    {
      "cell_type": "code",
      "metadata": {
        "colab": {
          "base_uri": "https://localhost:8080/"
        },
        "id": "HRTBMLLYjYQA",
        "outputId": "621cf8a0-5091-4743-8757-068407c795f6"
      },
      "source": [
        "#teste Mann-Kendall\n",
        "resultado = mk.original_test(serie['MRTSSM4453USS'])\n",
        "\n",
        "#Nome dos resultados\n",
        "nomes = ['Tendência','Presença de tendência','p-valor','Estatística do teste',\n",
        "         'Tau Kendall','Pontuação Kendall','Variância S','Declive','Intercepto']\n",
        "\n",
        "#\n",
        "for i,j in zip(nomes,resultado):\n",
        "  print(i,\":\",j)"
      ],
      "execution_count": null,
      "outputs": [
        {
          "output_type": "stream",
          "text": [
            "Tendência : increasing\n",
            "Presença de tendência : True\n",
            "p-valor : 0.0\n",
            "Estatística do teste : 26.657474298711687\n",
            "Tau Kendall : 0.9673451785406244\n",
            "Pontuação Kendall : 56077.0\n",
            "Variância S : 4425028.333333333\n",
            "Declive : 9.854623154623155\n",
            "Intercepto : 1296.7140637140635\n"
          ],
          "name": "stdout"
        }
      ]
    },
    {
      "cell_type": "markdown",
      "metadata": {
        "id": "E0JwlZ5TrJI0"
      },
      "source": [
        "## Interpretação do teste\n",
        "\n",
        "Todos os teste, em sua estrutura padrão, apresentaram resultados com pouquíssimas diferenças. Como o *p-valor* ficou abaixo de 5% (nível de significância padrão), rejeitamos a hipótese nula de ausência de tendência nos dados.\n",
        "\n",
        "Agora que temos a tendência, resta saber por meio do teste se ela é crescente ou decrescente. Isso é averiguado por meio da estatística $\\tau$ gerada: se for positiva, a tendência é ascendente; se o sinal for negativo, a tendência será descendente. E como observado anteriormente, o valor foi $S = 56077$, logo a tendência da série é de aumento ao longo do tempo."
      ]
    },
    {
      "cell_type": "markdown",
      "metadata": {
        "id": "uEHrRNcLsiPZ"
      },
      "source": [
        "Plotando a série temporal em *R*."
      ]
    },
    {
      "cell_type": "code",
      "metadata": {
        "colab": {
          "base_uri": "https://localhost:8080/",
          "height": 497
        },
        "id": "jGNQiIgXsOpn",
        "outputId": "eb1ba857-e71c-4788-c517-40aa32e5e058"
      },
      "source": [
        "%%R\n",
        "\n",
        "plot(serie$MRTSSM4453USS,  type = \"l\")"
      ],
      "execution_count": null,
      "outputs": [
        {
          "output_type": "display_data",
          "data": {
            "image/png": "[encoded data removed]"
          },
          "metadata": {
            "tags": []
          }
        }
      ]
    },
    {
      "cell_type": "markdown",
      "metadata": {
        "id": "lKDOVAwBDEKI"
      },
      "source": [
        "Plotando a série temporal em *Python*."
      ]
    },
    {
      "cell_type": "code",
      "metadata": {
        "colab": {
          "base_uri": "https://localhost:8080/",
          "height": 427
        },
        "id": "GWZICCvDsOsS",
        "outputId": "56493107-ff6b-4722-b4f9-99feb2e8d5a1"
      },
      "source": [
        "serie.plot(figsize=(7,7));"
      ],
      "execution_count": null,
      "outputs": [
        {
          "output_type": "display_data",
          "data": {
            "image/png": "[encoded data removed]",
            "text/plain": [
              "<Figure size 504x504 with 1 Axes>"
            ]
          },
          "metadata": {
            "tags": [],
            "needs_background": "light"
          }
        }
      ]
    }
  ]
}