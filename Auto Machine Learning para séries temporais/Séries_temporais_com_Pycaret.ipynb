{
  "nbformat": 4,
  "nbformat_minor": 0,
  "metadata": {
    "colab": {
      "name": "Séries temporais com Pycaret.ipynb",
      "provenance": []
    },
    "kernelspec": {
      "display_name": "Python 3",
      "name": "python3"
    },
    "language_info": {
      "name": "python"
    },
    "widgets": {
      "application/vnd.jupyter.widget-state+json": {
        "c7dab02ec8f54c5e81c749a6f9af3bea": {
          "model_module": "@jupyter-widgets/controls",
          "model_name": "IntProgressModel",
          "state": {
            "_view_name": "ProgressView",
            "style": "IPY_MODEL_2daeaf29ca694590b3ac3dd21bd24b1a",
            "_dom_classes": [],
            "description": "Processing: ",
            "_model_name": "IntProgressModel",
            "bar_style": "",
            "max": 144,
            "_view_module": "@jupyter-widgets/controls",
            "_model_module_version": "1.5.0",
            "value": 144,
            "_view_count": null,
            "_view_module_version": "1.5.0",
            "orientation": "horizontal",
            "min": 0,
            "description_tooltip": null,
            "_model_module": "@jupyter-widgets/controls",
            "layout": "IPY_MODEL_8ad2a36fc09c4cb5bbf2af8f44b2569e"
          }
        },
        "2daeaf29ca694590b3ac3dd21bd24b1a": {
          "model_module": "@jupyter-widgets/controls",
          "model_name": "ProgressStyleModel",
          "state": {
            "_view_name": "StyleView",
            "_model_name": "ProgressStyleModel",
            "description_width": "",
            "_view_module": "@jupyter-widgets/base",
            "_model_module_version": "1.5.0",
            "_view_count": null,
            "_view_module_version": "1.2.0",
            "bar_color": null,
            "_model_module": "@jupyter-widgets/controls"
          }
        },
        "8ad2a36fc09c4cb5bbf2af8f44b2569e": {
          "model_module": "@jupyter-widgets/base",
          "model_name": "LayoutModel",
          "state": {
            "_view_name": "LayoutView",
            "grid_template_rows": null,
            "right": null,
            "justify_content": null,
            "_view_module": "@jupyter-widgets/base",
            "overflow": null,
            "_model_module_version": "1.2.0",
            "_view_count": null,
            "flex_flow": null,
            "width": null,
            "min_width": null,
            "border": null,
            "align_items": null,
            "bottom": null,
            "_model_module": "@jupyter-widgets/base",
            "top": null,
            "grid_column": null,
            "overflow_y": null,
            "overflow_x": null,
            "grid_auto_flow": null,
            "grid_area": null,
            "grid_template_columns": null,
            "flex": null,
            "_model_name": "LayoutModel",
            "justify_items": null,
            "grid_row": null,
            "max_height": null,
            "align_content": null,
            "visibility": null,
            "align_self": null,
            "height": null,
            "min_height": null,
            "padding": null,
            "grid_auto_rows": null,
            "grid_gap": null,
            "max_width": null,
            "order": null,
            "_view_module_version": "1.2.0",
            "grid_template_areas": null,
            "object_position": null,
            "object_fit": null,
            "grid_auto_columns": null,
            "margin": null,
            "display": null,
            "left": null
          }
        },
        "f1aa64ff275a4e12bad784b2ab8045f3": {
          "model_module": "@jupyter-widgets/controls",
          "model_name": "IntProgressModel",
          "state": {
            "_view_name": "ProgressView",
            "style": "IPY_MODEL_e197e229d4bf457781e20eef59271301",
            "_dom_classes": [],
            "description": "Processing: ",
            "_model_name": "IntProgressModel",
            "bar_style": "",
            "max": 4,
            "_view_module": "@jupyter-widgets/controls",
            "_model_module_version": "1.5.0",
            "value": 4,
            "_view_count": null,
            "_view_module_version": "1.5.0",
            "orientation": "horizontal",
            "min": 0,
            "description_tooltip": null,
            "_model_module": "@jupyter-widgets/controls",
            "layout": "IPY_MODEL_882d6216c2604b5ab5bc8ac1d4363ebd"
          }
        },
        "e197e229d4bf457781e20eef59271301": {
          "model_module": "@jupyter-widgets/controls",
          "model_name": "ProgressStyleModel",
          "state": {
            "_view_name": "StyleView",
            "_model_name": "ProgressStyleModel",
            "description_width": "",
            "_view_module": "@jupyter-widgets/base",
            "_model_module_version": "1.5.0",
            "_view_count": null,
            "_view_module_version": "1.2.0",
            "bar_color": null,
            "_model_module": "@jupyter-widgets/controls"
          }
        },
        "882d6216c2604b5ab5bc8ac1d4363ebd": {
          "model_module": "@jupyter-widgets/base",
          "model_name": "LayoutModel",
          "state": {
            "_view_name": "LayoutView",
            "grid_template_rows": null,
            "right": null,
            "justify_content": null,
            "_view_module": "@jupyter-widgets/base",
            "overflow": null,
            "_model_module_version": "1.2.0",
            "_view_count": null,
            "flex_flow": null,
            "width": null,
            "min_width": null,
            "border": null,
            "align_items": null,
            "bottom": null,
            "_model_module": "@jupyter-widgets/base",
            "top": null,
            "grid_column": null,
            "overflow_y": null,
            "overflow_x": null,
            "grid_auto_flow": null,
            "grid_area": null,
            "grid_template_columns": null,
            "flex": null,
            "_model_name": "LayoutModel",
            "justify_items": null,
            "grid_row": null,
            "max_height": null,
            "align_content": null,
            "visibility": null,
            "align_self": null,
            "height": null,
            "min_height": null,
            "padding": null,
            "grid_auto_rows": null,
            "grid_gap": null,
            "max_width": null,
            "order": null,
            "_view_module_version": "1.2.0",
            "grid_template_areas": null,
            "object_position": null,
            "object_fit": null,
            "grid_auto_columns": null,
            "margin": null,
            "display": null,
            "left": null
          }
        },
        "f32ec7a6f14a4610a2453d0c474c60ae": {
          "model_module": "@jupyter-widgets/controls",
          "model_name": "IntProgressModel",
          "state": {
            "_view_name": "ProgressView",
            "style": "IPY_MODEL_25a91cab7a8c48869580a419add5f9cf",
            "_dom_classes": [],
            "description": "Processing: ",
            "_model_name": "IntProgressModel",
            "bar_style": "",
            "max": 4,
            "_view_module": "@jupyter-widgets/controls",
            "_model_module_version": "1.5.0",
            "value": 4,
            "_view_count": null,
            "_view_module_version": "1.5.0",
            "orientation": "horizontal",
            "min": 0,
            "description_tooltip": null,
            "_model_module": "@jupyter-widgets/controls",
            "layout": "IPY_MODEL_90751ed1e1254eccbd02f7e2730fe196"
          }
        },
        "25a91cab7a8c48869580a419add5f9cf": {
          "model_module": "@jupyter-widgets/controls",
          "model_name": "ProgressStyleModel",
          "state": {
            "_view_name": "StyleView",
            "_model_name": "ProgressStyleModel",
            "description_width": "",
            "_view_module": "@jupyter-widgets/base",
            "_model_module_version": "1.5.0",
            "_view_count": null,
            "_view_module_version": "1.2.0",
            "bar_color": null,
            "_model_module": "@jupyter-widgets/controls"
          }
        },
        "90751ed1e1254eccbd02f7e2730fe196": {
          "model_module": "@jupyter-widgets/base",
          "model_name": "LayoutModel",
          "state": {
            "_view_name": "LayoutView",
            "grid_template_rows": null,
            "right": null,
            "justify_content": null,
            "_view_module": "@jupyter-widgets/base",
            "overflow": null,
            "_model_module_version": "1.2.0",
            "_view_count": null,
            "flex_flow": null,
            "width": null,
            "min_width": null,
            "border": null,
            "align_items": null,
            "bottom": null,
            "_model_module": "@jupyter-widgets/base",
            "top": null,
            "grid_column": null,
            "overflow_y": null,
            "overflow_x": null,
            "grid_auto_flow": null,
            "grid_area": null,
            "grid_template_columns": null,
            "flex": null,
            "_model_name": "LayoutModel",
            "justify_items": null,
            "grid_row": null,
            "max_height": null,
            "align_content": null,
            "visibility": null,
            "align_self": null,
            "height": null,
            "min_height": null,
            "padding": null,
            "grid_auto_rows": null,
            "grid_gap": null,
            "max_width": null,
            "order": null,
            "_view_module_version": "1.2.0",
            "grid_template_areas": null,
            "object_position": null,
            "object_fit": null,
            "grid_auto_columns": null,
            "margin": null,
            "display": null,
            "left": null
          }
        },
        "e3555f7c8db94298967c77bbcb11a059": {
          "model_module": "@jupyter-widgets/controls",
          "model_name": "IntProgressModel",
          "state": {
            "_view_name": "ProgressView",
            "style": "IPY_MODEL_9f96eed094584e7ead9ab17e4dfb3552",
            "_dom_classes": [],
            "description": "Processing: ",
            "_model_name": "IntProgressModel",
            "bar_style": "",
            "max": 4,
            "_view_module": "@jupyter-widgets/controls",
            "_model_module_version": "1.5.0",
            "value": 4,
            "_view_count": null,
            "_view_module_version": "1.5.0",
            "orientation": "horizontal",
            "min": 0,
            "description_tooltip": null,
            "_model_module": "@jupyter-widgets/controls",
            "layout": "IPY_MODEL_f1f07bd6201143f39243b0d999369d9d"
          }
        },
        "9f96eed094584e7ead9ab17e4dfb3552": {
          "model_module": "@jupyter-widgets/controls",
          "model_name": "ProgressStyleModel",
          "state": {
            "_view_name": "StyleView",
            "_model_name": "ProgressStyleModel",
            "description_width": "",
            "_view_module": "@jupyter-widgets/base",
            "_model_module_version": "1.5.0",
            "_view_count": null,
            "_view_module_version": "1.2.0",
            "bar_color": null,
            "_model_module": "@jupyter-widgets/controls"
          }
        },
        "f1f07bd6201143f39243b0d999369d9d": {
          "model_module": "@jupyter-widgets/base",
          "model_name": "LayoutModel",
          "state": {
            "_view_name": "LayoutView",
            "grid_template_rows": null,
            "right": null,
            "justify_content": null,
            "_view_module": "@jupyter-widgets/base",
            "overflow": null,
            "_model_module_version": "1.2.0",
            "_view_count": null,
            "flex_flow": null,
            "width": null,
            "min_width": null,
            "border": null,
            "align_items": null,
            "bottom": null,
            "_model_module": "@jupyter-widgets/base",
            "top": null,
            "grid_column": null,
            "overflow_y": null,
            "overflow_x": null,
            "grid_auto_flow": null,
            "grid_area": null,
            "grid_template_columns": null,
            "flex": null,
            "_model_name": "LayoutModel",
            "justify_items": null,
            "grid_row": null,
            "max_height": null,
            "align_content": null,
            "visibility": null,
            "align_self": null,
            "height": null,
            "min_height": null,
            "padding": null,
            "grid_auto_rows": null,
            "grid_gap": null,
            "max_width": null,
            "order": null,
            "_view_module_version": "1.2.0",
            "grid_template_areas": null,
            "object_position": null,
            "object_fit": null,
            "grid_auto_columns": null,
            "margin": null,
            "display": null,
            "left": null
          }
        },
        "9f0a9b63d9534496878a98818926906a": {
          "model_module": "@jupyter-widgets/controls",
          "model_name": "IntProgressModel",
          "state": {
            "_view_name": "ProgressView",
            "style": "IPY_MODEL_b2888c2862a040c5b244ee5b86f0c599",
            "_dom_classes": [],
            "description": "Processing: ",
            "_model_name": "IntProgressModel",
            "bar_style": "",
            "max": 7,
            "_view_module": "@jupyter-widgets/controls",
            "_model_module_version": "1.5.0",
            "value": 7,
            "_view_count": null,
            "_view_module_version": "1.5.0",
            "orientation": "horizontal",
            "min": 0,
            "description_tooltip": null,
            "_model_module": "@jupyter-widgets/controls",
            "layout": "IPY_MODEL_570f5e6bb2044ac5af0ba4a39b65022c"
          }
        },
        "b2888c2862a040c5b244ee5b86f0c599": {
          "model_module": "@jupyter-widgets/controls",
          "model_name": "ProgressStyleModel",
          "state": {
            "_view_name": "StyleView",
            "_model_name": "ProgressStyleModel",
            "description_width": "",
            "_view_module": "@jupyter-widgets/base",
            "_model_module_version": "1.5.0",
            "_view_count": null,
            "_view_module_version": "1.2.0",
            "bar_color": null,
            "_model_module": "@jupyter-widgets/controls"
          }
        },
        "570f5e6bb2044ac5af0ba4a39b65022c": {
          "model_module": "@jupyter-widgets/base",
          "model_name": "LayoutModel",
          "state": {
            "_view_name": "LayoutView",
            "grid_template_rows": null,
            "right": null,
            "justify_content": null,
            "_view_module": "@jupyter-widgets/base",
            "overflow": null,
            "_model_module_version": "1.2.0",
            "_view_count": null,
            "flex_flow": null,
            "width": null,
            "min_width": null,
            "border": null,
            "align_items": null,
            "bottom": null,
            "_model_module": "@jupyter-widgets/base",
            "top": null,
            "grid_column": null,
            "overflow_y": null,
            "overflow_x": null,
            "grid_auto_flow": null,
            "grid_area": null,
            "grid_template_columns": null,
            "flex": null,
            "_model_name": "LayoutModel",
            "justify_items": null,
            "grid_row": null,
            "max_height": null,
            "align_content": null,
            "visibility": null,
            "align_self": null,
            "height": null,
            "min_height": null,
            "padding": null,
            "grid_auto_rows": null,
            "grid_gap": null,
            "max_width": null,
            "order": null,
            "_view_module_version": "1.2.0",
            "grid_template_areas": null,
            "object_position": null,
            "object_fit": null,
            "grid_auto_columns": null,
            "margin": null,
            "display": null,
            "left": null
          }
        },
        "1d969ce285e64ce69a887e185ec19f08": {
          "model_module": "@jupyter-widgets/controls",
          "model_name": "IntProgressModel",
          "state": {
            "_view_name": "ProgressView",
            "style": "IPY_MODEL_008e70f16fe045eca9a6cd4d7ee6fa68",
            "_dom_classes": [],
            "description": "Processing: ",
            "_model_name": "IntProgressModel",
            "bar_style": "",
            "max": 7,
            "_view_module": "@jupyter-widgets/controls",
            "_model_module_version": "1.5.0",
            "value": 7,
            "_view_count": null,
            "_view_module_version": "1.5.0",
            "orientation": "horizontal",
            "min": 0,
            "description_tooltip": null,
            "_model_module": "@jupyter-widgets/controls",
            "layout": "IPY_MODEL_b253bef965f14965a09590bd8de8e099"
          }
        },
        "008e70f16fe045eca9a6cd4d7ee6fa68": {
          "model_module": "@jupyter-widgets/controls",
          "model_name": "ProgressStyleModel",
          "state": {
            "_view_name": "StyleView",
            "_model_name": "ProgressStyleModel",
            "description_width": "",
            "_view_module": "@jupyter-widgets/base",
            "_model_module_version": "1.5.0",
            "_view_count": null,
            "_view_module_version": "1.2.0",
            "bar_color": null,
            "_model_module": "@jupyter-widgets/controls"
          }
        },
        "b253bef965f14965a09590bd8de8e099": {
          "model_module": "@jupyter-widgets/base",
          "model_name": "LayoutModel",
          "state": {
            "_view_name": "LayoutView",
            "grid_template_rows": null,
            "right": null,
            "justify_content": null,
            "_view_module": "@jupyter-widgets/base",
            "overflow": null,
            "_model_module_version": "1.2.0",
            "_view_count": null,
            "flex_flow": null,
            "width": null,
            "min_width": null,
            "border": null,
            "align_items": null,
            "bottom": null,
            "_model_module": "@jupyter-widgets/base",
            "top": null,
            "grid_column": null,
            "overflow_y": null,
            "overflow_x": null,
            "grid_auto_flow": null,
            "grid_area": null,
            "grid_template_columns": null,
            "flex": null,
            "_model_name": "LayoutModel",
            "justify_items": null,
            "grid_row": null,
            "max_height": null,
            "align_content": null,
            "visibility": null,
            "align_self": null,
            "height": null,
            "min_height": null,
            "padding": null,
            "grid_auto_rows": null,
            "grid_gap": null,
            "max_width": null,
            "order": null,
            "_view_module_version": "1.2.0",
            "grid_template_areas": null,
            "object_position": null,
            "object_fit": null,
            "grid_auto_columns": null,
            "margin": null,
            "display": null,
            "left": null
          }
        },
        "4707c5e3e36742cc98f829e1e3efde0d": {
          "model_module": "@jupyter-widgets/controls",
          "model_name": "IntProgressModel",
          "state": {
            "_view_name": "ProgressView",
            "style": "IPY_MODEL_4f6217b5e03744e184f3dedae191f46a",
            "_dom_classes": [],
            "description": "Processing: ",
            "_model_name": "IntProgressModel",
            "bar_style": "",
            "max": 7,
            "_view_module": "@jupyter-widgets/controls",
            "_model_module_version": "1.5.0",
            "value": 7,
            "_view_count": null,
            "_view_module_version": "1.5.0",
            "orientation": "horizontal",
            "min": 0,
            "description_tooltip": null,
            "_model_module": "@jupyter-widgets/controls",
            "layout": "IPY_MODEL_6e6c556f9c354bc1b3c4b104affd73e9"
          }
        },
        "4f6217b5e03744e184f3dedae191f46a": {
          "model_module": "@jupyter-widgets/controls",
          "model_name": "ProgressStyleModel",
          "state": {
            "_view_name": "StyleView",
            "_model_name": "ProgressStyleModel",
            "description_width": "",
            "_view_module": "@jupyter-widgets/base",
            "_model_module_version": "1.5.0",
            "_view_count": null,
            "_view_module_version": "1.2.0",
            "bar_color": null,
            "_model_module": "@jupyter-widgets/controls"
          }
        },
        "6e6c556f9c354bc1b3c4b104affd73e9": {
          "model_module": "@jupyter-widgets/base",
          "model_name": "LayoutModel",
          "state": {
            "_view_name": "LayoutView",
            "grid_template_rows": null,
            "right": null,
            "justify_content": null,
            "_view_module": "@jupyter-widgets/base",
            "overflow": null,
            "_model_module_version": "1.2.0",
            "_view_count": null,
            "flex_flow": null,
            "width": null,
            "min_width": null,
            "border": null,
            "align_items": null,
            "bottom": null,
            "_model_module": "@jupyter-widgets/base",
            "top": null,
            "grid_column": null,
            "overflow_y": null,
            "overflow_x": null,
            "grid_auto_flow": null,
            "grid_area": null,
            "grid_template_columns": null,
            "flex": null,
            "_model_name": "LayoutModel",
            "justify_items": null,
            "grid_row": null,
            "max_height": null,
            "align_content": null,
            "visibility": null,
            "align_self": null,
            "height": null,
            "min_height": null,
            "padding": null,
            "grid_auto_rows": null,
            "grid_gap": null,
            "max_width": null,
            "order": null,
            "_view_module_version": "1.2.0",
            "grid_template_areas": null,
            "object_position": null,
            "object_fit": null,
            "grid_auto_columns": null,
            "margin": null,
            "display": null,
            "left": null
          }
        }
      }
    }
  },
  "cells": [
    {
      "cell_type": "markdown",
      "metadata": {
        "id": "-swdjVCCyCyx"
      },
      "source": [
        "# Séries temporais com *Pycaret*\n",
        "\n",
        "Aplicação do novo módulo da biblioteca *Pycaret* para modelagem e previsões de séries temporais. Em um projeto anterior foi usado o módulo de regressão dessa mesma biblioteca, onde nas configurações (*setup*) da geração dos modelos foi inserido *fold_strategy*=*'timeseries'*. Porém mesmo com essa modificação de parâmetros, o módulo não é muito adequado para séries temporais. Com esse novo módulo, foram inseridos os modelos de baseline (*snaive* e *naive*), os convencionais para séries temporais (Suavização exponencial, ARIMA, ETS e AutoARIMA), modelos mais elaborados (*Prophet*, *BATS*, *TBATS* e *Tetha*) e modelos que utilizam modelos clássicos de *machine learning*.\n",
        "\n",
        "\n",
        "## Instalação da biblioteca com o módulo de séries temporais"
      ]
    },
    {
      "cell_type": "code",
      "metadata": {
        "colab": {
          "base_uri": "https://localhost:8080/"
        },
        "id": "CkvYrscNHqJy",
        "outputId": "66819aff-062d-4d48-aecd-a4b122ca0917"
      },
      "source": [
        "pip install pycaret-ts-alpha"
      ],
      "execution_count": 1,
      "outputs": [
        {
          "output_type": "stream",
          "text": [
            "Collecting pycaret-ts-alpha\n",
            "\u001b[?25l  Downloading https://files.pythonhosted.org/packages/c9/d4/6795de75fc7db923f74f1307b646e5509eff95c62b45de04afa47b3e6ec6/pycaret_ts_alpha-3.0.0.dev1624743408-py3-none-any.whl (426kB)\n",
            "\u001b[K     |████████████████████████████████| 430kB 8.2MB/s \n",
            "\u001b[?25hCollecting pandas-profiling>=2.8.0\n",
            "\u001b[?25l  Downloading https://files.pythonhosted.org/packages/3b/a3/34519d16e5ebe69bad30c5526deea2c3912634ced7f9b5e6e0bb9dbbd567/pandas_profiling-3.0.0-py2.py3-none-any.whl (248kB)\n",
            "\u001b[K     |████████████████████████████████| 256kB 41.2MB/s \n",
            "\u001b[?25hRequirement already satisfied: joblib in /usr/local/lib/python3.7/dist-packages (from pycaret-ts-alpha) (1.0.1)\n",
            "Requirement already satisfied: IPython in /usr/local/lib/python3.7/dist-packages (from pycaret-ts-alpha) (5.5.0)\n",
            "Collecting scikit-learn==0.23.2\n",
            "\u001b[?25l  Downloading https://files.pythonhosted.org/packages/f4/cb/64623369f348e9bfb29ff898a57ac7c91ed4921f228e9726546614d63ccb/scikit_learn-0.23.2-cp37-cp37m-manylinux1_x86_64.whl (6.8MB)\n",
            "\u001b[K     |████████████████████████████████| 6.8MB 36.7MB/s \n",
            "\u001b[?25hRequirement already satisfied: cufflinks>=0.17.0 in /usr/local/lib/python3.7/dist-packages (from pycaret-ts-alpha) (0.17.3)\n",
            "Collecting tbats==1.1.0\n",
            "\u001b[?25l  Downloading https://files.pythonhosted.org/packages/7d/34/c376a23348993deb50d36372324f4e7c5510608a1f49bca7d20390824327/tbats-1.1.0-py3-none-any.whl (43kB)\n",
            "\u001b[K     |████████████████████████████████| 51kB 6.9MB/s \n",
            "\u001b[?25hCollecting scikit-plot\n",
            "  Downloading https://files.pythonhosted.org/packages/7c/47/32520e259340c140a4ad27c1b97050dd3254fdc517b1d59974d47037510e/scikit_plot-0.3.7-py3-none-any.whl\n",
            "Requirement already satisfied: pandas in /usr/local/lib/python3.7/dist-packages (from pycaret-ts-alpha) (1.1.5)\n",
            "Collecting umap-learn\n",
            "\u001b[?25l  Downloading https://files.pythonhosted.org/packages/75/69/85e7f950bb75792ad5d666d86c5f3e62eedbb942848e7e3126513af9999c/umap-learn-0.5.1.tar.gz (80kB)\n",
            "\u001b[K     |████████████████████████████████| 81kB 9.1MB/s \n",
            "\u001b[?25hRequirement already satisfied: ipywidgets in /usr/local/lib/python3.7/dist-packages (from pycaret-ts-alpha) (7.6.3)\n",
            "Collecting kmodes>=0.10.1\n",
            "  Downloading https://files.pythonhosted.org/packages/9b/34/fffc601aa4d44b94e945a7cc72f477e09dffa7dce888898f2ffd9f4e343e/kmodes-0.11.0-py2.py3-none-any.whl\n",
            "Collecting Boruta\n",
            "\u001b[?25l  Downloading https://files.pythonhosted.org/packages/b2/11/583f4eac99d802c79af9217e1eff56027742a69e6c866b295cce6a5a8fc2/Boruta-0.3-py3-none-any.whl (56kB)\n",
            "\u001b[K     |████████████████████████████████| 61kB 8.3MB/s \n",
            "\u001b[?25hRequirement already satisfied: nltk in /usr/local/lib/python3.7/dist-packages (from pycaret-ts-alpha) (3.2.5)\n",
            "Collecting mlflow\n",
            "\u001b[?25l  Downloading https://files.pythonhosted.org/packages/1c/ad/1a46cd6a6f512b120cae9d3cf139119a5866df038974920742264303c0bc/mlflow-1.19.0-py3-none-any.whl (14.4MB)\n",
            "\u001b[K     |████████████████████████████████| 14.4MB 208kB/s \n",
            "\u001b[?25hRequirement already satisfied: seaborn in /usr/local/lib/python3.7/dist-packages (from pycaret-ts-alpha) (0.11.1)\n",
            "Requirement already satisfied: numpy==1.19.5 in /usr/local/lib/python3.7/dist-packages (from pycaret-ts-alpha) (1.19.5)\n",
            "Requirement already satisfied: wordcloud in /usr/local/lib/python3.7/dist-packages (from pycaret-ts-alpha) (1.5.0)\n",
            "Collecting pmdarima>=1.8.0\n",
            "\u001b[?25l  Downloading https://files.pythonhosted.org/packages/f4/c2/2a94bce6bba1deac3c0b16dbb14f28de0b9035e3211919cae8448455aa65/pmdarima-1.8.2-cp37-cp37m-manylinux1_x86_64.whl (1.5MB)\n",
            "\u001b[K     |████████████████████████████████| 1.5MB 36.4MB/s \n",
            "\u001b[?25hCollecting pyLDAvis\n",
            "\u001b[?25l  Downloading https://files.pythonhosted.org/packages/03/a5/15a0da6b0150b8b68610cc78af80364a80a9a4c8b6dd5ee549b8989d4b60/pyLDAvis-3.3.1.tar.gz (1.7MB)\n",
            "\u001b[K     |████████████████████████████████| 1.7MB 28.9MB/s \n",
            "\u001b[?25h  Installing build dependencies ... \u001b[?25l\u001b[?25hdone\n",
            "  Getting requirements to build wheel ... \u001b[?25l\u001b[?25hdone\n",
            "  Installing backend dependencies ... \u001b[?25l\u001b[?25hdone\n",
            "    Preparing wheel metadata ... \u001b[?25l\u001b[?25hdone\n",
            "Collecting sktime==0.5.3\n",
            "\u001b[?25l  Downloading https://files.pythonhosted.org/packages/cb/da/50152302ec50c4be412f028edd9173b66121ed7af80473cca47ef6eae65b/sktime-0.5.3-cp37-cp37m-manylinux2014_x86_64.whl (5.7MB)\n",
            "\u001b[K     |████████████████████████████████| 5.7MB 27.0MB/s \n",
            "\u001b[?25hRequirement already satisfied: plotly>=4.4.1 in /usr/local/lib/python3.7/dist-packages (from pycaret-ts-alpha) (4.4.1)\n",
            "Requirement already satisfied: scipy<=1.5.4 in /usr/local/lib/python3.7/dist-packages (from pycaret-ts-alpha) (1.4.1)\n",
            "Collecting imbalanced-learn==0.7.0\n",
            "\u001b[?25l  Downloading https://files.pythonhosted.org/packages/c8/81/8db4d87b03b998fda7c6f835d807c9ae4e3b141f978597b8d7f31600be15/imbalanced_learn-0.7.0-py3-none-any.whl (167kB)\n",
            "\u001b[K     |████████████████████████████████| 174kB 56.5MB/s \n",
            "\u001b[?25hRequirement already satisfied: spacy<2.4.0 in /usr/local/lib/python3.7/dist-packages (from pycaret-ts-alpha) (2.2.4)\n",
            "Collecting yellowbrick>=1.0.1\n",
            "\u001b[?25l  Downloading https://files.pythonhosted.org/packages/3a/15/58feb940b6a2f52d3335cccf9e5d00704ec5ba62782da83f7e2abeca5e4b/yellowbrick-1.3.post1-py3-none-any.whl (271kB)\n",
            "\u001b[K     |████████████████████████████████| 276kB 22.6MB/s \n",
            "\u001b[?25hCollecting mlxtend>=0.17.0\n",
            "\u001b[?25l  Downloading https://files.pythonhosted.org/packages/86/30/781c0b962a70848db83339567ecab656638c62f05adb064cb33c0ae49244/mlxtend-0.18.0-py2.py3-none-any.whl (1.3MB)\n",
            "\u001b[K     |████████████████████████████████| 1.4MB 36.4MB/s \n",
            "\u001b[?25hRequirement already satisfied: matplotlib in /usr/local/lib/python3.7/dist-packages (from pycaret-ts-alpha) (3.2.2)\n",
            "Collecting lightgbm>=2.3.1\n",
            "\u001b[?25l  Downloading https://files.pythonhosted.org/packages/18/b2/fff8370f48549ce223f929fe8cab4ee6bf285a41f86037d91312b48ed95b/lightgbm-3.2.1-py3-none-manylinux1_x86_64.whl (2.0MB)\n",
            "\u001b[K     |████████████████████████████████| 2.0MB 37.1MB/s \n",
            "\u001b[?25hRequirement already satisfied: textblob in /usr/local/lib/python3.7/dist-packages (from pycaret-ts-alpha) (0.15.3)\n",
            "Requirement already satisfied: gensim<4.0.0 in /usr/local/lib/python3.7/dist-packages (from pycaret-ts-alpha) (3.6.0)\n",
            "Collecting pyod\n",
            "\u001b[?25l  Downloading https://files.pythonhosted.org/packages/71/8a/faa04a753bc32aeef00b9acf8e23d0b914b03844b89dcc6062b28e7ab1c5/pyod-0.9.0.tar.gz (105kB)\n",
            "\u001b[K     |████████████████████████████████| 112kB 50.4MB/s \n",
            "\u001b[?25hCollecting tangled-up-in-unicode==0.1.0\n",
            "\u001b[?25l  Downloading https://files.pythonhosted.org/packages/93/3e/cb354fb2097fcf2fd5b5a342b10ae2a6e9363ba435b64e3e00c414064bc7/tangled_up_in_unicode-0.1.0-py3-none-any.whl (3.1MB)\n",
            "\u001b[K     |████████████████████████████████| 3.1MB 30.1MB/s \n",
            "\u001b[?25hCollecting htmlmin>=0.1.12\n",
            "  Downloading https://files.pythonhosted.org/packages/b3/e7/fcd59e12169de19f0131ff2812077f964c6b960e7c09804d30a7bf2ab461/htmlmin-0.1.12.tar.gz\n",
            "Collecting PyYAML>=5.0.0\n",
            "\u001b[?25l  Downloading https://files.pythonhosted.org/packages/7a/a5/393c087efdc78091afa2af9f1378762f9821c9c1d7a22c5753fb5ac5f97a/PyYAML-5.4.1-cp37-cp37m-manylinux1_x86_64.whl (636kB)\n",
            "\u001b[K     |████████████████████████████████| 645kB 34.0MB/s \n",
            "\u001b[?25hCollecting phik>=0.11.1\n",
            "\u001b[?25l  Downloading https://files.pythonhosted.org/packages/b7/ce/193e8ddf62d4be643b9b4b20e8e9c63b2f6a20f92778c0410c629f89bdaa/phik-0.11.2.tar.gz (1.1MB)\n",
            "\u001b[K     |████████████████████████████████| 1.1MB 31.9MB/s \n",
            "\u001b[?25hCollecting pydantic>=1.8.1\n",
            "\u001b[?25l  Downloading https://files.pythonhosted.org/packages/9f/f2/2d5425efe57f6c4e06cbe5e587c1fd16929dcf0eb90bd4d3d1e1c97d1151/pydantic-1.8.2-cp37-cp37m-manylinux2014_x86_64.whl (10.1MB)\n",
            "\u001b[K     |████████████████████████████████| 10.1MB 27.2MB/s \n",
            "\u001b[?25hCollecting requests>=2.24.0\n",
            "\u001b[?25l  Downloading https://files.pythonhosted.org/packages/92/96/144f70b972a9c0eabbd4391ef93ccd49d0f2747f4f6a2a2738e99e5adc65/requests-2.26.0-py2.py3-none-any.whl (62kB)\n",
            "\u001b[K     |████████████████████████████████| 71kB 10.2MB/s \n",
            "\u001b[?25hRequirement already satisfied: jinja2>=2.11.1 in /usr/local/lib/python3.7/dist-packages (from pandas-profiling>=2.8.0->pycaret-ts-alpha) (2.11.3)\n",
            "Requirement already satisfied: missingno>=0.4.2 in /usr/local/lib/python3.7/dist-packages (from pandas-profiling>=2.8.0->pycaret-ts-alpha) (0.5.0)\n",
            "Collecting tqdm>=4.48.2\n",
            "\u001b[?25l  Downloading https://files.pythonhosted.org/packages/7a/ec/f8ff3ccfc4e59ce619a66a0bf29dc3b49c2e8c07de29d572e191c006eaa2/tqdm-4.61.2-py2.py3-none-any.whl (76kB)\n",
            "\u001b[K     |████████████████████████████████| 81kB 11.2MB/s \n",
            "\u001b[?25hCollecting visions[type_image_path]==0.7.1\n",
            "\u001b[?25l  Downloading https://files.pythonhosted.org/packages/80/96/01e4ba22cef96ae5035dbcf0451c2f4f859f8f17393b98406b23f0034279/visions-0.7.1-py3-none-any.whl (102kB)\n",
            "\u001b[K     |████████████████████████████████| 112kB 46.1MB/s \n",
            "\u001b[?25hRequirement already satisfied: pexpect; sys_platform != \"win32\" in /usr/local/lib/python3.7/dist-packages (from IPython->pycaret-ts-alpha) (4.8.0)\n",
            "Requirement already satisfied: prompt-toolkit<2.0.0,>=1.0.4 in /usr/local/lib/python3.7/dist-packages (from IPython->pycaret-ts-alpha) (1.0.18)\n",
            "Requirement already satisfied: setuptools>=18.5 in /usr/local/lib/python3.7/dist-packages (from IPython->pycaret-ts-alpha) (57.2.0)\n",
            "Requirement already satisfied: pickleshare in /usr/local/lib/python3.7/dist-packages (from IPython->pycaret-ts-alpha) (0.7.5)\n",
            "Requirement already satisfied: traitlets>=4.2 in /usr/local/lib/python3.7/dist-packages (from IPython->pycaret-ts-alpha) (5.0.5)\n",
            "Requirement already satisfied: decorator in /usr/local/lib/python3.7/dist-packages (from IPython->pycaret-ts-alpha) (4.4.2)\n",
            "Requirement already satisfied: simplegeneric>0.8 in /usr/local/lib/python3.7/dist-packages (from IPython->pycaret-ts-alpha) (0.8.1)\n",
            "Requirement already satisfied: pygments in /usr/local/lib/python3.7/dist-packages (from IPython->pycaret-ts-alpha) (2.6.1)\n",
            "Collecting threadpoolctl>=2.0.0\n",
            "  Downloading https://files.pythonhosted.org/packages/c6/e8/c216b9b60cbba4642d3ca1bae7a53daa0c24426f662e0e3ce3dc7f6caeaa/threadpoolctl-2.2.0-py3-none-any.whl\n",
            "Requirement already satisfied: six>=1.9.0 in /usr/local/lib/python3.7/dist-packages (from cufflinks>=0.17.0->pycaret-ts-alpha) (1.15.0)\n",
            "Requirement already satisfied: colorlover>=0.2.1 in /usr/local/lib/python3.7/dist-packages (from cufflinks>=0.17.0->pycaret-ts-alpha) (0.3.0)\n",
            "Requirement already satisfied: python-dateutil>=2.7.3 in /usr/local/lib/python3.7/dist-packages (from pandas->pycaret-ts-alpha) (2.8.1)\n",
            "Requirement already satisfied: pytz>=2017.2 in /usr/local/lib/python3.7/dist-packages (from pandas->pycaret-ts-alpha) (2018.9)\n",
            "Requirement already satisfied: numba>=0.49 in /usr/local/lib/python3.7/dist-packages (from umap-learn->pycaret-ts-alpha) (0.51.2)\n",
            "Collecting pynndescent>=0.5\n",
            "\u001b[?25l  Downloading https://files.pythonhosted.org/packages/b1/8d/44bf1c9e69dd9bf0697a3b9375b0729942525c0eee7b7859f563439d676a/pynndescent-0.5.4.tar.gz (1.1MB)\n",
            "\u001b[K     |████████████████████████████████| 1.1MB 33.8MB/s \n",
            "\u001b[?25hRequirement already satisfied: ipykernel>=4.5.1 in /usr/local/lib/python3.7/dist-packages (from ipywidgets->pycaret-ts-alpha) (4.10.1)\n",
            "Requirement already satisfied: jupyterlab-widgets>=1.0.0; python_version >= \"3.6\" in /usr/local/lib/python3.7/dist-packages (from ipywidgets->pycaret-ts-alpha) (1.0.0)\n",
            "Requirement already satisfied: widgetsnbextension~=3.5.0 in /usr/local/lib/python3.7/dist-packages (from ipywidgets->pycaret-ts-alpha) (3.5.1)\n",
            "Requirement already satisfied: nbformat>=4.2.0 in /usr/local/lib/python3.7/dist-packages (from ipywidgets->pycaret-ts-alpha) (5.1.3)\n",
            "Collecting docker>=4.0.0\n",
            "\u001b[?25l  Downloading https://files.pythonhosted.org/packages/b2/5a/f988909dfed18c1ac42ad8d9e611e6c5657e270aa6eb68559985dbb69c13/docker-5.0.0-py2.py3-none-any.whl (146kB)\n",
            "\u001b[K     |████████████████████████████████| 153kB 43.1MB/s \n",
            "\u001b[?25hCollecting querystring-parser\n",
            "  Downloading https://files.pythonhosted.org/packages/88/6b/572b2590fd55114118bf08bde63c0a421dcc82d593700f3e2ad89908a8a9/querystring_parser-1.2.4-py2.py3-none-any.whl\n",
            "Requirement already satisfied: protobuf>=3.7.0 in /usr/local/lib/python3.7/dist-packages (from mlflow->pycaret-ts-alpha) (3.17.3)\n",
            "Collecting alembic<=1.4.1\n",
            "\u001b[?25l  Downloading https://files.pythonhosted.org/packages/e0/e9/359dbb77c35c419df0aedeb1d53e71e7e3f438ff64a8fdb048c907404de3/alembic-1.4.1.tar.gz (1.1MB)\n",
            "\u001b[K     |████████████████████████████████| 1.1MB 23.1MB/s \n",
            "\u001b[?25hRequirement already satisfied: Flask in /usr/local/lib/python3.7/dist-packages (from mlflow->pycaret-ts-alpha) (1.1.4)\n",
            "Collecting prometheus-flask-exporter\n",
            "  Downloading https://files.pythonhosted.org/packages/f3/c1/2cc385fadf18dc75fe24c18899269eda4dcc60221d61eff7da4a6cc5c01d/prometheus_flask_exporter-0.18.2.tar.gz\n",
            "Requirement already satisfied: entrypoints in /usr/local/lib/python3.7/dist-packages (from mlflow->pycaret-ts-alpha) (0.3)\n",
            "Requirement already satisfied: click>=7.0 in /usr/local/lib/python3.7/dist-packages (from mlflow->pycaret-ts-alpha) (7.1.2)\n",
            "Collecting gunicorn; platform_system != \"Windows\"\n",
            "\u001b[?25l  Downloading https://files.pythonhosted.org/packages/e4/dd/5b190393e6066286773a67dfcc2f9492058e9b57c4867a95f1ba5caf0a83/gunicorn-20.1.0-py3-none-any.whl (79kB)\n",
            "\u001b[K     |████████████████████████████████| 81kB 10.5MB/s \n",
            "\u001b[?25hCollecting gitpython>=2.1.0\n",
            "\u001b[?25l  Downloading https://files.pythonhosted.org/packages/bc/91/b38c4fabb6e5092ab23492ded4f318ab7299b19263272b703478038c0fbc/GitPython-3.1.18-py3-none-any.whl (170kB)\n",
            "\u001b[K     |████████████████████████████████| 174kB 44.9MB/s \n",
            "\u001b[?25hRequirement already satisfied: sqlalchemy in /usr/local/lib/python3.7/dist-packages (from mlflow->pycaret-ts-alpha) (1.4.20)\n",
            "Requirement already satisfied: cloudpickle in /usr/local/lib/python3.7/dist-packages (from mlflow->pycaret-ts-alpha) (1.3.0)\n",
            "Requirement already satisfied: packaging in /usr/local/lib/python3.7/dist-packages (from mlflow->pycaret-ts-alpha) (21.0)\n",
            "Collecting databricks-cli>=0.8.7\n",
            "\u001b[?25l  Downloading https://files.pythonhosted.org/packages/bc/af/631375abc29e59cedfa4467a5f7755503ba19898890751e1f2636ef02f92/databricks-cli-0.14.3.tar.gz (54kB)\n",
            "\u001b[K     |████████████████████████████████| 61kB 8.4MB/s \n",
            "\u001b[?25hRequirement already satisfied: sqlparse>=0.3.1 in /usr/local/lib/python3.7/dist-packages (from mlflow->pycaret-ts-alpha) (0.4.1)\n",
            "Requirement already satisfied: pillow in /usr/local/lib/python3.7/dist-packages (from wordcloud->pycaret-ts-alpha) (7.1.2)\n",
            "Requirement already satisfied: Cython!=0.29.18,>=0.29 in /usr/local/lib/python3.7/dist-packages (from pmdarima>=1.8.0->pycaret-ts-alpha) (0.29.23)\n",
            "Collecting statsmodels!=0.12.0,>=0.11\n",
            "\u001b[?25l  Downloading https://files.pythonhosted.org/packages/da/69/8eef30a6237c54f3c0b524140e2975f4b1eea3489b45eb3339574fc8acee/statsmodels-0.12.2-cp37-cp37m-manylinux1_x86_64.whl (9.5MB)\n",
            "\u001b[K     |████████████████████████████████| 9.5MB 32.1MB/s \n",
            "\u001b[?25hRequirement already satisfied: urllib3 in /usr/local/lib/python3.7/dist-packages (from pmdarima>=1.8.0->pycaret-ts-alpha) (1.24.3)\n",
            "Requirement already satisfied: sklearn in /usr/local/lib/python3.7/dist-packages (from pyLDAvis->pycaret-ts-alpha) (0.0)\n",
            "Collecting funcy\n",
            "  Downloading https://files.pythonhosted.org/packages/44/52/5cf7401456a461e4b481650dfb8279bc000f31a011d0918904f86e755947/funcy-1.16-py2.py3-none-any.whl\n",
            "Requirement already satisfied: numexpr in /usr/local/lib/python3.7/dist-packages (from pyLDAvis->pycaret-ts-alpha) (2.7.3)\n",
            "Requirement already satisfied: future in /usr/local/lib/python3.7/dist-packages (from pyLDAvis->pycaret-ts-alpha) (0.16.0)\n",
            "Requirement already satisfied: wheel in /usr/local/lib/python3.7/dist-packages (from sktime==0.5.3->pycaret-ts-alpha) (0.36.2)\n",
            "Requirement already satisfied: retrying>=1.3.3 in /usr/local/lib/python3.7/dist-packages (from plotly>=4.4.1->pycaret-ts-alpha) (1.3.3)\n",
            "Requirement already satisfied: preshed<3.1.0,>=3.0.2 in /usr/local/lib/python3.7/dist-packages (from spacy<2.4.0->pycaret-ts-alpha) (3.0.5)\n",
            "Requirement already satisfied: plac<1.2.0,>=0.9.6 in /usr/local/lib/python3.7/dist-packages (from spacy<2.4.0->pycaret-ts-alpha) (1.1.3)\n",
            "Requirement already satisfied: srsly<1.1.0,>=1.0.2 in /usr/local/lib/python3.7/dist-packages (from spacy<2.4.0->pycaret-ts-alpha) (1.0.5)\n",
            "Requirement already satisfied: cymem<2.1.0,>=2.0.2 in /usr/local/lib/python3.7/dist-packages (from spacy<2.4.0->pycaret-ts-alpha) (2.0.5)\n",
            "Requirement already satisfied: thinc==7.4.0 in /usr/local/lib/python3.7/dist-packages (from spacy<2.4.0->pycaret-ts-alpha) (7.4.0)\n",
            "Requirement already satisfied: murmurhash<1.1.0,>=0.28.0 in /usr/local/lib/python3.7/dist-packages (from spacy<2.4.0->pycaret-ts-alpha) (1.0.5)\n",
            "Requirement already satisfied: blis<0.5.0,>=0.4.0 in /usr/local/lib/python3.7/dist-packages (from spacy<2.4.0->pycaret-ts-alpha) (0.4.1)\n",
            "Requirement already satisfied: wasabi<1.1.0,>=0.4.0 in /usr/local/lib/python3.7/dist-packages (from spacy<2.4.0->pycaret-ts-alpha) (0.8.2)\n",
            "Requirement already satisfied: catalogue<1.1.0,>=0.0.7 in /usr/local/lib/python3.7/dist-packages (from spacy<2.4.0->pycaret-ts-alpha) (1.0.0)\n",
            "Requirement already satisfied: cycler>=0.10.0 in /usr/local/lib/python3.7/dist-packages (from yellowbrick>=1.0.1->pycaret-ts-alpha) (0.10.0)\n",
            "Requirement already satisfied: kiwisolver>=1.0.1 in /usr/local/lib/python3.7/dist-packages (from matplotlib->pycaret-ts-alpha) (1.3.1)\n",
            "Requirement already satisfied: pyparsing!=2.0.4,!=2.1.2,!=2.1.6,>=2.0.1 in /usr/local/lib/python3.7/dist-packages (from matplotlib->pycaret-ts-alpha) (2.4.7)\n",
            "Requirement already satisfied: smart-open>=1.2.1 in /usr/local/lib/python3.7/dist-packages (from gensim<4.0.0->pycaret-ts-alpha) (5.1.0)\n",
            "Requirement already satisfied: typing-extensions>=3.7.4.3 in /usr/local/lib/python3.7/dist-packages (from pydantic>=1.8.1->pandas-profiling>=2.8.0->pycaret-ts-alpha) (3.7.4.3)\n",
            "Requirement already satisfied: idna<4,>=2.5; python_version >= \"3\" in /usr/local/lib/python3.7/dist-packages (from requests>=2.24.0->pandas-profiling>=2.8.0->pycaret-ts-alpha) (2.10)\n",
            "Requirement already satisfied: charset-normalizer~=2.0.0; python_version >= \"3\" in /usr/local/lib/python3.7/dist-packages (from requests>=2.24.0->pandas-profiling>=2.8.0->pycaret-ts-alpha) (2.0.2)\n",
            "Requirement already satisfied: certifi>=2017.4.17 in /usr/local/lib/python3.7/dist-packages (from requests>=2.24.0->pandas-profiling>=2.8.0->pycaret-ts-alpha) (2021.5.30)\n",
            "Requirement already satisfied: MarkupSafe>=0.23 in /usr/local/lib/python3.7/dist-packages (from jinja2>=2.11.1->pandas-profiling>=2.8.0->pycaret-ts-alpha) (2.0.1)\n",
            "Requirement already satisfied: networkx>=2.4 in /usr/local/lib/python3.7/dist-packages (from visions[type_image_path]==0.7.1->pandas-profiling>=2.8.0->pycaret-ts-alpha) (2.5.1)\n",
            "Collecting multimethod==1.4\n",
            "  Downloading https://files.pythonhosted.org/packages/7a/d0/ce5ad0392aa12645b7ad91a5983d6b625b704b021d9cd48c587630c1a9ac/multimethod-1.4-py2.py3-none-any.whl\n",
            "Requirement already satisfied: attrs>=19.3.0 in /usr/local/lib/python3.7/dist-packages (from visions[type_image_path]==0.7.1->pandas-profiling>=2.8.0->pycaret-ts-alpha) (21.2.0)\n",
            "Requirement already satisfied: bottleneck in /usr/local/lib/python3.7/dist-packages (from visions[type_image_path]==0.7.1->pandas-profiling>=2.8.0->pycaret-ts-alpha) (1.3.2)\n",
            "Collecting imagehash; extra == \"type_image_path\"\n",
            "\u001b[?25l  Downloading https://files.pythonhosted.org/packages/ef/bb/612c6ef49a57acf2af6cfd928b8913dea2837bd96cc0d8ef6ec8d2014158/ImageHash-4.2.1.tar.gz (812kB)\n",
            "\u001b[K     |████████████████████████████████| 819kB 41.8MB/s \n",
            "\u001b[?25hRequirement already satisfied: ptyprocess>=0.5 in /usr/local/lib/python3.7/dist-packages (from pexpect; sys_platform != \"win32\"->IPython->pycaret-ts-alpha) (0.7.0)\n",
            "Requirement already satisfied: wcwidth in /usr/local/lib/python3.7/dist-packages (from prompt-toolkit<2.0.0,>=1.0.4->IPython->pycaret-ts-alpha) (0.2.5)\n",
            "Requirement already satisfied: ipython-genutils in /usr/local/lib/python3.7/dist-packages (from traitlets>=4.2->IPython->pycaret-ts-alpha) (0.2.0)\n",
            "Requirement already satisfied: llvmlite<0.35,>=0.34.0.dev0 in /usr/local/lib/python3.7/dist-packages (from numba>=0.49->umap-learn->pycaret-ts-alpha) (0.34.0)\n",
            "Requirement already satisfied: tornado>=4.0 in /usr/local/lib/python3.7/dist-packages (from ipykernel>=4.5.1->ipywidgets->pycaret-ts-alpha) (5.1.1)\n",
            "Requirement already satisfied: jupyter-client in /usr/local/lib/python3.7/dist-packages (from ipykernel>=4.5.1->ipywidgets->pycaret-ts-alpha) (5.3.5)\n",
            "Requirement already satisfied: notebook>=4.4.1 in /usr/local/lib/python3.7/dist-packages (from widgetsnbextension~=3.5.0->ipywidgets->pycaret-ts-alpha) (5.3.1)\n",
            "Requirement already satisfied: jupyter-core in /usr/local/lib/python3.7/dist-packages (from nbformat>=4.2.0->ipywidgets->pycaret-ts-alpha) (4.7.1)\n",
            "Requirement already satisfied: jsonschema!=2.5.0,>=2.4 in /usr/local/lib/python3.7/dist-packages (from nbformat>=4.2.0->ipywidgets->pycaret-ts-alpha) (2.6.0)\n",
            "Collecting websocket-client>=0.32.0\n",
            "\u001b[?25l  Downloading https://files.pythonhosted.org/packages/ca/5f/3c211d168b2e9f9342cfb53bcfc26aab0eac63b998015e7af7bcae66119d/websocket_client-1.1.0-py2.py3-none-any.whl (68kB)\n",
            "\u001b[K     |████████████████████████████████| 71kB 9.7MB/s \n",
            "\u001b[?25hCollecting Mako\n",
            "\u001b[?25l  Downloading https://files.pythonhosted.org/packages/f3/54/dbc07fbb20865d3b78fdb7cf7fa713e2cba4f87f71100074ef2dc9f9d1f7/Mako-1.1.4-py2.py3-none-any.whl (75kB)\n",
            "\u001b[K     |████████████████████████████████| 81kB 11.6MB/s \n",
            "\u001b[?25hCollecting python-editor>=0.3\n",
            "  Downloading https://files.pythonhosted.org/packages/c6/d3/201fc3abe391bbae6606e6f1d598c15d367033332bd54352b12f35513717/python_editor-1.0.4-py3-none-any.whl\n",
            "Requirement already satisfied: Werkzeug<2.0,>=0.15 in /usr/local/lib/python3.7/dist-packages (from Flask->mlflow->pycaret-ts-alpha) (1.0.1)\n",
            "Requirement already satisfied: itsdangerous<2.0,>=0.24 in /usr/local/lib/python3.7/dist-packages (from Flask->mlflow->pycaret-ts-alpha) (1.1.0)\n",
            "Requirement already satisfied: prometheus_client in /usr/local/lib/python3.7/dist-packages (from prometheus-flask-exporter->mlflow->pycaret-ts-alpha) (0.11.0)\n",
            "Collecting gitdb<5,>=4.0.1\n",
            "\u001b[?25l  Downloading https://files.pythonhosted.org/packages/ea/e8/f414d1a4f0bbc668ed441f74f44c116d9816833a48bf81d22b697090dba8/gitdb-4.0.7-py3-none-any.whl (63kB)\n",
            "\u001b[K     |████████████████████████████████| 71kB 10.1MB/s \n",
            "\u001b[?25hRequirement already satisfied: importlib-metadata; python_version < \"3.8\" in /usr/local/lib/python3.7/dist-packages (from sqlalchemy->mlflow->pycaret-ts-alpha) (4.6.1)\n",
            "Requirement already satisfied: greenlet!=0.4.17; python_version >= \"3\" in /usr/local/lib/python3.7/dist-packages (from sqlalchemy->mlflow->pycaret-ts-alpha) (1.1.0)\n",
            "Requirement already satisfied: tabulate>=0.7.7 in /usr/local/lib/python3.7/dist-packages (from databricks-cli>=0.8.7->mlflow->pycaret-ts-alpha) (0.8.9)\n",
            "Requirement already satisfied: patsy>=0.5 in /usr/local/lib/python3.7/dist-packages (from statsmodels!=0.12.0,>=0.11->pmdarima>=1.8.0->pycaret-ts-alpha) (0.5.1)\n",
            "Requirement already satisfied: PyWavelets in /usr/local/lib/python3.7/dist-packages (from imagehash; extra == \"type_image_path\"->visions[type_image_path]==0.7.1->pandas-profiling>=2.8.0->pycaret-ts-alpha) (1.1.1)\n",
            "Requirement already satisfied: pyzmq>=13 in /usr/local/lib/python3.7/dist-packages (from jupyter-client->ipykernel>=4.5.1->ipywidgets->pycaret-ts-alpha) (22.1.0)\n",
            "Requirement already satisfied: nbconvert in /usr/local/lib/python3.7/dist-packages (from notebook>=4.4.1->widgetsnbextension~=3.5.0->ipywidgets->pycaret-ts-alpha) (5.6.1)\n",
            "Requirement already satisfied: terminado>=0.8.1 in /usr/local/lib/python3.7/dist-packages (from notebook>=4.4.1->widgetsnbextension~=3.5.0->ipywidgets->pycaret-ts-alpha) (0.10.1)\n",
            "Requirement already satisfied: Send2Trash in /usr/local/lib/python3.7/dist-packages (from notebook>=4.4.1->widgetsnbextension~=3.5.0->ipywidgets->pycaret-ts-alpha) (1.7.1)\n",
            "Collecting smmap<5,>=3.0.1\n",
            "  Downloading https://files.pythonhosted.org/packages/68/ee/d540eb5e5996eb81c26ceffac6ee49041d473bc5125f2aa995cf51ec1cf1/smmap-4.0.0-py2.py3-none-any.whl\n",
            "Requirement already satisfied: zipp>=0.5 in /usr/local/lib/python3.7/dist-packages (from importlib-metadata; python_version < \"3.8\"->sqlalchemy->mlflow->pycaret-ts-alpha) (3.5.0)\n",
            "Requirement already satisfied: defusedxml in /usr/local/lib/python3.7/dist-packages (from nbconvert->notebook>=4.4.1->widgetsnbextension~=3.5.0->ipywidgets->pycaret-ts-alpha) (0.7.1)\n",
            "Requirement already satisfied: bleach in /usr/local/lib/python3.7/dist-packages (from nbconvert->notebook>=4.4.1->widgetsnbextension~=3.5.0->ipywidgets->pycaret-ts-alpha) (3.3.0)\n",
            "Requirement already satisfied: pandocfilters>=1.4.1 in /usr/local/lib/python3.7/dist-packages (from nbconvert->notebook>=4.4.1->widgetsnbextension~=3.5.0->ipywidgets->pycaret-ts-alpha) (1.4.3)\n",
            "Requirement already satisfied: mistune<2,>=0.8.1 in /usr/local/lib/python3.7/dist-packages (from nbconvert->notebook>=4.4.1->widgetsnbextension~=3.5.0->ipywidgets->pycaret-ts-alpha) (0.8.4)\n",
            "Requirement already satisfied: testpath in /usr/local/lib/python3.7/dist-packages (from nbconvert->notebook>=4.4.1->widgetsnbextension~=3.5.0->ipywidgets->pycaret-ts-alpha) (0.5.0)\n",
            "Requirement already satisfied: webencodings in /usr/local/lib/python3.7/dist-packages (from bleach->nbconvert->notebook>=4.4.1->widgetsnbextension~=3.5.0->ipywidgets->pycaret-ts-alpha) (0.5.1)\n",
            "Building wheels for collected packages: pyLDAvis\n",
            "  Building wheel for pyLDAvis (PEP 517) ... \u001b[?25l\u001b[?25hdone\n",
            "  Created wheel for pyLDAvis: filename=pyLDAvis-3.3.1-cp37-none-any.whl size=136897 sha256=43d47691ea2684e7c99a905bb4c352521257c7b3ac7a901df4b773ae141fd938\n",
            "  Stored in directory: /root/.cache/pip/wheels/a0/9c/fc/c6e00689d35c82cf96a8adc70edfe7ba7904374fdac3240ac2\n",
            "Successfully built pyLDAvis\n",
            "Building wheels for collected packages: umap-learn, pyod, htmlmin, phik, pynndescent, alembic, prometheus-flask-exporter, databricks-cli, imagehash\n",
            "  Building wheel for umap-learn (setup.py) ... \u001b[?25l\u001b[?25hdone\n",
            "  Created wheel for umap-learn: filename=umap_learn-0.5.1-cp37-none-any.whl size=76569 sha256=755dcb906e6e4c11d1d3f87a61c9ad9afd509a1560b9c76664125e7b892bb1ce\n",
            "  Stored in directory: /root/.cache/pip/wheels/ad/df/d5/a3691296ff779f25cd1cf415a3af954b987fb53111e3392cf4\n",
            "  Building wheel for pyod (setup.py) ... \u001b[?25l\u001b[?25hdone\n",
            "  Created wheel for pyod: filename=pyod-0.9.0-cp37-none-any.whl size=122561 sha256=4464c6a1224ad068005aaff38ec76b923f621d55f551e1d7279a3c416001d170\n",
            "  Stored in directory: /root/.cache/pip/wheels/db/15/54/88660e3bfac7c88e81b7d719c66ee876e26b6abc46376f78b3\n",
            "  Building wheel for htmlmin (setup.py) ... \u001b[?25l\u001b[?25hdone\n",
            "  Created wheel for htmlmin: filename=htmlmin-0.1.12-cp37-none-any.whl size=27099 sha256=815a64fb972657b6866aa7499cd352e6c5315877308ba1a3b2aa52f5f06c0e80\n",
            "  Stored in directory: /root/.cache/pip/wheels/43/07/ac/7c5a9d708d65247ac1f94066cf1db075540b85716c30255459\n",
            "  Building wheel for phik (setup.py) ... \u001b[?25l\u001b[?25hdone\n",
            "  Created wheel for phik: filename=phik-0.11.2-cp37-none-any.whl size=1107437 sha256=08e147a2cb407ae704d2174183a55f9f475cc690f94fab9b383b303ed516e3cc\n",
            "  Stored in directory: /root/.cache/pip/wheels/c0/a3/b0/f27b1cfe32ea131a3715169132ff6d85653789e80e966c3bf6\n",
            "  Building wheel for pynndescent (setup.py) ... \u001b[?25l\u001b[?25hdone\n",
            "  Created wheel for pynndescent: filename=pynndescent-0.5.4-cp37-none-any.whl size=52374 sha256=98240773a57cfbb03d38c3800c76535cba4a66f8e67cbe748bbbb18d46abb50c\n",
            "  Stored in directory: /root/.cache/pip/wheels/42/4b/8c/f6f119c67cf6583bb192431fa8f7278cf95e5b943055077d94\n",
            "  Building wheel for alembic (setup.py) ... \u001b[?25l\u001b[?25hdone\n",
            "  Created wheel for alembic: filename=alembic-1.4.1-py2.py3-none-any.whl size=158170 sha256=35f36ff9949fde39db06d5bf25c58640a6efe41d9957ac07ad889023698ab40d\n",
            "  Stored in directory: /root/.cache/pip/wheels/84/07/f7/12f7370ca47a66030c2edeedcc23dec26ea0ac22dcb4c4a0f3\n",
            "  Building wheel for prometheus-flask-exporter (setup.py) ... \u001b[?25l\u001b[?25hdone\n",
            "  Created wheel for prometheus-flask-exporter: filename=prometheus_flask_exporter-0.18.2-cp37-none-any.whl size=17415 sha256=508a8eb2c29939fc5004e93e3f2219e5777f97f009ed7b6c6f2c4182114673bf\n",
            "  Stored in directory: /root/.cache/pip/wheels/c0/e2/9c/4f3ee23964802940f81a8b476d0b9be6fb6348cb12df2e2226\n",
            "  Building wheel for databricks-cli (setup.py) ... \u001b[?25l\u001b[?25hdone\n",
            "  Created wheel for databricks-cli: filename=databricks_cli-0.14.3-cp37-none-any.whl size=100560 sha256=dc7bd97567a87e0eda6eef7018d042c933448ce7e864b352e9aaf1034658abdf\n",
            "  Stored in directory: /root/.cache/pip/wheels/5b/24/f3/34d8e3964dac4ba849d844273c49a679111b00d5799ebb934a\n",
            "  Building wheel for imagehash (setup.py) ... \u001b[?25l\u001b[?25hdone\n",
            "  Created wheel for imagehash: filename=ImageHash-4.2.1-py2.py3-none-any.whl size=295206 sha256=d9811dea2cc12de9ab28caecdbeee1b717a302be2de0d77a4cfc5f98e73516c7\n",
            "  Stored in directory: /root/.cache/pip/wheels/32/3c/c7/b0653122fc94b27b4c60d2260896bb4759e56396c6720d0a6c\n",
            "Successfully built umap-learn pyod htmlmin phik pynndescent alembic prometheus-flask-exporter databricks-cli imagehash\n",
            "\u001b[31mERROR: google-colab 1.0.0 has requirement requests~=2.23.0, but you'll have requests 2.26.0 which is incompatible.\u001b[0m\n",
            "\u001b[31mERROR: datascience 0.10.6 has requirement folium==0.2.1, but you'll have folium 0.8.3 which is incompatible.\u001b[0m\n",
            "\u001b[31mERROR: phik 0.11.2 has requirement scipy>=1.5.2, but you'll have scipy 1.4.1 which is incompatible.\u001b[0m\n",
            "\u001b[31mERROR: pyldavis 3.3.1 has requirement numpy>=1.20.0, but you'll have numpy 1.19.5 which is incompatible.\u001b[0m\n",
            "\u001b[31mERROR: pyldavis 3.3.1 has requirement pandas>=1.2.0, but you'll have pandas 1.1.5 which is incompatible.\u001b[0m\n",
            "Installing collected packages: tangled-up-in-unicode, htmlmin, PyYAML, phik, pydantic, requests, tqdm, multimethod, imagehash, visions, pandas-profiling, threadpoolctl, scikit-learn, statsmodels, pmdarima, tbats, scikit-plot, pynndescent, umap-learn, kmodes, Boruta, websocket-client, docker, querystring-parser, Mako, python-editor, alembic, prometheus-flask-exporter, gunicorn, smmap, gitdb, gitpython, databricks-cli, mlflow, funcy, pyLDAvis, sktime, imbalanced-learn, yellowbrick, mlxtend, lightgbm, pyod, pycaret-ts-alpha\n",
            "  Found existing installation: PyYAML 3.13\n",
            "    Uninstalling PyYAML-3.13:\n",
            "      Successfully uninstalled PyYAML-3.13\n",
            "  Found existing installation: requests 2.23.0\n",
            "    Uninstalling requests-2.23.0:\n",
            "      Successfully uninstalled requests-2.23.0\n",
            "  Found existing installation: tqdm 4.41.1\n",
            "    Uninstalling tqdm-4.41.1:\n",
            "      Successfully uninstalled tqdm-4.41.1\n",
            "  Found existing installation: pandas-profiling 1.4.1\n",
            "    Uninstalling pandas-profiling-1.4.1:\n",
            "      Successfully uninstalled pandas-profiling-1.4.1\n",
            "  Found existing installation: scikit-learn 0.22.2.post1\n",
            "    Uninstalling scikit-learn-0.22.2.post1:\n",
            "      Successfully uninstalled scikit-learn-0.22.2.post1\n",
            "  Found existing installation: statsmodels 0.10.2\n",
            "    Uninstalling statsmodels-0.10.2:\n",
            "      Successfully uninstalled statsmodels-0.10.2\n",
            "  Found existing installation: imbalanced-learn 0.4.3\n",
            "    Uninstalling imbalanced-learn-0.4.3:\n",
            "      Successfully uninstalled imbalanced-learn-0.4.3\n",
            "  Found existing installation: yellowbrick 0.9.1\n",
            "    Uninstalling yellowbrick-0.9.1:\n",
            "      Successfully uninstalled yellowbrick-0.9.1\n",
            "  Found existing installation: mlxtend 0.14.0\n",
            "    Uninstalling mlxtend-0.14.0:\n",
            "      Successfully uninstalled mlxtend-0.14.0\n",
            "  Found existing installation: lightgbm 2.2.3\n",
            "    Uninstalling lightgbm-2.2.3:\n",
            "      Successfully uninstalled lightgbm-2.2.3\n",
            "Successfully installed Boruta-0.3 Mako-1.1.4 PyYAML-5.4.1 alembic-1.4.1 databricks-cli-0.14.3 docker-5.0.0 funcy-1.16 gitdb-4.0.7 gitpython-3.1.18 gunicorn-20.1.0 htmlmin-0.1.12 imagehash-4.2.1 imbalanced-learn-0.7.0 kmodes-0.11.0 lightgbm-3.2.1 mlflow-1.19.0 mlxtend-0.18.0 multimethod-1.4 pandas-profiling-3.0.0 phik-0.11.2 pmdarima-1.8.2 prometheus-flask-exporter-0.18.2 pyLDAvis-3.3.1 pycaret-ts-alpha-3.0.0.dev1624743408 pydantic-1.8.2 pynndescent-0.5.4 pyod-0.9.0 python-editor-1.0.4 querystring-parser-1.2.4 requests-2.26.0 scikit-learn-0.23.2 scikit-plot-0.3.7 sktime-0.5.3 smmap-4.0.0 statsmodels-0.12.2 tangled-up-in-unicode-0.1.0 tbats-1.1.0 threadpoolctl-2.2.0 tqdm-4.61.2 umap-learn-0.5.1 visions-0.7.1 websocket-client-1.1.0 yellowbrick-1.3.post1\n"
          ],
          "name": "stdout"
        }
      ]
    },
    {
      "cell_type": "markdown",
      "metadata": {
        "id": "JFfqJlGOCFe6"
      },
      "source": [
        "## Importação das bibliotecas"
      ]
    },
    {
      "cell_type": "code",
      "metadata": {
        "id": "oTRPqSLeHxbc"
      },
      "source": [
        "import pandas as pd\n",
        "import numpy as np\n",
        "import matplotlib.pyplot as plt\n",
        "import statsmodels as sm\n",
        "from pprint import pprint\n",
        "from pycaret.internal.pycaret_experiment import TimeSeriesExperiment\n",
        "from sktime.utils.plotting import plot_series"
      ],
      "execution_count": 2,
      "outputs": []
    },
    {
      "cell_type": "markdown",
      "metadata": {
        "id": "o9k7ezbMCJMc"
      },
      "source": [
        "## Importação dos dados\n",
        "\n",
        "Os dados usados nesse modelo são do *site* *FRED* e tratam de vendas no setor de varejo. A frequência é mensal, a escala dos dados está em milhoes de dólares e vão do ano de 1992 até 2020. Os dados podem ser obtidos [aqui](https://www.kaggle.com/robikscube/hourly-energy-consumption)."
      ]
    },
    {
      "cell_type": "code",
      "metadata": {
        "id": "dirILXR2IGYJ"
      },
      "source": [
        "vendas= pd.read_csv(\"MRTSSM7225USN.csv\", index_col='DATE')\n",
        "\n",
        "#esse comando é importante, pois, caso contrário, o setup não irá conseguir aceitá-los.\n",
        "vendas.index = pd.date_range('1992-01-01', periods=337, freq='M')"
      ],
      "execution_count": 4,
      "outputs": []
    },
    {
      "cell_type": "markdown",
      "metadata": {
        "id": "1emAuESLDBgY"
      },
      "source": [
        "## Breve análise dos dados\n",
        "\n",
        "Primeiras observações dos dados."
      ]
    },
    {
      "cell_type": "code",
      "metadata": {
        "colab": {
          "base_uri": "https://localhost:8080/",
          "height": 200
        },
        "id": "UEMbIHGtqRm_",
        "outputId": "3c5eb3b5-1e05-4eb8-a521-668d601166c6"
      },
      "source": [
        "vendas.head()"
      ],
      "execution_count": 5,
      "outputs": [
        {
          "output_type": "execute_result",
          "data": {
            "text/html": [
              "<div>\n",
              "<style scoped>\n",
              "    .dataframe tbody tr th:only-of-type {\n",
              "        vertical-align: middle;\n",
              "    }\n",
              "\n",
              "    .dataframe tbody tr th {\n",
              "        vertical-align: top;\n",
              "    }\n",
              "\n",
              "    .dataframe thead th {\n",
              "        text-align: right;\n",
              "    }\n",
              "</style>\n",
              "<table border=\"1\" class=\"dataframe\">\n",
              "  <thead>\n",
              "    <tr style=\"text-align: right;\">\n",
              "      <th></th>\n",
              "      <th>MRTSSM7225USN</th>\n",
              "    </tr>\n",
              "  </thead>\n",
              "  <tbody>\n",
              "    <tr>\n",
              "      <th>1992-01-31</th>\n",
              "      <td>13325</td>\n",
              "    </tr>\n",
              "    <tr>\n",
              "      <th>1992-02-29</th>\n",
              "      <td>13474</td>\n",
              "    </tr>\n",
              "    <tr>\n",
              "      <th>1992-03-31</th>\n",
              "      <td>14346</td>\n",
              "    </tr>\n",
              "    <tr>\n",
              "      <th>1992-04-30</th>\n",
              "      <td>14065</td>\n",
              "    </tr>\n",
              "    <tr>\n",
              "      <th>1992-05-31</th>\n",
              "      <td>15077</td>\n",
              "    </tr>\n",
              "  </tbody>\n",
              "</table>\n",
              "</div>"
            ],
            "text/plain": [
              "            MRTSSM7225USN\n",
              "1992-01-31          13325\n",
              "1992-02-29          13474\n",
              "1992-03-31          14346\n",
              "1992-04-30          14065\n",
              "1992-05-31          15077"
            ]
          },
          "metadata": {
            "tags": []
          },
          "execution_count": 5
        }
      ]
    },
    {
      "cell_type": "markdown",
      "metadata": {
        "id": "7EwqvjW1Csmh"
      },
      "source": [
        "Últimas observações dos dados."
      ]
    },
    {
      "cell_type": "code",
      "metadata": {
        "colab": {
          "base_uri": "https://localhost:8080/",
          "height": 200
        },
        "id": "mt0opv14CtCJ",
        "outputId": "9e619395-f6de-41ad-a889-e435e3bc66fe"
      },
      "source": [
        "vendas.tail()"
      ],
      "execution_count": 6,
      "outputs": [
        {
          "output_type": "execute_result",
          "data": {
            "text/html": [
              "<div>\n",
              "<style scoped>\n",
              "    .dataframe tbody tr th:only-of-type {\n",
              "        vertical-align: middle;\n",
              "    }\n",
              "\n",
              "    .dataframe tbody tr th {\n",
              "        vertical-align: top;\n",
              "    }\n",
              "\n",
              "    .dataframe thead th {\n",
              "        text-align: right;\n",
              "    }\n",
              "</style>\n",
              "<table border=\"1\" class=\"dataframe\">\n",
              "  <thead>\n",
              "    <tr style=\"text-align: right;\">\n",
              "      <th></th>\n",
              "      <th>MRTSSM7225USN</th>\n",
              "    </tr>\n",
              "  </thead>\n",
              "  <tbody>\n",
              "    <tr>\n",
              "      <th>2019-09-30</th>\n",
              "      <td>53944</td>\n",
              "    </tr>\n",
              "    <tr>\n",
              "      <th>2019-10-31</th>\n",
              "      <td>55762</td>\n",
              "    </tr>\n",
              "    <tr>\n",
              "      <th>2019-11-30</th>\n",
              "      <td>54039</td>\n",
              "    </tr>\n",
              "    <tr>\n",
              "      <th>2019-12-31</th>\n",
              "      <td>57086</td>\n",
              "    </tr>\n",
              "    <tr>\n",
              "      <th>2020-01-31</th>\n",
              "      <td>53411</td>\n",
              "    </tr>\n",
              "  </tbody>\n",
              "</table>\n",
              "</div>"
            ],
            "text/plain": [
              "            MRTSSM7225USN\n",
              "2019-09-30          53944\n",
              "2019-10-31          55762\n",
              "2019-11-30          54039\n",
              "2019-12-31          57086\n",
              "2020-01-31          53411"
            ]
          },
          "metadata": {
            "tags": []
          },
          "execution_count": 6
        }
      ]
    },
    {
      "cell_type": "markdown",
      "metadata": {
        "id": "7cnPjT4-DLwh"
      },
      "source": [
        "Tipo dos dados da série temporal."
      ]
    },
    {
      "cell_type": "code",
      "metadata": {
        "colab": {
          "base_uri": "https://localhost:8080/"
        },
        "id": "miFd6njGDL7f",
        "outputId": "ce07f32e-1e24-4292-e694-662307cc357e"
      },
      "source": [
        "vendas.dtypes\n",
        "#inteiros"
      ],
      "execution_count": 7,
      "outputs": [
        {
          "output_type": "execute_result",
          "data": {
            "text/plain": [
              "MRTSSM7225USN    int64\n",
              "dtype: object"
            ]
          },
          "metadata": {
            "tags": []
          },
          "execution_count": 7
        }
      ]
    },
    {
      "cell_type": "markdown",
      "metadata": {
        "id": "G_gszeovDdjN"
      },
      "source": [
        "Informações sobre a base de dados."
      ]
    },
    {
      "cell_type": "code",
      "metadata": {
        "colab": {
          "base_uri": "https://localhost:8080/"
        },
        "id": "U92IM9a7DQ0I",
        "outputId": "3858495b-4f20-48bf-ec22-87aa68788a35"
      },
      "source": [
        "vendas.info()"
      ],
      "execution_count": 8,
      "outputs": [
        {
          "output_type": "stream",
          "text": [
            "<class 'pandas.core.frame.DataFrame'>\n",
            "DatetimeIndex: 337 entries, 1992-01-31 to 2020-01-31\n",
            "Freq: M\n",
            "Data columns (total 1 columns):\n",
            " #   Column         Non-Null Count  Dtype\n",
            "---  ------         --------------  -----\n",
            " 0   MRTSSM7225USN  337 non-null    int64\n",
            "dtypes: int64(1)\n",
            "memory usage: 5.3 KB\n"
          ],
          "name": "stdout"
        }
      ]
    },
    {
      "cell_type": "markdown",
      "metadata": {
        "id": "zFQ7a8w8DhV1"
      },
      "source": [
        "Dimensão da base de dados: 337 observações."
      ]
    },
    {
      "cell_type": "code",
      "metadata": {
        "colab": {
          "base_uri": "https://localhost:8080/"
        },
        "id": "iEeWdX1zd9vn",
        "outputId": "9a753fcf-6dc1-4e15-e8ac-3ef3113147c2"
      },
      "source": [
        "vendas.shape"
      ],
      "execution_count": 9,
      "outputs": [
        {
          "output_type": "execute_result",
          "data": {
            "text/plain": [
              "(337, 1)"
            ]
          },
          "metadata": {
            "tags": []
          },
          "execution_count": 9
        }
      ]
    },
    {
      "cell_type": "markdown",
      "metadata": {
        "id": "a87JfV4LDlRn"
      },
      "source": [
        "Tabela estatística da série temporal."
      ]
    },
    {
      "cell_type": "code",
      "metadata": {
        "colab": {
          "base_uri": "https://localhost:8080/",
          "height": 290
        },
        "id": "smD-cj4SDUw0",
        "outputId": "9bc78a80-8b64-4388-f181-6deea42945b4"
      },
      "source": [
        "vendas.describe()"
      ],
      "execution_count": 10,
      "outputs": [
        {
          "output_type": "execute_result",
          "data": {
            "text/html": [
              "<div>\n",
              "<style scoped>\n",
              "    .dataframe tbody tr th:only-of-type {\n",
              "        vertical-align: middle;\n",
              "    }\n",
              "\n",
              "    .dataframe tbody tr th {\n",
              "        vertical-align: top;\n",
              "    }\n",
              "\n",
              "    .dataframe thead th {\n",
              "        text-align: right;\n",
              "    }\n",
              "</style>\n",
              "<table border=\"1\" class=\"dataframe\">\n",
              "  <thead>\n",
              "    <tr style=\"text-align: right;\">\n",
              "      <th></th>\n",
              "      <th>MRTSSM7225USN</th>\n",
              "    </tr>\n",
              "  </thead>\n",
              "  <tbody>\n",
              "    <tr>\n",
              "      <th>count</th>\n",
              "      <td>337.000000</td>\n",
              "    </tr>\n",
              "    <tr>\n",
              "      <th>mean</th>\n",
              "      <td>30624.605341</td>\n",
              "    </tr>\n",
              "    <tr>\n",
              "      <th>std</th>\n",
              "      <td>12124.449416</td>\n",
              "    </tr>\n",
              "    <tr>\n",
              "      <th>min</th>\n",
              "      <td>13325.000000</td>\n",
              "    </tr>\n",
              "    <tr>\n",
              "      <th>25%</th>\n",
              "      <td>20153.000000</td>\n",
              "    </tr>\n",
              "    <tr>\n",
              "      <th>50%</th>\n",
              "      <td>29239.000000</td>\n",
              "    </tr>\n",
              "    <tr>\n",
              "      <th>75%</th>\n",
              "      <td>38926.000000</td>\n",
              "    </tr>\n",
              "    <tr>\n",
              "      <th>max</th>\n",
              "      <td>59318.000000</td>\n",
              "    </tr>\n",
              "  </tbody>\n",
              "</table>\n",
              "</div>"
            ],
            "text/plain": [
              "       MRTSSM7225USN\n",
              "count     337.000000\n",
              "mean    30624.605341\n",
              "std     12124.449416\n",
              "min     13325.000000\n",
              "25%     20153.000000\n",
              "50%     29239.000000\n",
              "75%     38926.000000\n",
              "max     59318.000000"
            ]
          },
          "metadata": {
            "tags": []
          },
          "execution_count": 10
        }
      ]
    },
    {
      "cell_type": "markdown",
      "metadata": {
        "id": "RDUR_JKJDqBn"
      },
      "source": [
        "Gráfico da série mostra a tendência de crescimento global da série e a presença de sazonalidade."
      ]
    },
    {
      "cell_type": "code",
      "metadata": {
        "colab": {
          "base_uri": "https://localhost:8080/",
          "height": 373
        },
        "id": "WrcO7XPMqqaL",
        "outputId": "206bee66-d55b-4bc3-f59c-1c792fa43f5e"
      },
      "source": [
        "vendas.plot(figsize=(20,6));"
      ],
      "execution_count": 11,
      "outputs": [
        {
          "output_type": "display_data",
          "data": {
            "image/png": "[encoded data removed]",
            "text/plain": [
              "<Figure size 1440x432 with 1 Axes>"
            ]
          },
          "metadata": {
            "tags": [],
            "needs_background": "light"
          }
        }
      ]
    },
    {
      "cell_type": "markdown",
      "metadata": {
        "id": "rggunWqxEObG"
      },
      "source": [
        "## Aplicando *Auto Time Series*\n",
        "\n",
        "Agora será aplicado a modelagem, onde será inserida a série completa e o número de observações que servirão como dados de validação. Esses dados de validação serão comparados com as previsões geradas pelos modelos."
      ]
    },
    {
      "cell_type": "code",
      "metadata": {
        "colab": {
          "base_uri": "https://localhost:8080/",
          "height": 441
        },
        "id": "J9wjKPgyIMZx",
        "outputId": "67616e12-c105-493d-d51e-2c68437b89c6"
      },
      "source": [
        "exp = TimeSeriesExperiment()\n",
        "exp.setup(vendas, fh=12, fold=3, session_id=42);"
      ],
      "execution_count": 56,
      "outputs": [
        {
          "output_type": "display_data",
          "data": {
            "text/html": [
              "<div>\n",
              "<style scoped>\n",
              "    .dataframe tbody tr th:only-of-type {\n",
              "        vertical-align: middle;\n",
              "    }\n",
              "\n",
              "    .dataframe tbody tr th {\n",
              "        vertical-align: top;\n",
              "    }\n",
              "\n",
              "    .dataframe thead th {\n",
              "        text-align: right;\n",
              "    }\n",
              "</style>\n",
              "<table border=\"1\" class=\"dataframe\">\n",
              "  <thead>\n",
              "    <tr style=\"text-align: right;\">\n",
              "      <th></th>\n",
              "      <th>Description</th>\n",
              "      <th>Value</th>\n",
              "    </tr>\n",
              "  </thead>\n",
              "  <tbody>\n",
              "    <tr>\n",
              "      <th>0</th>\n",
              "      <td>session_id</td>\n",
              "      <td>42</td>\n",
              "    </tr>\n",
              "    <tr>\n",
              "      <th>1</th>\n",
              "      <td>Original Data</td>\n",
              "      <td>(337, 1)</td>\n",
              "    </tr>\n",
              "    <tr>\n",
              "      <th>2</th>\n",
              "      <td>Missing Values</td>\n",
              "      <td>False</td>\n",
              "    </tr>\n",
              "    <tr>\n",
              "      <th>3</th>\n",
              "      <td>Transformed Train Set</td>\n",
              "      <td>(325,)</td>\n",
              "    </tr>\n",
              "    <tr>\n",
              "      <th>4</th>\n",
              "      <td>Transformed Test Set</td>\n",
              "      <td>(12,)</td>\n",
              "    </tr>\n",
              "    <tr>\n",
              "      <th>5</th>\n",
              "      <td>Fold Generator</td>\n",
              "      <td>ExpandingWindowSplitter</td>\n",
              "    </tr>\n",
              "    <tr>\n",
              "      <th>6</th>\n",
              "      <td>Fold Number</td>\n",
              "      <td>3</td>\n",
              "    </tr>\n",
              "    <tr>\n",
              "      <th>7</th>\n",
              "      <td>CPU Jobs</td>\n",
              "      <td>-1</td>\n",
              "    </tr>\n",
              "    <tr>\n",
              "      <th>8</th>\n",
              "      <td>Use GPU</td>\n",
              "      <td>False</td>\n",
              "    </tr>\n",
              "    <tr>\n",
              "      <th>9</th>\n",
              "      <td>Log Experiment</td>\n",
              "      <td>False</td>\n",
              "    </tr>\n",
              "    <tr>\n",
              "      <th>10</th>\n",
              "      <td>Experiment Name</td>\n",
              "      <td>ts-default-name</td>\n",
              "    </tr>\n",
              "    <tr>\n",
              "      <th>11</th>\n",
              "      <td>USI</td>\n",
              "      <td>bf6b</td>\n",
              "    </tr>\n",
              "    <tr>\n",
              "      <th>12</th>\n",
              "      <td>Imputation Type</td>\n",
              "      <td>simple</td>\n",
              "    </tr>\n",
              "  </tbody>\n",
              "</table>\n",
              "</div>"
            ],
            "text/plain": [
              "              Description                    Value\n",
              "0              session_id                       42\n",
              "1           Original Data                 (337, 1)\n",
              "2          Missing Values                    False\n",
              "3   Transformed Train Set                   (325,)\n",
              "4    Transformed Test Set                    (12,)\n",
              "5          Fold Generator  ExpandingWindowSplitter\n",
              "6             Fold Number                        3\n",
              "7                CPU Jobs                       -1\n",
              "8                 Use GPU                    False\n",
              "9          Log Experiment                    False\n",
              "10        Experiment Name          ts-default-name\n",
              "11                    USI                     bf6b\n",
              "12        Imputation Type                   simple"
            ]
          },
          "metadata": {
            "tags": []
          }
        }
      ]
    },
    {
      "cell_type": "markdown",
      "metadata": {
        "id": "piexl4ZzFY7u"
      },
      "source": [
        "Modelos disponíveis nessa biblioteca."
      ]
    },
    {
      "cell_type": "code",
      "metadata": {
        "colab": {
          "base_uri": "https://localhost:8080/",
          "height": 925
        },
        "id": "JMMJ3F4RIMia",
        "outputId": "9ed6ab53-b239-45c0-8a44-a5887ed1e726"
      },
      "source": [
        "exp.models()"
      ],
      "execution_count": 57,
      "outputs": [
        {
          "output_type": "execute_result",
          "data": {
            "text/html": [
              "<div>\n",
              "<style scoped>\n",
              "    .dataframe tbody tr th:only-of-type {\n",
              "        vertical-align: middle;\n",
              "    }\n",
              "\n",
              "    .dataframe tbody tr th {\n",
              "        vertical-align: top;\n",
              "    }\n",
              "\n",
              "    .dataframe thead th {\n",
              "        text-align: right;\n",
              "    }\n",
              "</style>\n",
              "<table border=\"1\" class=\"dataframe\">\n",
              "  <thead>\n",
              "    <tr style=\"text-align: right;\">\n",
              "      <th></th>\n",
              "      <th>Name</th>\n",
              "      <th>Reference</th>\n",
              "      <th>Turbo</th>\n",
              "    </tr>\n",
              "    <tr>\n",
              "      <th>ID</th>\n",
              "      <th></th>\n",
              "      <th></th>\n",
              "      <th></th>\n",
              "    </tr>\n",
              "  </thead>\n",
              "  <tbody>\n",
              "    <tr>\n",
              "      <th>naive</th>\n",
              "      <td>Naive Forecaster</td>\n",
              "      <td>sktime.forecasting.naive.NaiveForecaster</td>\n",
              "      <td>True</td>\n",
              "    </tr>\n",
              "    <tr>\n",
              "      <th>snaive</th>\n",
              "      <td>Seasonal Naive Forecaster</td>\n",
              "      <td>sktime.forecasting.naive.NaiveForecaster</td>\n",
              "      <td>True</td>\n",
              "    </tr>\n",
              "    <tr>\n",
              "      <th>polytrend</th>\n",
              "      <td>Polynomial Trend Forecaster</td>\n",
              "      <td>sktime.forecasting.trend.PolynomialTrendForeca...</td>\n",
              "      <td>True</td>\n",
              "    </tr>\n",
              "    <tr>\n",
              "      <th>arima</th>\n",
              "      <td>ARIMA</td>\n",
              "      <td>sktime.forecasting.arima.ARIMA</td>\n",
              "      <td>True</td>\n",
              "    </tr>\n",
              "    <tr>\n",
              "      <th>auto_arima</th>\n",
              "      <td>Auto ARIMA</td>\n",
              "      <td>sktime.forecasting.arima.AutoARIMA</td>\n",
              "      <td>True</td>\n",
              "    </tr>\n",
              "    <tr>\n",
              "      <th>exp_smooth</th>\n",
              "      <td>Exponential Smoothing</td>\n",
              "      <td>sktime.forecasting.exp_smoothing.ExponentialSm...</td>\n",
              "      <td>True</td>\n",
              "    </tr>\n",
              "    <tr>\n",
              "      <th>ets</th>\n",
              "      <td>ETS</td>\n",
              "      <td>sktime.forecasting.ets.AutoETS</td>\n",
              "      <td>True</td>\n",
              "    </tr>\n",
              "    <tr>\n",
              "      <th>theta</th>\n",
              "      <td>Theta Forecaster</td>\n",
              "      <td>sktime.forecasting.theta.ThetaForecaster</td>\n",
              "      <td>True</td>\n",
              "    </tr>\n",
              "    <tr>\n",
              "      <th>tbats</th>\n",
              "      <td>TBATS</td>\n",
              "      <td>sktime.forecasting.tbats.TBATS</td>\n",
              "      <td>False</td>\n",
              "    </tr>\n",
              "    <tr>\n",
              "      <th>bats</th>\n",
              "      <td>BATS</td>\n",
              "      <td>sktime.forecasting.bats.BATS</td>\n",
              "      <td>False</td>\n",
              "    </tr>\n",
              "    <tr>\n",
              "      <th>prophet</th>\n",
              "      <td>Prophet</td>\n",
              "      <td>pycaret.containers.models.time_series.ProphetP...</td>\n",
              "      <td>False</td>\n",
              "    </tr>\n",
              "    <tr>\n",
              "      <th>lr_cds_dt</th>\n",
              "      <td>Linear w/ Cond. Deseasonalize &amp; Detrending</td>\n",
              "      <td>pycaret.containers.models.time_series.BaseCdsDt</td>\n",
              "      <td>True</td>\n",
              "    </tr>\n",
              "    <tr>\n",
              "      <th>en_cds_dt</th>\n",
              "      <td>Elastic Net w/ Cond. Deseasonalize &amp; Detrending</td>\n",
              "      <td>pycaret.containers.models.time_series.BaseCdsDt</td>\n",
              "      <td>True</td>\n",
              "    </tr>\n",
              "    <tr>\n",
              "      <th>ridge_cds_dt</th>\n",
              "      <td>Ridge w/ Cond. Deseasonalize &amp; Detrending</td>\n",
              "      <td>pycaret.containers.models.time_series.BaseCdsDt</td>\n",
              "      <td>True</td>\n",
              "    </tr>\n",
              "    <tr>\n",
              "      <th>lasso_cds_dt</th>\n",
              "      <td>Lasso w/ Cond. Deseasonalize &amp; Detrending</td>\n",
              "      <td>pycaret.containers.models.time_series.BaseCdsDt</td>\n",
              "      <td>True</td>\n",
              "    </tr>\n",
              "    <tr>\n",
              "      <th>lar_cds_dt</th>\n",
              "      <td>Least Angular Regressor w/ Cond. Deseasonalize...</td>\n",
              "      <td>pycaret.containers.models.time_series.BaseCdsDt</td>\n",
              "      <td>True</td>\n",
              "    </tr>\n",
              "    <tr>\n",
              "      <th>llar_cds_dt</th>\n",
              "      <td>Lasso Least Angular Regressor w/ Cond. Deseaso...</td>\n",
              "      <td>pycaret.containers.models.time_series.BaseCdsDt</td>\n",
              "      <td>True</td>\n",
              "    </tr>\n",
              "    <tr>\n",
              "      <th>br_cds_dt</th>\n",
              "      <td>Bayesian Ridge w/ Cond. Deseasonalize &amp; Detren...</td>\n",
              "      <td>pycaret.containers.models.time_series.BaseCdsDt</td>\n",
              "      <td>True</td>\n",
              "    </tr>\n",
              "    <tr>\n",
              "      <th>huber_cds_dt</th>\n",
              "      <td>Huber w/ Cond. Deseasonalize &amp; Detrending</td>\n",
              "      <td>pycaret.containers.models.time_series.BaseCdsDt</td>\n",
              "      <td>True</td>\n",
              "    </tr>\n",
              "    <tr>\n",
              "      <th>par_cds_dt</th>\n",
              "      <td>Passive Aggressive w/ Cond. Deseasonalize &amp; De...</td>\n",
              "      <td>pycaret.containers.models.time_series.BaseCdsDt</td>\n",
              "      <td>True</td>\n",
              "    </tr>\n",
              "    <tr>\n",
              "      <th>omp_cds_dt</th>\n",
              "      <td>Orthogonal Matching Pursuit w/ Cond. Deseasona...</td>\n",
              "      <td>pycaret.containers.models.time_series.BaseCdsDt</td>\n",
              "      <td>True</td>\n",
              "    </tr>\n",
              "    <tr>\n",
              "      <th>knn_cds_dt</th>\n",
              "      <td>K Neighbors w/ Cond. Deseasonalize &amp; Detrending</td>\n",
              "      <td>pycaret.containers.models.time_series.BaseCdsDt</td>\n",
              "      <td>True</td>\n",
              "    </tr>\n",
              "    <tr>\n",
              "      <th>dt_cds_dt</th>\n",
              "      <td>Decision Tree w/ Cond. Deseasonalize &amp; Detrending</td>\n",
              "      <td>pycaret.containers.models.time_series.BaseCdsDt</td>\n",
              "      <td>True</td>\n",
              "    </tr>\n",
              "    <tr>\n",
              "      <th>rf_cds_dt</th>\n",
              "      <td>Random Forest w/ Cond. Deseasonalize &amp; Detrending</td>\n",
              "      <td>pycaret.containers.models.time_series.BaseCdsDt</td>\n",
              "      <td>True</td>\n",
              "    </tr>\n",
              "    <tr>\n",
              "      <th>et_cds_dt</th>\n",
              "      <td>Extra Trees w/ Cond. Deseasonalize &amp; Detrending</td>\n",
              "      <td>pycaret.containers.models.time_series.BaseCdsDt</td>\n",
              "      <td>True</td>\n",
              "    </tr>\n",
              "    <tr>\n",
              "      <th>gbr_cds_dt</th>\n",
              "      <td>Gradient Boosting w/ Cond. Deseasonalize &amp; Det...</td>\n",
              "      <td>pycaret.containers.models.time_series.BaseCdsDt</td>\n",
              "      <td>True</td>\n",
              "    </tr>\n",
              "    <tr>\n",
              "      <th>ada_cds_dt</th>\n",
              "      <td>AdaBoost w/ Cond. Deseasonalize &amp; Detrending</td>\n",
              "      <td>pycaret.containers.models.time_series.BaseCdsDt</td>\n",
              "      <td>True</td>\n",
              "    </tr>\n",
              "    <tr>\n",
              "      <th>lightgbm_cds_dt</th>\n",
              "      <td>Light Gradient Boosting w/ Cond. Deseasonalize...</td>\n",
              "      <td>pycaret.containers.models.time_series.BaseCdsDt</td>\n",
              "      <td>True</td>\n",
              "    </tr>\n",
              "  </tbody>\n",
              "</table>\n",
              "</div>"
            ],
            "text/plain": [
              "                                                              Name  ...  Turbo\n",
              "ID                                                                  ...       \n",
              "naive                                             Naive Forecaster  ...   True\n",
              "snaive                                   Seasonal Naive Forecaster  ...   True\n",
              "polytrend                              Polynomial Trend Forecaster  ...   True\n",
              "arima                                                        ARIMA  ...   True\n",
              "auto_arima                                              Auto ARIMA  ...   True\n",
              "exp_smooth                                   Exponential Smoothing  ...   True\n",
              "ets                                                            ETS  ...   True\n",
              "theta                                             Theta Forecaster  ...   True\n",
              "tbats                                                        TBATS  ...  False\n",
              "bats                                                          BATS  ...  False\n",
              "prophet                                                    Prophet  ...  False\n",
              "lr_cds_dt               Linear w/ Cond. Deseasonalize & Detrending  ...   True\n",
              "en_cds_dt          Elastic Net w/ Cond. Deseasonalize & Detrending  ...   True\n",
              "ridge_cds_dt             Ridge w/ Cond. Deseasonalize & Detrending  ...   True\n",
              "lasso_cds_dt             Lasso w/ Cond. Deseasonalize & Detrending  ...   True\n",
              "lar_cds_dt       Least Angular Regressor w/ Cond. Deseasonalize...  ...   True\n",
              "llar_cds_dt      Lasso Least Angular Regressor w/ Cond. Deseaso...  ...   True\n",
              "br_cds_dt        Bayesian Ridge w/ Cond. Deseasonalize & Detren...  ...   True\n",
              "huber_cds_dt             Huber w/ Cond. Deseasonalize & Detrending  ...   True\n",
              "par_cds_dt       Passive Aggressive w/ Cond. Deseasonalize & De...  ...   True\n",
              "omp_cds_dt       Orthogonal Matching Pursuit w/ Cond. Deseasona...  ...   True\n",
              "knn_cds_dt         K Neighbors w/ Cond. Deseasonalize & Detrending  ...   True\n",
              "dt_cds_dt        Decision Tree w/ Cond. Deseasonalize & Detrending  ...   True\n",
              "rf_cds_dt        Random Forest w/ Cond. Deseasonalize & Detrending  ...   True\n",
              "et_cds_dt          Extra Trees w/ Cond. Deseasonalize & Detrending  ...   True\n",
              "gbr_cds_dt       Gradient Boosting w/ Cond. Deseasonalize & Det...  ...   True\n",
              "ada_cds_dt            AdaBoost w/ Cond. Deseasonalize & Detrending  ...   True\n",
              "lightgbm_cds_dt  Light Gradient Boosting w/ Cond. Deseasonalize...  ...   True\n",
              "\n",
              "[28 rows x 3 columns]"
            ]
          },
          "metadata": {
            "tags": []
          },
          "execution_count": 57
        }
      ]
    },
    {
      "cell_type": "markdown",
      "metadata": {
        "id": "YED3Wm10FdH7"
      },
      "source": [
        "Nessa etapa serão gerados todos os modelos disponíveis (desde que aplique *turbo*=*false*) e as principais métricas de avaliação de modelos. Os melhores 3 modelos serão inseridos dentro de uma variável.\n",
        "\n",
        "Conforme abaixo, os melhores modelos são o TBATS, o Prophet e o ETS. "
      ]
    },
    {
      "cell_type": "code",
      "metadata": {
        "colab": {
          "base_uri": "https://localhost:8080/",
          "height": 865,
          "referenced_widgets": [
            "c7dab02ec8f54c5e81c749a6f9af3bea",
            "2daeaf29ca694590b3ac3dd21bd24b1a",
            "8ad2a36fc09c4cb5bbf2af8f44b2569e"
          ]
        },
        "id": "hvHjh6mBIMkt",
        "outputId": "3cf28a7a-bc3e-4da2-e658-a80618412b15"
      },
      "source": [
        "melhores_modelos_3 = exp.compare_models(exclude=['auto_arima'], n_select=3, turbo=False)"
      ],
      "execution_count": 58,
      "outputs": [
        {
          "output_type": "display_data",
          "data": {
            "text/html": [
              "<div>\n",
              "<style scoped>\n",
              "    .dataframe tbody tr th:only-of-type {\n",
              "        vertical-align: middle;\n",
              "    }\n",
              "\n",
              "    .dataframe tbody tr th {\n",
              "        vertical-align: top;\n",
              "    }\n",
              "\n",
              "    .dataframe thead th {\n",
              "        text-align: right;\n",
              "    }\n",
              "</style>\n",
              "<table border=\"1\" class=\"dataframe\">\n",
              "  <thead>\n",
              "    <tr style=\"text-align: right;\">\n",
              "      <th></th>\n",
              "      <th>Model</th>\n",
              "      <th>MAE</th>\n",
              "      <th>RMSE</th>\n",
              "      <th>MAPE</th>\n",
              "      <th>SMAPE</th>\n",
              "      <th>R2</th>\n",
              "      <th>TT (Sec)</th>\n",
              "    </tr>\n",
              "  </thead>\n",
              "  <tbody>\n",
              "    <tr>\n",
              "      <th>tbats</th>\n",
              "      <td>TBATS</td>\n",
              "      <td>875.312</td>\n",
              "      <td>1.30607e+06</td>\n",
              "      <td>0.0169</td>\n",
              "      <td>0.0171</td>\n",
              "      <td>0.7242</td>\n",
              "      <td>75.7433</td>\n",
              "    </tr>\n",
              "    <tr>\n",
              "      <th>bats</th>\n",
              "      <td>BATS</td>\n",
              "      <td>884.713</td>\n",
              "      <td>1.26675e+06</td>\n",
              "      <td>0.0171</td>\n",
              "      <td>0.0173</td>\n",
              "      <td>0.738</td>\n",
              "      <td>10.3100</td>\n",
              "    </tr>\n",
              "    <tr>\n",
              "      <th>ets</th>\n",
              "      <td>ETS</td>\n",
              "      <td>908.598</td>\n",
              "      <td>1.38729e+06</td>\n",
              "      <td>0.0176</td>\n",
              "      <td>0.0178</td>\n",
              "      <td>0.7472</td>\n",
              "      <td>0.0733</td>\n",
              "    </tr>\n",
              "    <tr>\n",
              "      <th>exp_smooth</th>\n",
              "      <td>Exponential Smoothing</td>\n",
              "      <td>962.777</td>\n",
              "      <td>1.49592e+06</td>\n",
              "      <td>0.0187</td>\n",
              "      <td>0.0188</td>\n",
              "      <td>0.731</td>\n",
              "      <td>0.1367</td>\n",
              "    </tr>\n",
              "    <tr>\n",
              "      <th>prophet</th>\n",
              "      <td>Prophet</td>\n",
              "      <td>1243.49</td>\n",
              "      <td>2.28375e+06</td>\n",
              "      <td>0.0242</td>\n",
              "      <td>0.0244</td>\n",
              "      <td>0.5177</td>\n",
              "      <td>0.2467</td>\n",
              "    </tr>\n",
              "    <tr>\n",
              "      <th>arima</th>\n",
              "      <td>ARIMA</td>\n",
              "      <td>1307.24</td>\n",
              "      <td>2.59087e+06</td>\n",
              "      <td>0.0254</td>\n",
              "      <td>0.0259</td>\n",
              "      <td>0.4759</td>\n",
              "      <td>0.2933</td>\n",
              "    </tr>\n",
              "    <tr>\n",
              "      <th>en_cds_dt</th>\n",
              "      <td>Elastic Net w/ Cond. Deseasonalize &amp; Detrending</td>\n",
              "      <td>1901.64</td>\n",
              "      <td>5.53209e+06</td>\n",
              "      <td>0.0368</td>\n",
              "      <td>0.0377</td>\n",
              "      <td>-0.0895</td>\n",
              "      <td>0.0900</td>\n",
              "    </tr>\n",
              "    <tr>\n",
              "      <th>lr_cds_dt</th>\n",
              "      <td>Linear w/ Cond. Deseasonalize &amp; Detrending</td>\n",
              "      <td>1901.65</td>\n",
              "      <td>5.53209e+06</td>\n",
              "      <td>0.0368</td>\n",
              "      <td>0.0377</td>\n",
              "      <td>-0.0895</td>\n",
              "      <td>0.0933</td>\n",
              "    </tr>\n",
              "    <tr>\n",
              "      <th>lasso_cds_dt</th>\n",
              "      <td>Lasso w/ Cond. Deseasonalize &amp; Detrending</td>\n",
              "      <td>1901.64</td>\n",
              "      <td>5.53208e+06</td>\n",
              "      <td>0.0368</td>\n",
              "      <td>0.0377</td>\n",
              "      <td>-0.0895</td>\n",
              "      <td>0.0933</td>\n",
              "    </tr>\n",
              "    <tr>\n",
              "      <th>ridge_cds_dt</th>\n",
              "      <td>Ridge w/ Cond. Deseasonalize &amp; Detrending</td>\n",
              "      <td>1901.65</td>\n",
              "      <td>5.53209e+06</td>\n",
              "      <td>0.0368</td>\n",
              "      <td>0.0377</td>\n",
              "      <td>-0.0895</td>\n",
              "      <td>0.0933</td>\n",
              "    </tr>\n",
              "    <tr>\n",
              "      <th>br_cds_dt</th>\n",
              "      <td>Bayesian Ridge w/ Cond. Deseasonalize &amp; Detren...</td>\n",
              "      <td>1906.33</td>\n",
              "      <td>5.54349e+06</td>\n",
              "      <td>0.0369</td>\n",
              "      <td>0.0378</td>\n",
              "      <td>-0.0842</td>\n",
              "      <td>0.1000</td>\n",
              "    </tr>\n",
              "    <tr>\n",
              "      <th>lar_cds_dt</th>\n",
              "      <td>Least Angular Regressor w/ Cond. Deseasonalize...</td>\n",
              "      <td>1911.49</td>\n",
              "      <td>5.57344e+06</td>\n",
              "      <td>0.037</td>\n",
              "      <td>0.0379</td>\n",
              "      <td>-0.1066</td>\n",
              "      <td>0.0967</td>\n",
              "    </tr>\n",
              "    <tr>\n",
              "      <th>llar_cds_dt</th>\n",
              "      <td>Lasso Least Angular Regressor w/ Cond. Deseaso...</td>\n",
              "      <td>1915.36</td>\n",
              "      <td>5.59759e+06</td>\n",
              "      <td>0.037</td>\n",
              "      <td>0.0379</td>\n",
              "      <td>-0.0768</td>\n",
              "      <td>0.0933</td>\n",
              "    </tr>\n",
              "    <tr>\n",
              "      <th>huber_cds_dt</th>\n",
              "      <td>Huber w/ Cond. Deseasonalize &amp; Detrending</td>\n",
              "      <td>2133.58</td>\n",
              "      <td>6.50093e+06</td>\n",
              "      <td>0.0412</td>\n",
              "      <td>0.0423</td>\n",
              "      <td>-0.2616</td>\n",
              "      <td>0.1133</td>\n",
              "    </tr>\n",
              "    <tr>\n",
              "      <th>lightgbm_cds_dt</th>\n",
              "      <td>Light Gradient Boosting w/ Cond. Deseasonalize...</td>\n",
              "      <td>2433.24</td>\n",
              "      <td>7.76945e+06</td>\n",
              "      <td>0.0472</td>\n",
              "      <td>0.0482</td>\n",
              "      <td>-0.5719</td>\n",
              "      <td>0.1367</td>\n",
              "    </tr>\n",
              "    <tr>\n",
              "      <th>gbr_cds_dt</th>\n",
              "      <td>Gradient Boosting w/ Cond. Deseasonalize &amp; Det...</td>\n",
              "      <td>2465.1</td>\n",
              "      <td>9.89787e+06</td>\n",
              "      <td>0.0473</td>\n",
              "      <td>0.0487</td>\n",
              "      <td>-0.8019</td>\n",
              "      <td>0.1800</td>\n",
              "    </tr>\n",
              "    <tr>\n",
              "      <th>rf_cds_dt</th>\n",
              "      <td>Random Forest w/ Cond. Deseasonalize &amp; Detrending</td>\n",
              "      <td>2620.12</td>\n",
              "      <td>9.29588e+06</td>\n",
              "      <td>0.0508</td>\n",
              "      <td>0.0521</td>\n",
              "      <td>-0.9741</td>\n",
              "      <td>1.1833</td>\n",
              "    </tr>\n",
              "    <tr>\n",
              "      <th>et_cds_dt</th>\n",
              "      <td>Extra Trees w/ Cond. Deseasonalize &amp; Detrending</td>\n",
              "      <td>2616.29</td>\n",
              "      <td>9.64061e+06</td>\n",
              "      <td>0.0505</td>\n",
              "      <td>0.0521</td>\n",
              "      <td>-1.0236</td>\n",
              "      <td>1.0867</td>\n",
              "    </tr>\n",
              "    <tr>\n",
              "      <th>snaive</th>\n",
              "      <td>Seasonal Naive Forecaster</td>\n",
              "      <td>2634.92</td>\n",
              "      <td>8.02299e+06</td>\n",
              "      <td>0.0517</td>\n",
              "      <td>0.0532</td>\n",
              "      <td>-0.7849</td>\n",
              "      <td>0.0167</td>\n",
              "    </tr>\n",
              "    <tr>\n",
              "      <th>ada_cds_dt</th>\n",
              "      <td>AdaBoost w/ Cond. Deseasonalize &amp; Detrending</td>\n",
              "      <td>2722.84</td>\n",
              "      <td>9.63348e+06</td>\n",
              "      <td>0.0531</td>\n",
              "      <td>0.0546</td>\n",
              "      <td>-1.2951</td>\n",
              "      <td>0.2100</td>\n",
              "    </tr>\n",
              "    <tr>\n",
              "      <th>par_cds_dt</th>\n",
              "      <td>Passive Aggressive w/ Cond. Deseasonalize &amp; De...</td>\n",
              "      <td>2800.03</td>\n",
              "      <td>1.08515e+07</td>\n",
              "      <td>0.0544</td>\n",
              "      <td>0.0564</td>\n",
              "      <td>-1.4028</td>\n",
              "      <td>0.1100</td>\n",
              "    </tr>\n",
              "    <tr>\n",
              "      <th>theta</th>\n",
              "      <td>Theta Forecaster</td>\n",
              "      <td>2902.82</td>\n",
              "      <td>1.21879e+07</td>\n",
              "      <td>0.0557</td>\n",
              "      <td>0.0578</td>\n",
              "      <td>-1.4721</td>\n",
              "      <td>0.0200</td>\n",
              "    </tr>\n",
              "    <tr>\n",
              "      <th>dt_cds_dt</th>\n",
              "      <td>Decision Tree w/ Cond. Deseasonalize &amp; Detrending</td>\n",
              "      <td>3084.24</td>\n",
              "      <td>1.40511e+07</td>\n",
              "      <td>0.0598</td>\n",
              "      <td>0.0617</td>\n",
              "      <td>-1.7984</td>\n",
              "      <td>0.1133</td>\n",
              "    </tr>\n",
              "    <tr>\n",
              "      <th>knn_cds_dt</th>\n",
              "      <td>K Neighbors w/ Cond. Deseasonalize &amp; Detrending</td>\n",
              "      <td>3918.91</td>\n",
              "      <td>1.9325e+07</td>\n",
              "      <td>0.076</td>\n",
              "      <td>0.0796</td>\n",
              "      <td>-3.3483</td>\n",
              "      <td>0.9067</td>\n",
              "    </tr>\n",
              "    <tr>\n",
              "      <th>naive</th>\n",
              "      <td>Naive Forecaster</td>\n",
              "      <td>4527.86</td>\n",
              "      <td>2.59258e+07</td>\n",
              "      <td>0.0873</td>\n",
              "      <td>0.0922</td>\n",
              "      <td>-4.3789</td>\n",
              "      <td>0.0133</td>\n",
              "    </tr>\n",
              "    <tr>\n",
              "      <th>omp_cds_dt</th>\n",
              "      <td>Orthogonal Matching Pursuit w/ Cond. Deseasona...</td>\n",
              "      <td>4798.61</td>\n",
              "      <td>2.72749e+07</td>\n",
              "      <td>0.0933</td>\n",
              "      <td>0.0983</td>\n",
              "      <td>-5.0322</td>\n",
              "      <td>0.0900</td>\n",
              "    </tr>\n",
              "    <tr>\n",
              "      <th>polytrend</th>\n",
              "      <td>Polynomial Trend Forecaster</td>\n",
              "      <td>5549.4</td>\n",
              "      <td>3.65097e+07</td>\n",
              "      <td>0.1077</td>\n",
              "      <td>0.1148</td>\n",
              "      <td>-7.0602</td>\n",
              "      <td>0.0133</td>\n",
              "    </tr>\n",
              "  </tbody>\n",
              "</table>\n",
              "</div>"
            ],
            "text/plain": [
              "                                                             Model      MAE  \\\n",
              "tbats                                                        TBATS  875.312   \n",
              "bats                                                          BATS  884.713   \n",
              "ets                                                            ETS  908.598   \n",
              "exp_smooth                                   Exponential Smoothing  962.777   \n",
              "prophet                                                    Prophet  1243.49   \n",
              "arima                                                        ARIMA  1307.24   \n",
              "en_cds_dt          Elastic Net w/ Cond. Deseasonalize & Detrending  1901.64   \n",
              "lr_cds_dt               Linear w/ Cond. Deseasonalize & Detrending  1901.65   \n",
              "lasso_cds_dt             Lasso w/ Cond. Deseasonalize & Detrending  1901.64   \n",
              "ridge_cds_dt             Ridge w/ Cond. Deseasonalize & Detrending  1901.65   \n",
              "br_cds_dt        Bayesian Ridge w/ Cond. Deseasonalize & Detren...  1906.33   \n",
              "lar_cds_dt       Least Angular Regressor w/ Cond. Deseasonalize...  1911.49   \n",
              "llar_cds_dt      Lasso Least Angular Regressor w/ Cond. Deseaso...  1915.36   \n",
              "huber_cds_dt             Huber w/ Cond. Deseasonalize & Detrending  2133.58   \n",
              "lightgbm_cds_dt  Light Gradient Boosting w/ Cond. Deseasonalize...  2433.24   \n",
              "gbr_cds_dt       Gradient Boosting w/ Cond. Deseasonalize & Det...   2465.1   \n",
              "rf_cds_dt        Random Forest w/ Cond. Deseasonalize & Detrending  2620.12   \n",
              "et_cds_dt          Extra Trees w/ Cond. Deseasonalize & Detrending  2616.29   \n",
              "snaive                                   Seasonal Naive Forecaster  2634.92   \n",
              "ada_cds_dt            AdaBoost w/ Cond. Deseasonalize & Detrending  2722.84   \n",
              "par_cds_dt       Passive Aggressive w/ Cond. Deseasonalize & De...  2800.03   \n",
              "theta                                             Theta Forecaster  2902.82   \n",
              "dt_cds_dt        Decision Tree w/ Cond. Deseasonalize & Detrending  3084.24   \n",
              "knn_cds_dt         K Neighbors w/ Cond. Deseasonalize & Detrending  3918.91   \n",
              "naive                                             Naive Forecaster  4527.86   \n",
              "omp_cds_dt       Orthogonal Matching Pursuit w/ Cond. Deseasona...  4798.61   \n",
              "polytrend                              Polynomial Trend Forecaster   5549.4   \n",
              "\n",
              "                        RMSE    MAPE   SMAPE      R2  TT (Sec)  \n",
              "tbats            1.30607e+06  0.0169  0.0171  0.7242   75.7433  \n",
              "bats             1.26675e+06  0.0171  0.0173   0.738   10.3100  \n",
              "ets              1.38729e+06  0.0176  0.0178  0.7472    0.0733  \n",
              "exp_smooth       1.49592e+06  0.0187  0.0188   0.731    0.1367  \n",
              "prophet          2.28375e+06  0.0242  0.0244  0.5177    0.2467  \n",
              "arima            2.59087e+06  0.0254  0.0259  0.4759    0.2933  \n",
              "en_cds_dt        5.53209e+06  0.0368  0.0377 -0.0895    0.0900  \n",
              "lr_cds_dt        5.53209e+06  0.0368  0.0377 -0.0895    0.0933  \n",
              "lasso_cds_dt     5.53208e+06  0.0368  0.0377 -0.0895    0.0933  \n",
              "ridge_cds_dt     5.53209e+06  0.0368  0.0377 -0.0895    0.0933  \n",
              "br_cds_dt        5.54349e+06  0.0369  0.0378 -0.0842    0.1000  \n",
              "lar_cds_dt       5.57344e+06   0.037  0.0379 -0.1066    0.0967  \n",
              "llar_cds_dt      5.59759e+06   0.037  0.0379 -0.0768    0.0933  \n",
              "huber_cds_dt     6.50093e+06  0.0412  0.0423 -0.2616    0.1133  \n",
              "lightgbm_cds_dt  7.76945e+06  0.0472  0.0482 -0.5719    0.1367  \n",
              "gbr_cds_dt       9.89787e+06  0.0473  0.0487 -0.8019    0.1800  \n",
              "rf_cds_dt        9.29588e+06  0.0508  0.0521 -0.9741    1.1833  \n",
              "et_cds_dt        9.64061e+06  0.0505  0.0521 -1.0236    1.0867  \n",
              "snaive           8.02299e+06  0.0517  0.0532 -0.7849    0.0167  \n",
              "ada_cds_dt       9.63348e+06  0.0531  0.0546 -1.2951    0.2100  \n",
              "par_cds_dt       1.08515e+07  0.0544  0.0564 -1.4028    0.1100  \n",
              "theta            1.21879e+07  0.0557  0.0578 -1.4721    0.0200  \n",
              "dt_cds_dt        1.40511e+07  0.0598  0.0617 -1.7984    0.1133  \n",
              "knn_cds_dt        1.9325e+07   0.076  0.0796 -3.3483    0.9067  \n",
              "naive            2.59258e+07  0.0873  0.0922 -4.3789    0.0133  \n",
              "omp_cds_dt       2.72749e+07  0.0933  0.0983 -5.0322    0.0900  \n",
              "polytrend        3.65097e+07  0.1077  0.1148 -7.0602    0.0133  "
            ]
          },
          "metadata": {
            "tags": []
          }
        }
      ]
    },
    {
      "cell_type": "markdown",
      "metadata": {
        "id": "rJiFjbzSGnPO"
      },
      "source": [
        "Os três melhores modelos."
      ]
    },
    {
      "cell_type": "code",
      "metadata": {
        "colab": {
          "base_uri": "https://localhost:8080/"
        },
        "id": "XD6SjEcrxGH-",
        "outputId": "7fc56c24-4df3-44d6-c41c-d6b1c211d742"
      },
      "source": [
        "melhores_modelos_3"
      ],
      "execution_count": 59,
      "outputs": [
        {
          "output_type": "execute_result",
          "data": {
            "text/plain": [
              "[TBATS(box_cox_bounds=(0, 1), context=None, multiprocessing_start_method='spawn',\n",
              "       n_jobs=None, show_warnings=False, sp=12, use_arma_errors=True,\n",
              "       use_box_cox=True, use_damped_trend=None, use_trend=None),\n",
              " BATS(box_cox_bounds=(0, 1), context=None, multiprocessing_start_method='spawn',\n",
              "      n_jobs=None, show_warnings=False, sp=12, use_arma_errors=True,\n",
              "      use_box_cox=True, use_damped_trend=None, use_trend=None),\n",
              " AutoETS(additive_only=False, allow_multiplicative_trend=False, auto=False,\n",
              "         bounds=None, callback=None, damped_trend=False, dates=None, disp=False,\n",
              "         error='add', freq=None, full_output=True, information_criterion='aic',\n",
              "         initial_level=None, initial_seasonal=None, initial_trend=None,\n",
              "         initialization_method='estimated', maxiter=1000, missing='none',\n",
              "         n_jobs=None, restrict=True, return_params=False, seasonal='add', sp=12,\n",
              "         start_params=None, trend='add')]"
            ]
          },
          "metadata": {
            "tags": []
          },
          "execution_count": 59
        }
      ]
    },
    {
      "cell_type": "markdown",
      "metadata": {
        "id": "nMyOI9hirVIk"
      },
      "source": [
        "## Avaliando os modelos separadamente\n",
        "\n",
        "Modelo *TBATS*."
      ]
    },
    {
      "cell_type": "code",
      "metadata": {
        "colab": {
          "base_uri": "https://localhost:8080/",
          "height": 248,
          "referenced_widgets": [
            "f1aa64ff275a4e12bad784b2ab8045f3",
            "e197e229d4bf457781e20eef59271301",
            "882d6216c2604b5ab5bc8ac1d4363ebd"
          ]
        },
        "id": "x6iHyceTSiYH",
        "outputId": "91212287-ff12-40f0-9a51-e1bc51dc5bad"
      },
      "source": [
        "modelo = exp.create_model(\"tbats\")\n",
        "modelo"
      ],
      "execution_count": 60,
      "outputs": [
        {
          "output_type": "display_data",
          "data": {
            "text/html": [
              "<div>\n",
              "<style scoped>\n",
              "    .dataframe tbody tr th:only-of-type {\n",
              "        vertical-align: middle;\n",
              "    }\n",
              "\n",
              "    .dataframe tbody tr th {\n",
              "        vertical-align: top;\n",
              "    }\n",
              "\n",
              "    .dataframe thead th {\n",
              "        text-align: right;\n",
              "    }\n",
              "</style>\n",
              "<table border=\"1\" class=\"dataframe\">\n",
              "  <thead>\n",
              "    <tr style=\"text-align: right;\">\n",
              "      <th></th>\n",
              "      <th>cutoff</th>\n",
              "      <th>MAE</th>\n",
              "      <th>RMSE</th>\n",
              "      <th>MAPE</th>\n",
              "      <th>SMAPE</th>\n",
              "      <th>R2</th>\n",
              "    </tr>\n",
              "  </thead>\n",
              "  <tbody>\n",
              "    <tr>\n",
              "      <th>0</th>\n",
              "      <td>2016-01</td>\n",
              "      <td>805.6829</td>\n",
              "      <td>9.022847e+05</td>\n",
              "      <td>0.0168</td>\n",
              "      <td>0.0169</td>\n",
              "      <td>0.6264</td>\n",
              "    </tr>\n",
              "    <tr>\n",
              "      <th>1</th>\n",
              "      <td>2017-01</td>\n",
              "      <td>725.1173</td>\n",
              "      <td>1.004930e+06</td>\n",
              "      <td>0.0140</td>\n",
              "      <td>0.0142</td>\n",
              "      <td>0.7917</td>\n",
              "    </tr>\n",
              "    <tr>\n",
              "      <th>2</th>\n",
              "      <td>2018-01</td>\n",
              "      <td>1095.1364</td>\n",
              "      <td>2.011009e+06</td>\n",
              "      <td>0.0199</td>\n",
              "      <td>0.0202</td>\n",
              "      <td>0.7544</td>\n",
              "    </tr>\n",
              "    <tr>\n",
              "      <th>Mean</th>\n",
              "      <td>NaN</td>\n",
              "      <td>875.3122</td>\n",
              "      <td>1.306074e+06</td>\n",
              "      <td>0.0169</td>\n",
              "      <td>0.0171</td>\n",
              "      <td>0.7242</td>\n",
              "    </tr>\n",
              "    <tr>\n",
              "      <th>SD</th>\n",
              "      <td>NaN</td>\n",
              "      <td>158.8809</td>\n",
              "      <td>5.002221e+05</td>\n",
              "      <td>0.0024</td>\n",
              "      <td>0.0024</td>\n",
              "      <td>0.0708</td>\n",
              "    </tr>\n",
              "  </tbody>\n",
              "</table>\n",
              "</div>"
            ],
            "text/plain": [
              "       cutoff        MAE          RMSE    MAPE   SMAPE      R2\n",
              "0     2016-01   805.6829  9.022847e+05  0.0168  0.0169  0.6264\n",
              "1     2017-01   725.1173  1.004930e+06  0.0140  0.0142  0.7917\n",
              "2     2018-01  1095.1364  2.011009e+06  0.0199  0.0202  0.7544\n",
              "Mean      NaN   875.3122  1.306074e+06  0.0169  0.0171  0.7242\n",
              "SD        NaN   158.8809  5.002221e+05  0.0024  0.0024  0.0708"
            ]
          },
          "metadata": {
            "tags": []
          }
        },
        {
          "output_type": "execute_result",
          "data": {
            "text/plain": [
              "TBATS(box_cox_bounds=(0, 1), context=None, multiprocessing_start_method='spawn',\n",
              "      n_jobs=None, show_warnings=False, sp=12, use_arma_errors=True,\n",
              "      use_box_cox=True, use_damped_trend=None, use_trend=None)"
            ]
          },
          "metadata": {
            "tags": []
          },
          "execution_count": 60
        }
      ]
    },
    {
      "cell_type": "markdown",
      "metadata": {
        "id": "bnPOPvf9HMlJ"
      },
      "source": [
        "Modelo *BATS*."
      ]
    },
    {
      "cell_type": "code",
      "metadata": {
        "colab": {
          "base_uri": "https://localhost:8080/",
          "height": 248,
          "referenced_widgets": [
            "f32ec7a6f14a4610a2453d0c474c60ae",
            "25a91cab7a8c48869580a419add5f9cf",
            "90751ed1e1254eccbd02f7e2730fe196"
          ]
        },
        "id": "vdjTsK0NsWrF",
        "outputId": "7a1c4a93-1c60-4294-b2e2-d13a97e137ac"
      },
      "source": [
        "modelo1 = exp.create_model('bats')\n",
        "modelo1"
      ],
      "execution_count": 61,
      "outputs": [
        {
          "output_type": "display_data",
          "data": {
            "text/html": [
              "<div>\n",
              "<style scoped>\n",
              "    .dataframe tbody tr th:only-of-type {\n",
              "        vertical-align: middle;\n",
              "    }\n",
              "\n",
              "    .dataframe tbody tr th {\n",
              "        vertical-align: top;\n",
              "    }\n",
              "\n",
              "    .dataframe thead th {\n",
              "        text-align: right;\n",
              "    }\n",
              "</style>\n",
              "<table border=\"1\" class=\"dataframe\">\n",
              "  <thead>\n",
              "    <tr style=\"text-align: right;\">\n",
              "      <th></th>\n",
              "      <th>cutoff</th>\n",
              "      <th>MAE</th>\n",
              "      <th>RMSE</th>\n",
              "      <th>MAPE</th>\n",
              "      <th>SMAPE</th>\n",
              "      <th>R2</th>\n",
              "    </tr>\n",
              "  </thead>\n",
              "  <tbody>\n",
              "    <tr>\n",
              "      <th>0</th>\n",
              "      <td>2016-01</td>\n",
              "      <td>804.5725</td>\n",
              "      <td>8.561041e+05</td>\n",
              "      <td>0.0168</td>\n",
              "      <td>0.0168</td>\n",
              "      <td>0.6456</td>\n",
              "    </tr>\n",
              "    <tr>\n",
              "      <th>1</th>\n",
              "      <td>2017-01</td>\n",
              "      <td>724.4528</td>\n",
              "      <td>8.451812e+05</td>\n",
              "      <td>0.0141</td>\n",
              "      <td>0.0142</td>\n",
              "      <td>0.8248</td>\n",
              "    </tr>\n",
              "    <tr>\n",
              "      <th>2</th>\n",
              "      <td>2018-01</td>\n",
              "      <td>1125.1142</td>\n",
              "      <td>2.098957e+06</td>\n",
              "      <td>0.0204</td>\n",
              "      <td>0.0207</td>\n",
              "      <td>0.7436</td>\n",
              "    </tr>\n",
              "    <tr>\n",
              "      <th>Mean</th>\n",
              "      <td>NaN</td>\n",
              "      <td>884.7132</td>\n",
              "      <td>1.266748e+06</td>\n",
              "      <td>0.0171</td>\n",
              "      <td>0.0173</td>\n",
              "      <td>0.7380</td>\n",
              "    </tr>\n",
              "    <tr>\n",
              "      <th>SD</th>\n",
              "      <td>NaN</td>\n",
              "      <td>173.1074</td>\n",
              "      <td>5.884780e+05</td>\n",
              "      <td>0.0026</td>\n",
              "      <td>0.0027</td>\n",
              "      <td>0.0733</td>\n",
              "    </tr>\n",
              "  </tbody>\n",
              "</table>\n",
              "</div>"
            ],
            "text/plain": [
              "       cutoff        MAE          RMSE    MAPE   SMAPE      R2\n",
              "0     2016-01   804.5725  8.561041e+05  0.0168  0.0168  0.6456\n",
              "1     2017-01   724.4528  8.451812e+05  0.0141  0.0142  0.8248\n",
              "2     2018-01  1125.1142  2.098957e+06  0.0204  0.0207  0.7436\n",
              "Mean      NaN   884.7132  1.266748e+06  0.0171  0.0173  0.7380\n",
              "SD        NaN   173.1074  5.884780e+05  0.0026  0.0027  0.0733"
            ]
          },
          "metadata": {
            "tags": []
          }
        },
        {
          "output_type": "execute_result",
          "data": {
            "text/plain": [
              "BATS(box_cox_bounds=(0, 1), context=None, multiprocessing_start_method='spawn',\n",
              "     n_jobs=None, show_warnings=False, sp=12, use_arma_errors=True,\n",
              "     use_box_cox=True, use_damped_trend=None, use_trend=None)"
            ]
          },
          "metadata": {
            "tags": []
          },
          "execution_count": 61
        }
      ]
    },
    {
      "cell_type": "markdown",
      "metadata": {
        "id": "vOLa1K-OHP2C"
      },
      "source": [
        "Modelo *ETS*."
      ]
    },
    {
      "cell_type": "code",
      "metadata": {
        "colab": {
          "base_uri": "https://localhost:8080/",
          "height": 313,
          "referenced_widgets": [
            "e3555f7c8db94298967c77bbcb11a059",
            "9f96eed094584e7ead9ab17e4dfb3552",
            "f1f07bd6201143f39243b0d999369d9d"
          ]
        },
        "id": "iYurBhxKsW1N",
        "outputId": "b37d6d5f-e020-4b84-f917-9cacea55c6a9"
      },
      "source": [
        "modelo2 = exp.create_model('ets')\n",
        "modelo2"
      ],
      "execution_count": 62,
      "outputs": [
        {
          "output_type": "display_data",
          "data": {
            "text/html": [
              "<div>\n",
              "<style scoped>\n",
              "    .dataframe tbody tr th:only-of-type {\n",
              "        vertical-align: middle;\n",
              "    }\n",
              "\n",
              "    .dataframe tbody tr th {\n",
              "        vertical-align: top;\n",
              "    }\n",
              "\n",
              "    .dataframe thead th {\n",
              "        text-align: right;\n",
              "    }\n",
              "</style>\n",
              "<table border=\"1\" class=\"dataframe\">\n",
              "  <thead>\n",
              "    <tr style=\"text-align: right;\">\n",
              "      <th></th>\n",
              "      <th>cutoff</th>\n",
              "      <th>MAE</th>\n",
              "      <th>RMSE</th>\n",
              "      <th>MAPE</th>\n",
              "      <th>SMAPE</th>\n",
              "      <th>R2</th>\n",
              "    </tr>\n",
              "  </thead>\n",
              "  <tbody>\n",
              "    <tr>\n",
              "      <th>0</th>\n",
              "      <td>2016-01</td>\n",
              "      <td>635.4540</td>\n",
              "      <td>6.318037e+05</td>\n",
              "      <td>0.0134</td>\n",
              "      <td>0.0134</td>\n",
              "      <td>0.7384</td>\n",
              "    </tr>\n",
              "    <tr>\n",
              "      <th>1</th>\n",
              "      <td>2017-01</td>\n",
              "      <td>761.4507</td>\n",
              "      <td>7.703644e+05</td>\n",
              "      <td>0.0151</td>\n",
              "      <td>0.0151</td>\n",
              "      <td>0.8403</td>\n",
              "    </tr>\n",
              "    <tr>\n",
              "      <th>2</th>\n",
              "      <td>2018-01</td>\n",
              "      <td>1328.8899</td>\n",
              "      <td>2.759705e+06</td>\n",
              "      <td>0.0244</td>\n",
              "      <td>0.0247</td>\n",
              "      <td>0.6629</td>\n",
              "    </tr>\n",
              "    <tr>\n",
              "      <th>Mean</th>\n",
              "      <td>NaN</td>\n",
              "      <td>908.5982</td>\n",
              "      <td>1.387291e+06</td>\n",
              "      <td>0.0176</td>\n",
              "      <td>0.0178</td>\n",
              "      <td>0.7472</td>\n",
              "    </tr>\n",
              "    <tr>\n",
              "      <th>SD</th>\n",
              "      <td>NaN</td>\n",
              "      <td>301.6097</td>\n",
              "      <td>9.720904e+05</td>\n",
              "      <td>0.0048</td>\n",
              "      <td>0.0050</td>\n",
              "      <td>0.0727</td>\n",
              "    </tr>\n",
              "  </tbody>\n",
              "</table>\n",
              "</div>"
            ],
            "text/plain": [
              "       cutoff        MAE          RMSE    MAPE   SMAPE      R2\n",
              "0     2016-01   635.4540  6.318037e+05  0.0134  0.0134  0.7384\n",
              "1     2017-01   761.4507  7.703644e+05  0.0151  0.0151  0.8403\n",
              "2     2018-01  1328.8899  2.759705e+06  0.0244  0.0247  0.6629\n",
              "Mean      NaN   908.5982  1.387291e+06  0.0176  0.0178  0.7472\n",
              "SD        NaN   301.6097  9.720904e+05  0.0048  0.0050  0.0727"
            ]
          },
          "metadata": {
            "tags": []
          }
        },
        {
          "output_type": "execute_result",
          "data": {
            "text/plain": [
              "AutoETS(additive_only=False, allow_multiplicative_trend=False, auto=False,\n",
              "        bounds=None, callback=None, damped_trend=False, dates=None, disp=False,\n",
              "        error='add', freq=None, full_output=True, information_criterion='aic',\n",
              "        initial_level=None, initial_seasonal=None, initial_trend=None,\n",
              "        initialization_method='estimated', maxiter=1000, missing='none',\n",
              "        n_jobs=None, restrict=True, return_params=False, seasonal='add', sp=12,\n",
              "        start_params=None, trend='add')"
            ]
          },
          "metadata": {
            "tags": []
          },
          "execution_count": 62
        }
      ]
    },
    {
      "cell_type": "markdown",
      "metadata": {
        "id": "ISmY53HBHT3E"
      },
      "source": [
        "Definindo as variáveis de treino e de teste (ou validação)."
      ]
    },
    {
      "cell_type": "code",
      "metadata": {
        "id": "AC_WpfkbYFZm"
      },
      "source": [
        "y_treino = exp.get_config(\"y_train\")\n",
        "y_teste = exp.get_config(\"y_test\")"
      ],
      "execution_count": 66,
      "outputs": []
    },
    {
      "cell_type": "markdown",
      "metadata": {
        "id": "_YHhpOmDHcoa"
      },
      "source": [
        "## Gerando as previsões"
      ]
    },
    {
      "cell_type": "markdown",
      "metadata": {
        "id": "PgKfM-KwJQE2"
      },
      "source": [
        "### Gerando as previsões do modelo *TBATS*"
      ]
    },
    {
      "cell_type": "code",
      "metadata": {
        "colab": {
          "base_uri": "https://localhost:8080/",
          "height": 78
        },
        "id": "dFPInyEwYFcd",
        "outputId": "6b4d7a77-d1a0-491e-a0ff-af02f0e22e37"
      },
      "source": [
        "y_predito = exp.predict_model(modelo)"
      ],
      "execution_count": 67,
      "outputs": [
        {
          "output_type": "display_data",
          "data": {
            "text/html": [
              "<div>\n",
              "<style scoped>\n",
              "    .dataframe tbody tr th:only-of-type {\n",
              "        vertical-align: middle;\n",
              "    }\n",
              "\n",
              "    .dataframe tbody tr th {\n",
              "        vertical-align: top;\n",
              "    }\n",
              "\n",
              "    .dataframe thead th {\n",
              "        text-align: right;\n",
              "    }\n",
              "</style>\n",
              "<table border=\"1\" class=\"dataframe\">\n",
              "  <thead>\n",
              "    <tr style=\"text-align: right;\">\n",
              "      <th></th>\n",
              "      <th>Model</th>\n",
              "      <th>MAE</th>\n",
              "      <th>RMSE</th>\n",
              "      <th>MAPE</th>\n",
              "      <th>SMAPE</th>\n",
              "      <th>R2</th>\n",
              "    </tr>\n",
              "  </thead>\n",
              "  <tbody>\n",
              "    <tr>\n",
              "      <th>0</th>\n",
              "      <td>TBATS</td>\n",
              "      <td>796.9033</td>\n",
              "      <td>1054.878</td>\n",
              "      <td>0.0139</td>\n",
              "      <td>0.0141</td>\n",
              "      <td>0.858</td>\n",
              "    </tr>\n",
              "  </tbody>\n",
              "</table>\n",
              "</div>"
            ],
            "text/plain": [
              "   Model       MAE      RMSE    MAPE   SMAPE     R2\n",
              "0  TBATS  796.9033  1054.878  0.0139  0.0141  0.858"
            ]
          },
          "metadata": {
            "tags": []
          }
        }
      ]
    },
    {
      "cell_type": "markdown",
      "metadata": {
        "id": "uHMeMbAyIyO3"
      },
      "source": [
        "Plotando as previsões, a série de validação e os dados de treino."
      ]
    },
    {
      "cell_type": "code",
      "metadata": {
        "colab": {
          "base_uri": "https://localhost:8080/",
          "height": 265
        },
        "id": "bel3wG1BYFer",
        "outputId": "e0e09fb8-50c2-4b5b-8570-e14de2d00b4b"
      },
      "source": [
        "plot_series(vendas['MRTSSM7225USN'], y_treino, y_predito, labels=['Série completa', 'Treino', 'Previsões']);"
      ],
      "execution_count": 68,
      "outputs": [
        {
          "output_type": "display_data",
          "data": {
            "image/png": "[encoded data removed]",
            "text/plain": [
              "<Figure size 1152x288 with 1 Axes>"
            ]
          },
          "metadata": {
            "tags": [],
            "needs_background": "light"
          }
        }
      ]
    },
    {
      "cell_type": "markdown",
      "metadata": {
        "id": "hFVVKUWtJGN9"
      },
      "source": [
        "Plotando os dados de validação e as previsões."
      ]
    },
    {
      "cell_type": "code",
      "metadata": {
        "colab": {
          "base_uri": "https://localhost:8080/",
          "height": 265
        },
        "id": "oq469YAMqMaw",
        "outputId": "25e71000-17f2-4479-d9a6-2f09f816f540"
      },
      "source": [
        "plot_series(y_teste, y_predito, labels=['Teste', 'Previsões']);"
      ],
      "execution_count": 69,
      "outputs": [
        {
          "output_type": "display_data",
          "data": {
            "image/png": "[encoded data removed]",
            "text/plain": [
              "<Figure size 1152x288 with 1 Axes>"
            ]
          },
          "metadata": {
            "tags": [],
            "needs_background": "light"
          }
        }
      ]
    },
    {
      "cell_type": "markdown",
      "metadata": {
        "id": "IV_hUdVUJMLc"
      },
      "source": [
        "### Gerando as previsões para o *BATS*"
      ]
    },
    {
      "cell_type": "code",
      "metadata": {
        "colab": {
          "base_uri": "https://localhost:8080/",
          "height": 78
        },
        "id": "mL3K_MMEyr3Y",
        "outputId": "f09c4d9c-3d5b-403a-ef2c-40ca3f6bb6d2"
      },
      "source": [
        "y_predito1 = exp.predict_model(modelo1)"
      ],
      "execution_count": 70,
      "outputs": [
        {
          "output_type": "display_data",
          "data": {
            "text/html": [
              "<div>\n",
              "<style scoped>\n",
              "    .dataframe tbody tr th:only-of-type {\n",
              "        vertical-align: middle;\n",
              "    }\n",
              "\n",
              "    .dataframe tbody tr th {\n",
              "        vertical-align: top;\n",
              "    }\n",
              "\n",
              "    .dataframe thead th {\n",
              "        text-align: right;\n",
              "    }\n",
              "</style>\n",
              "<table border=\"1\" class=\"dataframe\">\n",
              "  <thead>\n",
              "    <tr style=\"text-align: right;\">\n",
              "      <th></th>\n",
              "      <th>Model</th>\n",
              "      <th>MAE</th>\n",
              "      <th>RMSE</th>\n",
              "      <th>MAPE</th>\n",
              "      <th>SMAPE</th>\n",
              "      <th>R2</th>\n",
              "    </tr>\n",
              "  </thead>\n",
              "  <tbody>\n",
              "    <tr>\n",
              "      <th>0</th>\n",
              "      <td>BATS</td>\n",
              "      <td>1067.0223</td>\n",
              "      <td>1269.9239</td>\n",
              "      <td>0.0187</td>\n",
              "      <td>0.0189</td>\n",
              "      <td>0.7942</td>\n",
              "    </tr>\n",
              "  </tbody>\n",
              "</table>\n",
              "</div>"
            ],
            "text/plain": [
              "  Model        MAE       RMSE    MAPE   SMAPE      R2\n",
              "0  BATS  1067.0223  1269.9239  0.0187  0.0189  0.7942"
            ]
          },
          "metadata": {
            "tags": []
          }
        }
      ]
    },
    {
      "cell_type": "markdown",
      "metadata": {
        "id": "fanHgLmeJhgi"
      },
      "source": [
        "Plotando as previsões, a série de validação e os dados de treino."
      ]
    },
    {
      "cell_type": "code",
      "metadata": {
        "colab": {
          "base_uri": "https://localhost:8080/",
          "height": 265
        },
        "id": "lgxubUAdyr5r",
        "outputId": "fbfd8cf2-1559-413a-89f1-641a35a6fef8"
      },
      "source": [
        "plot_series(vendas['MRTSSM7225USN'], y_treino, y_predito1, labels=['Série completa', 'Treino', 'Previsões']);"
      ],
      "execution_count": 71,
      "outputs": [
        {
          "output_type": "display_data",
          "data": {
            "image/png": "[encoded data removed]",
            "text/plain": [
              "<Figure size 1152x288 with 1 Axes>"
            ]
          },
          "metadata": {
            "tags": [],
            "needs_background": "light"
          }
        }
      ]
    },
    {
      "cell_type": "markdown",
      "metadata": {
        "id": "TRvH5j6kJtjY"
      },
      "source": [
        "Plotando os dados de validação e as previsões."
      ]
    },
    {
      "cell_type": "code",
      "metadata": {
        "colab": {
          "base_uri": "https://localhost:8080/",
          "height": 265
        },
        "id": "b-MpxTyKyr8E",
        "outputId": "cacb1a05-4484-4cb1-d235-90e436e1df9d"
      },
      "source": [
        "plot_series(y_teste, y_predito1, labels=['Teste', 'Previsões']);"
      ],
      "execution_count": 72,
      "outputs": [
        {
          "output_type": "display_data",
          "data": {
            "image/png": "[encoded data removed]",
            "text/plain": [
              "<Figure size 1152x288 with 1 Axes>"
            ]
          },
          "metadata": {
            "tags": [],
            "needs_background": "light"
          }
        }
      ]
    },
    {
      "cell_type": "markdown",
      "metadata": {
        "id": "b-zAmGRPJlO2"
      },
      "source": [
        "### Gerando as previsões para o modelo *ETS*"
      ]
    },
    {
      "cell_type": "code",
      "metadata": {
        "colab": {
          "base_uri": "https://localhost:8080/",
          "height": 78
        },
        "id": "CDTuXNaAysBm",
        "outputId": "267b66a0-dbb6-4d12-c570-7172742427dd"
      },
      "source": [
        "y_predito2 = exp.predict_model(modelo2)"
      ],
      "execution_count": 73,
      "outputs": [
        {
          "output_type": "display_data",
          "data": {
            "text/html": [
              "<div>\n",
              "<style scoped>\n",
              "    .dataframe tbody tr th:only-of-type {\n",
              "        vertical-align: middle;\n",
              "    }\n",
              "\n",
              "    .dataframe tbody tr th {\n",
              "        vertical-align: top;\n",
              "    }\n",
              "\n",
              "    .dataframe thead th {\n",
              "        text-align: right;\n",
              "    }\n",
              "</style>\n",
              "<table border=\"1\" class=\"dataframe\">\n",
              "  <thead>\n",
              "    <tr style=\"text-align: right;\">\n",
              "      <th></th>\n",
              "      <th>Model</th>\n",
              "      <th>MAE</th>\n",
              "      <th>RMSE</th>\n",
              "      <th>MAPE</th>\n",
              "      <th>SMAPE</th>\n",
              "      <th>R2</th>\n",
              "    </tr>\n",
              "  </thead>\n",
              "  <tbody>\n",
              "    <tr>\n",
              "      <th>0</th>\n",
              "      <td>ETS</td>\n",
              "      <td>764.1677</td>\n",
              "      <td>886.7823</td>\n",
              "      <td>0.0139</td>\n",
              "      <td>0.0139</td>\n",
              "      <td>0.8997</td>\n",
              "    </tr>\n",
              "  </tbody>\n",
              "</table>\n",
              "</div>"
            ],
            "text/plain": [
              "  Model       MAE      RMSE    MAPE   SMAPE      R2\n",
              "0   ETS  764.1677  886.7823  0.0139  0.0139  0.8997"
            ]
          },
          "metadata": {
            "tags": []
          }
        }
      ]
    },
    {
      "cell_type": "markdown",
      "metadata": {
        "id": "Jmcv9KD2JjOQ"
      },
      "source": [
        "Plotando as previsões, a série de validação e os dados de treino."
      ]
    },
    {
      "cell_type": "code",
      "metadata": {
        "colab": {
          "base_uri": "https://localhost:8080/",
          "height": 265
        },
        "id": "c5GgykWlysDa",
        "outputId": "cfcef14e-4e33-45e6-c4a8-cb4aab6131aa"
      },
      "source": [
        "plot_series(vendas['MRTSSM7225USN'], y_treino, y_predito2, labels=['Série completa', 'Treino', 'Previsões']);"
      ],
      "execution_count": 74,
      "outputs": [
        {
          "output_type": "display_data",
          "data": {
            "image/png": "[encoded data removed]",
            "text/plain": [
              "<Figure size 1152x288 with 1 Axes>"
            ]
          },
          "metadata": {
            "tags": [],
            "needs_background": "light"
          }
        }
      ]
    },
    {
      "cell_type": "markdown",
      "metadata": {
        "id": "CBzWG-geLY1A"
      },
      "source": [
        "Plotando os dados de validação e as previsões."
      ]
    },
    {
      "cell_type": "code",
      "metadata": {
        "colab": {
          "base_uri": "https://localhost:8080/",
          "height": 265
        },
        "id": "2i-bXeFXysFw",
        "outputId": "bcd54ca7-2e4e-4d02-eaef-e253bca39694"
      },
      "source": [
        "plot_series(y_teste, y_predito2, labels=['Teste', 'Previsões']);"
      ],
      "execution_count": 75,
      "outputs": [
        {
          "output_type": "display_data",
          "data": {
            "image/png": "[encoded data removed]",
            "text/plain": [
              "<Figure size 1152x288 with 1 Axes>"
            ]
          },
          "metadata": {
            "tags": [],
            "needs_background": "light"
          }
        }
      ]
    },
    {
      "cell_type": "markdown",
      "metadata": {
        "id": "F-78yY6WJyvA"
      },
      "source": [
        "## Realizando o *Tunning* do modelo\n",
        "\n",
        "Nessa etapa é possível realizar uma busca de parâmetros que possam melhorar o desempenho dos modelos.\n",
        "\n"
      ]
    },
    {
      "cell_type": "markdown",
      "metadata": {
        "id": "QeYSybwjLiSk"
      },
      "source": [
        "### *Tunning TBATS*"
      ]
    },
    {
      "cell_type": "code",
      "metadata": {
        "colab": {
          "base_uri": "https://localhost:8080/",
          "height": 200,
          "referenced_widgets": [
            "9f0a9b63d9534496878a98818926906a",
            "b2888c2862a040c5b244ee5b86f0c599",
            "570f5e6bb2044ac5af0ba4a39b65022c"
          ]
        },
        "id": "RyDB9zXbYFhE",
        "outputId": "ca36fb88-2caa-41a9-c6a9-4653a96b40cd"
      },
      "source": [
        "modelo_tunado = exp.tune_model(modelo)"
      ],
      "execution_count": 76,
      "outputs": [
        {
          "output_type": "display_data",
          "data": {
            "text/html": [
              "<div>\n",
              "<style scoped>\n",
              "    .dataframe tbody tr th:only-of-type {\n",
              "        vertical-align: middle;\n",
              "    }\n",
              "\n",
              "    .dataframe tbody tr th {\n",
              "        vertical-align: top;\n",
              "    }\n",
              "\n",
              "    .dataframe thead th {\n",
              "        text-align: right;\n",
              "    }\n",
              "</style>\n",
              "<table border=\"1\" class=\"dataframe\">\n",
              "  <thead>\n",
              "    <tr style=\"text-align: right;\">\n",
              "      <th></th>\n",
              "      <th>cutoff</th>\n",
              "      <th>MAE</th>\n",
              "      <th>RMSE</th>\n",
              "      <th>MAPE</th>\n",
              "      <th>SMAPE</th>\n",
              "      <th>R2</th>\n",
              "    </tr>\n",
              "  </thead>\n",
              "  <tbody>\n",
              "    <tr>\n",
              "      <th>0</th>\n",
              "      <td>2016-01</td>\n",
              "      <td>805.6829</td>\n",
              "      <td>9.022847e+05</td>\n",
              "      <td>0.0168</td>\n",
              "      <td>0.0169</td>\n",
              "      <td>0.6264</td>\n",
              "    </tr>\n",
              "    <tr>\n",
              "      <th>1</th>\n",
              "      <td>2017-01</td>\n",
              "      <td>725.1173</td>\n",
              "      <td>1.004930e+06</td>\n",
              "      <td>0.0140</td>\n",
              "      <td>0.0142</td>\n",
              "      <td>0.7917</td>\n",
              "    </tr>\n",
              "    <tr>\n",
              "      <th>2</th>\n",
              "      <td>2018-01</td>\n",
              "      <td>1095.1364</td>\n",
              "      <td>2.011009e+06</td>\n",
              "      <td>0.0199</td>\n",
              "      <td>0.0202</td>\n",
              "      <td>0.7544</td>\n",
              "    </tr>\n",
              "    <tr>\n",
              "      <th>Mean</th>\n",
              "      <td>NaN</td>\n",
              "      <td>875.3122</td>\n",
              "      <td>1.306074e+06</td>\n",
              "      <td>0.0169</td>\n",
              "      <td>0.0171</td>\n",
              "      <td>0.7242</td>\n",
              "    </tr>\n",
              "    <tr>\n",
              "      <th>SD</th>\n",
              "      <td>NaN</td>\n",
              "      <td>158.8809</td>\n",
              "      <td>5.002221e+05</td>\n",
              "      <td>0.0024</td>\n",
              "      <td>0.0024</td>\n",
              "      <td>0.0708</td>\n",
              "    </tr>\n",
              "  </tbody>\n",
              "</table>\n",
              "</div>"
            ],
            "text/plain": [
              "       cutoff        MAE          RMSE    MAPE   SMAPE      R2\n",
              "0     2016-01   805.6829  9.022847e+05  0.0168  0.0169  0.6264\n",
              "1     2017-01   725.1173  1.004930e+06  0.0140  0.0142  0.7917\n",
              "2     2018-01  1095.1364  2.011009e+06  0.0199  0.0202  0.7544\n",
              "Mean      NaN   875.3122  1.306074e+06  0.0169  0.0171  0.7242\n",
              "SD        NaN   158.8809  5.002221e+05  0.0024  0.0024  0.0708"
            ]
          },
          "metadata": {
            "tags": []
          }
        }
      ]
    },
    {
      "cell_type": "markdown",
      "metadata": {
        "id": "sitqAzTlNiI7"
      },
      "source": [
        "Comparando o modelo antes e depois do *tunning*."
      ]
    },
    {
      "cell_type": "code",
      "metadata": {
        "colab": {
          "base_uri": "https://localhost:8080/"
        },
        "id": "_GkPFn-yYFjP",
        "outputId": "31c2e0d6-7960-4569-c3a3-340a3aee676b"
      },
      "source": [
        "print(modelo)\n",
        "print(modelo_tunado)"
      ],
      "execution_count": 77,
      "outputs": [
        {
          "output_type": "stream",
          "text": [
            "TBATS(box_cox_bounds=(0, 1), context=None, multiprocessing_start_method='spawn',\n",
            "      n_jobs=None, show_warnings=False, sp=12, use_arma_errors=True,\n",
            "      use_box_cox=True, use_damped_trend=None, use_trend=None)\n",
            "TBATS(box_cox_bounds=(0, 1), context=None, multiprocessing_start_method='spawn',\n",
            "      n_jobs=None, show_warnings=False, sp=12, use_arma_errors=True,\n",
            "      use_box_cox=True, use_damped_trend=False, use_trend=True)\n"
          ],
          "name": "stdout"
        }
      ]
    },
    {
      "cell_type": "markdown",
      "metadata": {
        "id": "YxN8WdaRMdX7"
      },
      "source": [
        "### *Tunning BATS*"
      ]
    },
    {
      "cell_type": "code",
      "metadata": {
        "colab": {
          "base_uri": "https://localhost:8080/",
          "height": 200,
          "referenced_widgets": [
            "1d969ce285e64ce69a887e185ec19f08",
            "008e70f16fe045eca9a6cd4d7ee6fa68",
            "b253bef965f14965a09590bd8de8e099"
          ]
        },
        "id": "WQW3Yd0402yz",
        "outputId": "6ab36797-fb67-410d-b364-a64a7f167e69"
      },
      "source": [
        "modelo_tunado1 = exp.tune_model(modelo1)"
      ],
      "execution_count": 78,
      "outputs": [
        {
          "output_type": "display_data",
          "data": {
            "text/html": [
              "<div>\n",
              "<style scoped>\n",
              "    .dataframe tbody tr th:only-of-type {\n",
              "        vertical-align: middle;\n",
              "    }\n",
              "\n",
              "    .dataframe tbody tr th {\n",
              "        vertical-align: top;\n",
              "    }\n",
              "\n",
              "    .dataframe thead th {\n",
              "        text-align: right;\n",
              "    }\n",
              "</style>\n",
              "<table border=\"1\" class=\"dataframe\">\n",
              "  <thead>\n",
              "    <tr style=\"text-align: right;\">\n",
              "      <th></th>\n",
              "      <th>cutoff</th>\n",
              "      <th>MAE</th>\n",
              "      <th>RMSE</th>\n",
              "      <th>MAPE</th>\n",
              "      <th>SMAPE</th>\n",
              "      <th>R2</th>\n",
              "    </tr>\n",
              "  </thead>\n",
              "  <tbody>\n",
              "    <tr>\n",
              "      <th>0</th>\n",
              "      <td>2016-01</td>\n",
              "      <td>804.5725</td>\n",
              "      <td>8.561041e+05</td>\n",
              "      <td>0.0168</td>\n",
              "      <td>0.0168</td>\n",
              "      <td>0.6456</td>\n",
              "    </tr>\n",
              "    <tr>\n",
              "      <th>1</th>\n",
              "      <td>2017-01</td>\n",
              "      <td>724.4528</td>\n",
              "      <td>8.451812e+05</td>\n",
              "      <td>0.0141</td>\n",
              "      <td>0.0142</td>\n",
              "      <td>0.8248</td>\n",
              "    </tr>\n",
              "    <tr>\n",
              "      <th>2</th>\n",
              "      <td>2018-01</td>\n",
              "      <td>1125.1142</td>\n",
              "      <td>2.098957e+06</td>\n",
              "      <td>0.0204</td>\n",
              "      <td>0.0207</td>\n",
              "      <td>0.7436</td>\n",
              "    </tr>\n",
              "    <tr>\n",
              "      <th>Mean</th>\n",
              "      <td>NaN</td>\n",
              "      <td>884.7132</td>\n",
              "      <td>1.266748e+06</td>\n",
              "      <td>0.0171</td>\n",
              "      <td>0.0173</td>\n",
              "      <td>0.7380</td>\n",
              "    </tr>\n",
              "    <tr>\n",
              "      <th>SD</th>\n",
              "      <td>NaN</td>\n",
              "      <td>173.1074</td>\n",
              "      <td>5.884780e+05</td>\n",
              "      <td>0.0026</td>\n",
              "      <td>0.0027</td>\n",
              "      <td>0.0733</td>\n",
              "    </tr>\n",
              "  </tbody>\n",
              "</table>\n",
              "</div>"
            ],
            "text/plain": [
              "       cutoff        MAE          RMSE    MAPE   SMAPE      R2\n",
              "0     2016-01   804.5725  8.561041e+05  0.0168  0.0168  0.6456\n",
              "1     2017-01   724.4528  8.451812e+05  0.0141  0.0142  0.8248\n",
              "2     2018-01  1125.1142  2.098957e+06  0.0204  0.0207  0.7436\n",
              "Mean      NaN   884.7132  1.266748e+06  0.0171  0.0173  0.7380\n",
              "SD        NaN   173.1074  5.884780e+05  0.0026  0.0027  0.0733"
            ]
          },
          "metadata": {
            "tags": []
          }
        }
      ]
    },
    {
      "cell_type": "markdown",
      "metadata": {
        "id": "jJzLvN7Jy7pc"
      },
      "source": [
        "Comparando os modelos."
      ]
    },
    {
      "cell_type": "code",
      "metadata": {
        "colab": {
          "base_uri": "https://localhost:8080/"
        },
        "id": "916JBzUr020s",
        "outputId": "7ed3f1f9-3d2d-499a-8617-f15777521e8c"
      },
      "source": [
        "print(modelo1)\n",
        "print(modelo_tunado1)"
      ],
      "execution_count": 79,
      "outputs": [
        {
          "output_type": "stream",
          "text": [
            "BATS(box_cox_bounds=(0, 1), context=None, multiprocessing_start_method='spawn',\n",
            "     n_jobs=None, show_warnings=False, sp=12, use_arma_errors=True,\n",
            "     use_box_cox=True, use_damped_trend=None, use_trend=None)\n",
            "BATS(box_cox_bounds=(0, 1), context=None, multiprocessing_start_method='spawn',\n",
            "     n_jobs=None, show_warnings=False, sp=12, use_arma_errors=True,\n",
            "     use_box_cox=True, use_damped_trend=False, use_trend=True)\n"
          ],
          "name": "stdout"
        }
      ]
    },
    {
      "cell_type": "markdown",
      "metadata": {
        "id": "T-Ljurs208WI"
      },
      "source": [
        "### *Tunning* ETS\n",
        "\n",
        "Os resultados foram os mesmo do modelo original."
      ]
    },
    {
      "cell_type": "code",
      "metadata": {
        "id": "W_2EE09Znbaj",
        "colab": {
          "base_uri": "https://localhost:8080/",
          "height": 200,
          "referenced_widgets": [
            "4707c5e3e36742cc98f829e1e3efde0d",
            "4f6217b5e03744e184f3dedae191f46a",
            "6e6c556f9c354bc1b3c4b104affd73e9"
          ]
        },
        "outputId": "bf143048-0288-45b0-d768-222160a7f7c1"
      },
      "source": [
        "modelo_tunado2 = exp.tune_model(modelo2)"
      ],
      "execution_count": 80,
      "outputs": [
        {
          "output_type": "display_data",
          "data": {
            "text/html": [
              "<div>\n",
              "<style scoped>\n",
              "    .dataframe tbody tr th:only-of-type {\n",
              "        vertical-align: middle;\n",
              "    }\n",
              "\n",
              "    .dataframe tbody tr th {\n",
              "        vertical-align: top;\n",
              "    }\n",
              "\n",
              "    .dataframe thead th {\n",
              "        text-align: right;\n",
              "    }\n",
              "</style>\n",
              "<table border=\"1\" class=\"dataframe\">\n",
              "  <thead>\n",
              "    <tr style=\"text-align: right;\">\n",
              "      <th></th>\n",
              "      <th>cutoff</th>\n",
              "      <th>MAE</th>\n",
              "      <th>RMSE</th>\n",
              "      <th>MAPE</th>\n",
              "      <th>SMAPE</th>\n",
              "      <th>R2</th>\n",
              "    </tr>\n",
              "  </thead>\n",
              "  <tbody>\n",
              "    <tr>\n",
              "      <th>0</th>\n",
              "      <td>2016-01</td>\n",
              "      <td>635.4540</td>\n",
              "      <td>6.318037e+05</td>\n",
              "      <td>0.0134</td>\n",
              "      <td>0.0134</td>\n",
              "      <td>0.7384</td>\n",
              "    </tr>\n",
              "    <tr>\n",
              "      <th>1</th>\n",
              "      <td>2017-01</td>\n",
              "      <td>761.4507</td>\n",
              "      <td>7.703644e+05</td>\n",
              "      <td>0.0151</td>\n",
              "      <td>0.0151</td>\n",
              "      <td>0.8403</td>\n",
              "    </tr>\n",
              "    <tr>\n",
              "      <th>2</th>\n",
              "      <td>2018-01</td>\n",
              "      <td>1328.8899</td>\n",
              "      <td>2.759705e+06</td>\n",
              "      <td>0.0244</td>\n",
              "      <td>0.0247</td>\n",
              "      <td>0.6629</td>\n",
              "    </tr>\n",
              "    <tr>\n",
              "      <th>Mean</th>\n",
              "      <td>NaN</td>\n",
              "      <td>908.5982</td>\n",
              "      <td>1.387291e+06</td>\n",
              "      <td>0.0176</td>\n",
              "      <td>0.0178</td>\n",
              "      <td>0.7472</td>\n",
              "    </tr>\n",
              "    <tr>\n",
              "      <th>SD</th>\n",
              "      <td>NaN</td>\n",
              "      <td>301.6097</td>\n",
              "      <td>9.720904e+05</td>\n",
              "      <td>0.0048</td>\n",
              "      <td>0.0050</td>\n",
              "      <td>0.0727</td>\n",
              "    </tr>\n",
              "  </tbody>\n",
              "</table>\n",
              "</div>"
            ],
            "text/plain": [
              "       cutoff        MAE          RMSE    MAPE   SMAPE      R2\n",
              "0     2016-01   635.4540  6.318037e+05  0.0134  0.0134  0.7384\n",
              "1     2017-01   761.4507  7.703644e+05  0.0151  0.0151  0.8403\n",
              "2     2018-01  1328.8899  2.759705e+06  0.0244  0.0247  0.6629\n",
              "Mean      NaN   908.5982  1.387291e+06  0.0176  0.0178  0.7472\n",
              "SD        NaN   301.6097  9.720904e+05  0.0048  0.0050  0.0727"
            ]
          },
          "metadata": {
            "tags": []
          }
        }
      ]
    },
    {
      "cell_type": "markdown",
      "metadata": {
        "id": "Yeyc_UWu1HPk"
      },
      "source": [
        "Os parâmetros são os mesmos."
      ]
    },
    {
      "cell_type": "code",
      "metadata": {
        "id": "PZ089YtTngNa",
        "colab": {
          "base_uri": "https://localhost:8080/"
        },
        "outputId": "7a56ac8a-d36e-497e-f12e-c299469d5bf2"
      },
      "source": [
        "print(modelo2)\n",
        "print(modelo_tunado2)"
      ],
      "execution_count": 81,
      "outputs": [
        {
          "output_type": "stream",
          "text": [
            "AutoETS(additive_only=False, allow_multiplicative_trend=False, auto=False,\n",
            "        bounds=None, callback=None, damped_trend=False, dates=None, disp=False,\n",
            "        error='add', freq=None, full_output=True, information_criterion='aic',\n",
            "        initial_level=None, initial_seasonal=None, initial_trend=None,\n",
            "        initialization_method='estimated', maxiter=1000, missing='none',\n",
            "        n_jobs=None, restrict=True, return_params=False, seasonal='add', sp=12,\n",
            "        start_params=None, trend='add')\n",
            "AutoETS(additive_only=False, allow_multiplicative_trend=False, auto=False,\n",
            "        bounds=None, callback=None, damped_trend=False, dates=None, disp=False,\n",
            "        error='add', freq=None, full_output=True, information_criterion='aic',\n",
            "        initial_level=None, initial_seasonal=None, initial_trend=None,\n",
            "        initialization_method='estimated', maxiter=1000, missing='none',\n",
            "        n_jobs=None, restrict=True, return_params=False, seasonal='add', sp=12,\n",
            "        start_params=None, trend='add')\n"
          ],
          "name": "stdout"
        }
      ]
    },
    {
      "cell_type": "markdown",
      "metadata": {
        "id": "hLee4F_Tzteq"
      },
      "source": [
        "## Previsões dos modelos tunados"
      ]
    },
    {
      "cell_type": "code",
      "metadata": {
        "colab": {
          "base_uri": "https://localhost:8080/",
          "height": 78
        },
        "id": "dZcGgA7JzyIq",
        "outputId": "dc1abd9b-91ae-430b-88f6-99dd13cdbd84"
      },
      "source": [
        "y_predito_tunado = exp.predict_model(modelo_tunado)"
      ],
      "execution_count": 84,
      "outputs": [
        {
          "output_type": "display_data",
          "data": {
            "text/html": [
              "<div>\n",
              "<style scoped>\n",
              "    .dataframe tbody tr th:only-of-type {\n",
              "        vertical-align: middle;\n",
              "    }\n",
              "\n",
              "    .dataframe tbody tr th {\n",
              "        vertical-align: top;\n",
              "    }\n",
              "\n",
              "    .dataframe thead th {\n",
              "        text-align: right;\n",
              "    }\n",
              "</style>\n",
              "<table border=\"1\" class=\"dataframe\">\n",
              "  <thead>\n",
              "    <tr style=\"text-align: right;\">\n",
              "      <th></th>\n",
              "      <th>Model</th>\n",
              "      <th>MAE</th>\n",
              "      <th>RMSE</th>\n",
              "      <th>MAPE</th>\n",
              "      <th>SMAPE</th>\n",
              "      <th>R2</th>\n",
              "    </tr>\n",
              "  </thead>\n",
              "  <tbody>\n",
              "    <tr>\n",
              "      <th>0</th>\n",
              "      <td>TBATS</td>\n",
              "      <td>796.9033</td>\n",
              "      <td>1054.878</td>\n",
              "      <td>0.0139</td>\n",
              "      <td>0.0141</td>\n",
              "      <td>0.858</td>\n",
              "    </tr>\n",
              "  </tbody>\n",
              "</table>\n",
              "</div>"
            ],
            "text/plain": [
              "   Model       MAE      RMSE    MAPE   SMAPE     R2\n",
              "0  TBATS  796.9033  1054.878  0.0139  0.0141  0.858"
            ]
          },
          "metadata": {
            "tags": []
          }
        }
      ]
    },
    {
      "cell_type": "code",
      "metadata": {
        "colab": {
          "base_uri": "https://localhost:8080/",
          "height": 78
        },
        "id": "Oww4ERMhz1-N",
        "outputId": "00c990f4-b17a-42ac-b03d-1b49523e6fde"
      },
      "source": [
        "y_predito_tunado1 = exp.predict_model(modelo_tunado1)"
      ],
      "execution_count": 85,
      "outputs": [
        {
          "output_type": "display_data",
          "data": {
            "text/html": [
              "<div>\n",
              "<style scoped>\n",
              "    .dataframe tbody tr th:only-of-type {\n",
              "        vertical-align: middle;\n",
              "    }\n",
              "\n",
              "    .dataframe tbody tr th {\n",
              "        vertical-align: top;\n",
              "    }\n",
              "\n",
              "    .dataframe thead th {\n",
              "        text-align: right;\n",
              "    }\n",
              "</style>\n",
              "<table border=\"1\" class=\"dataframe\">\n",
              "  <thead>\n",
              "    <tr style=\"text-align: right;\">\n",
              "      <th></th>\n",
              "      <th>Model</th>\n",
              "      <th>MAE</th>\n",
              "      <th>RMSE</th>\n",
              "      <th>MAPE</th>\n",
              "      <th>SMAPE</th>\n",
              "      <th>R2</th>\n",
              "    </tr>\n",
              "  </thead>\n",
              "  <tbody>\n",
              "    <tr>\n",
              "      <th>0</th>\n",
              "      <td>BATS</td>\n",
              "      <td>1067.0223</td>\n",
              "      <td>1269.9239</td>\n",
              "      <td>0.0187</td>\n",
              "      <td>0.0189</td>\n",
              "      <td>0.7942</td>\n",
              "    </tr>\n",
              "  </tbody>\n",
              "</table>\n",
              "</div>"
            ],
            "text/plain": [
              "  Model        MAE       RMSE    MAPE   SMAPE      R2\n",
              "0  BATS  1067.0223  1269.9239  0.0187  0.0189  0.7942"
            ]
          },
          "metadata": {
            "tags": []
          }
        }
      ]
    },
    {
      "cell_type": "code",
      "metadata": {
        "colab": {
          "base_uri": "https://localhost:8080/",
          "height": 78
        },
        "id": "Kg2F585_z2Bj",
        "outputId": "ee1af650-03d3-44db-8b7f-5b157042e053"
      },
      "source": [
        "y_predito_tunado2 = exp.predict_model(modelo_tunado2)"
      ],
      "execution_count": 86,
      "outputs": [
        {
          "output_type": "display_data",
          "data": {
            "text/html": [
              "<div>\n",
              "<style scoped>\n",
              "    .dataframe tbody tr th:only-of-type {\n",
              "        vertical-align: middle;\n",
              "    }\n",
              "\n",
              "    .dataframe tbody tr th {\n",
              "        vertical-align: top;\n",
              "    }\n",
              "\n",
              "    .dataframe thead th {\n",
              "        text-align: right;\n",
              "    }\n",
              "</style>\n",
              "<table border=\"1\" class=\"dataframe\">\n",
              "  <thead>\n",
              "    <tr style=\"text-align: right;\">\n",
              "      <th></th>\n",
              "      <th>Model</th>\n",
              "      <th>MAE</th>\n",
              "      <th>RMSE</th>\n",
              "      <th>MAPE</th>\n",
              "      <th>SMAPE</th>\n",
              "      <th>R2</th>\n",
              "    </tr>\n",
              "  </thead>\n",
              "  <tbody>\n",
              "    <tr>\n",
              "      <th>0</th>\n",
              "      <td>ETS</td>\n",
              "      <td>764.1677</td>\n",
              "      <td>886.7823</td>\n",
              "      <td>0.0139</td>\n",
              "      <td>0.0139</td>\n",
              "      <td>0.8997</td>\n",
              "    </tr>\n",
              "  </tbody>\n",
              "</table>\n",
              "</div>"
            ],
            "text/plain": [
              "  Model       MAE      RMSE    MAPE   SMAPE      R2\n",
              "0   ETS  764.1677  886.7823  0.0139  0.0139  0.8997"
            ]
          },
          "metadata": {
            "tags": []
          }
        }
      ]
    },
    {
      "cell_type": "markdown",
      "metadata": {
        "id": "BWCfgDJX3j80"
      },
      "source": [
        "## Finalizando o modelo\n",
        "\n",
        "Como o melhor modelo foi o *Prophet* tunado, então esse projeto será finalizado com esse modelo."
      ]
    },
    {
      "cell_type": "code",
      "metadata": {
        "id": "WXdZbX-t9KRv"
      },
      "source": [
        "modelo_final = exp.finalize_model(modelo_tunado2)"
      ],
      "execution_count": 87,
      "outputs": []
    },
    {
      "cell_type": "markdown",
      "metadata": {
        "id": "GHmShNDfZxHw"
      },
      "source": [
        "Gerando as previsões para um período de tempo desconhecido."
      ]
    },
    {
      "cell_type": "code",
      "metadata": {
        "id": "Je_vPtwA9KWO"
      },
      "source": [
        "previsoes = exp.predict_model(modelo_final, verbose=False)"
      ],
      "execution_count": 88,
      "outputs": []
    },
    {
      "cell_type": "markdown",
      "metadata": {
        "id": "96_V3XM7axQA"
      },
      "source": [
        "Plotando os dados de originais e as previsões."
      ]
    },
    {
      "cell_type": "code",
      "metadata": {
        "colab": {
          "base_uri": "https://localhost:8080/",
          "height": 265
        },
        "id": "1Ym84eA8ZH6W",
        "outputId": "5a80c989-de9f-42b9-87f6-16e93f787131"
      },
      "source": [
        "plot_series(vendas['MRTSSM7225USN'], previsoes, labels=['Série original','Previsões']);"
      ],
      "execution_count": 89,
      "outputs": [
        {
          "output_type": "display_data",
          "data": {
            "image/png": "[encoded data removed]",
            "text/plain": [
              "<Figure size 1152x288 with 1 Axes>"
            ]
          },
          "metadata": {
            "tags": [],
            "needs_background": "light"
          }
        }
      ]
    },
    {
      "cell_type": "markdown",
      "metadata": {
        "id": "OZSKN2dQbLvr"
      },
      "source": [
        "## Salvando o modelo"
      ]
    },
    {
      "cell_type": "code",
      "metadata": {
        "colab": {
          "base_uri": "https://localhost:8080/"
        },
        "id": "HUkSiRVkZqk8",
        "outputId": "1d2d0431-d790-4231-d0e8-32626dab01ae"
      },
      "source": [
        "exp.save_model(modelo_final, 'melhor_modelo2', model_only=True)"
      ],
      "execution_count": 90,
      "outputs": [
        {
          "output_type": "stream",
          "text": [
            "Transformation Pipeline and Model Successfully Saved\n"
          ],
          "name": "stdout"
        },
        {
          "output_type": "execute_result",
          "data": {
            "text/plain": [
              "(AutoETS(additive_only=False, allow_multiplicative_trend=False, auto=False,\n",
              "         bounds=None, callback=None, damped_trend=False, dates=None, disp=False,\n",
              "         error='add', freq=None, full_output=True, information_criterion='aic',\n",
              "         initial_level=None, initial_seasonal=None, initial_trend=None,\n",
              "         initialization_method='estimated', maxiter=1000, missing='none',\n",
              "         n_jobs=None, restrict=True, return_params=False, seasonal='add', sp=12,\n",
              "         start_params=None, trend='add'), 'melhor_modelo2.pkl')"
            ]
          },
          "metadata": {
            "tags": []
          },
          "execution_count": 90
        }
      ]
    },
    {
      "cell_type": "markdown",
      "metadata": {
        "id": "NKdOSmj-bwgr"
      },
      "source": [
        "## Carregando o modelo\n"
      ]
    },
    {
      "cell_type": "code",
      "metadata": {
        "colab": {
          "base_uri": "https://localhost:8080/"
        },
        "id": "Q1o9NxTtbsYR",
        "outputId": "900765fd-f4ea-47df-f550-25eaaa5a846e"
      },
      "source": [
        "modelo_carregado2 = exp.load_model('melhor_modelo2')"
      ],
      "execution_count": 91,
      "outputs": [
        {
          "output_type": "stream",
          "text": [
            "Transformation Pipeline and Model Successfully Loaded\n"
          ],
          "name": "stdout"
        }
      ]
    }
  ]
}