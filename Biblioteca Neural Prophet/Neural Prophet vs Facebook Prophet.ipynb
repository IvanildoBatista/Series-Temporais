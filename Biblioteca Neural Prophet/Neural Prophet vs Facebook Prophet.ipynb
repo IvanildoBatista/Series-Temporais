{
  "nbformat": 4,
  "nbformat_minor": 0,
  "metadata": {
    "colab": {
      "name": "Neural Prophet vs Facebook Prophet.ipynb",
      "provenance": [],
      "toc_visible": true
    },
    "kernelspec": {
      "name": "python3",
      "display_name": "Python 3"
    },
    "widgets": {
      "application/vnd.jupyter.widget-state+json": {
        "580b4b934ac241ada65472e6f196a9b6": {
          "model_module": "@jupyter-widgets/controls",
          "model_name": "HBoxModel",
          "state": {
            "_view_name": "HBoxView",
            "_dom_classes": [],
            "_model_name": "HBoxModel",
            "_view_module": "@jupyter-widgets/controls",
            "_model_module_version": "1.5.0",
            "_view_count": null,
            "_view_module_version": "1.5.0",
            "box_style": "",
            "layout": "IPY_MODEL_77ef0536ce1c47a1a5ff5bd24beff29b",
            "_model_module": "@jupyter-widgets/controls",
            "children": [
              "IPY_MODEL_5bbec6288d7142458279152ea1b53bd4",
              "IPY_MODEL_568d36e69320446dab6a40a4cc7f8fa3",
              "IPY_MODEL_af5a39c2aaec411eb9e41ba927eae77b"
            ]
          }
        },
        "77ef0536ce1c47a1a5ff5bd24beff29b": {
          "model_module": "@jupyter-widgets/base",
          "model_name": "LayoutModel",
          "state": {
            "_view_name": "LayoutView",
            "grid_template_rows": null,
            "right": null,
            "justify_content": null,
            "_view_module": "@jupyter-widgets/base",
            "overflow": null,
            "_model_module_version": "1.2.0",
            "_view_count": null,
            "flex_flow": null,
            "width": null,
            "min_width": null,
            "border": null,
            "align_items": null,
            "bottom": null,
            "_model_module": "@jupyter-widgets/base",
            "top": null,
            "grid_column": null,
            "overflow_y": null,
            "overflow_x": null,
            "grid_auto_flow": null,
            "grid_area": null,
            "grid_template_columns": null,
            "flex": null,
            "_model_name": "LayoutModel",
            "justify_items": null,
            "grid_row": null,
            "max_height": null,
            "align_content": null,
            "visibility": null,
            "align_self": null,
            "height": null,
            "min_height": null,
            "padding": null,
            "grid_auto_rows": null,
            "grid_gap": null,
            "max_width": null,
            "order": null,
            "_view_module_version": "1.2.0",
            "grid_template_areas": null,
            "object_position": null,
            "object_fit": null,
            "grid_auto_columns": null,
            "margin": null,
            "display": null,
            "left": null
          }
        },
        "5bbec6288d7142458279152ea1b53bd4": {
          "model_module": "@jupyter-widgets/controls",
          "model_name": "HTMLModel",
          "state": {
            "_view_name": "HTMLView",
            "style": "IPY_MODEL_f8d3efd8f6b6498090c4cf4edeb488f5",
            "_dom_classes": [],
            "description": "",
            "_model_name": "HTMLModel",
            "placeholder": "​",
            "_view_module": "@jupyter-widgets/controls",
            "_model_module_version": "1.5.0",
            "value": " 84%",
            "_view_count": null,
            "_view_module_version": "1.5.0",
            "description_tooltip": null,
            "_model_module": "@jupyter-widgets/controls",
            "layout": "IPY_MODEL_007c781a91794d858bd824d1ad11e472"
          }
        },
        "568d36e69320446dab6a40a4cc7f8fa3": {
          "model_module": "@jupyter-widgets/controls",
          "model_name": "FloatProgressModel",
          "state": {
            "_view_name": "ProgressView",
            "style": "IPY_MODEL_a837793d2a2e4f78831686ed7c512fde",
            "_dom_classes": [],
            "description": "",
            "_model_name": "FloatProgressModel",
            "bar_style": "danger",
            "max": 100,
            "_view_module": "@jupyter-widgets/controls",
            "_model_module_version": "1.5.0",
            "value": 84,
            "_view_count": null,
            "_view_module_version": "1.5.0",
            "orientation": "horizontal",
            "min": 0,
            "description_tooltip": null,
            "_model_module": "@jupyter-widgets/controls",
            "layout": "IPY_MODEL_87bcb75229a1433c9f24e362ffbdf177"
          }
        },
        "af5a39c2aaec411eb9e41ba927eae77b": {
          "model_module": "@jupyter-widgets/controls",
          "model_name": "HTMLModel",
          "state": {
            "_view_name": "HTMLView",
            "style": "IPY_MODEL_d6cb91dfbfd24e3f87136b74913c3a0f",
            "_dom_classes": [],
            "description": "",
            "_model_name": "HTMLModel",
            "placeholder": "​",
            "_view_module": "@jupyter-widgets/controls",
            "_model_module_version": "1.5.0",
            "value": " 84/100 [00:00&lt;00:00, 188.92it/s]",
            "_view_count": null,
            "_view_module_version": "1.5.0",
            "description_tooltip": null,
            "_model_module": "@jupyter-widgets/controls",
            "layout": "IPY_MODEL_12a725b84697432791a725a1b6922c35"
          }
        },
        "f8d3efd8f6b6498090c4cf4edeb488f5": {
          "model_module": "@jupyter-widgets/controls",
          "model_name": "DescriptionStyleModel",
          "state": {
            "_view_name": "StyleView",
            "_model_name": "DescriptionStyleModel",
            "description_width": "",
            "_view_module": "@jupyter-widgets/base",
            "_model_module_version": "1.5.0",
            "_view_count": null,
            "_view_module_version": "1.2.0",
            "_model_module": "@jupyter-widgets/controls"
          }
        },
        "007c781a91794d858bd824d1ad11e472": {
          "model_module": "@jupyter-widgets/base",
          "model_name": "LayoutModel",
          "state": {
            "_view_name": "LayoutView",
            "grid_template_rows": null,
            "right": null,
            "justify_content": null,
            "_view_module": "@jupyter-widgets/base",
            "overflow": null,
            "_model_module_version": "1.2.0",
            "_view_count": null,
            "flex_flow": null,
            "width": null,
            "min_width": null,
            "border": null,
            "align_items": null,
            "bottom": null,
            "_model_module": "@jupyter-widgets/base",
            "top": null,
            "grid_column": null,
            "overflow_y": null,
            "overflow_x": null,
            "grid_auto_flow": null,
            "grid_area": null,
            "grid_template_columns": null,
            "flex": null,
            "_model_name": "LayoutModel",
            "justify_items": null,
            "grid_row": null,
            "max_height": null,
            "align_content": null,
            "visibility": null,
            "align_self": null,
            "height": null,
            "min_height": null,
            "padding": null,
            "grid_auto_rows": null,
            "grid_gap": null,
            "max_width": null,
            "order": null,
            "_view_module_version": "1.2.0",
            "grid_template_areas": null,
            "object_position": null,
            "object_fit": null,
            "grid_auto_columns": null,
            "margin": null,
            "display": null,
            "left": null
          }
        },
        "a837793d2a2e4f78831686ed7c512fde": {
          "model_module": "@jupyter-widgets/controls",
          "model_name": "ProgressStyleModel",
          "state": {
            "_view_name": "StyleView",
            "_model_name": "ProgressStyleModel",
            "description_width": "",
            "_view_module": "@jupyter-widgets/base",
            "_model_module_version": "1.5.0",
            "_view_count": null,
            "_view_module_version": "1.2.0",
            "bar_color": null,
            "_model_module": "@jupyter-widgets/controls"
          }
        },
        "87bcb75229a1433c9f24e362ffbdf177": {
          "model_module": "@jupyter-widgets/base",
          "model_name": "LayoutModel",
          "state": {
            "_view_name": "LayoutView",
            "grid_template_rows": null,
            "right": null,
            "justify_content": null,
            "_view_module": "@jupyter-widgets/base",
            "overflow": null,
            "_model_module_version": "1.2.0",
            "_view_count": null,
            "flex_flow": null,
            "width": null,
            "min_width": null,
            "border": null,
            "align_items": null,
            "bottom": null,
            "_model_module": "@jupyter-widgets/base",
            "top": null,
            "grid_column": null,
            "overflow_y": null,
            "overflow_x": null,
            "grid_auto_flow": null,
            "grid_area": null,
            "grid_template_columns": null,
            "flex": null,
            "_model_name": "LayoutModel",
            "justify_items": null,
            "grid_row": null,
            "max_height": null,
            "align_content": null,
            "visibility": null,
            "align_self": null,
            "height": null,
            "min_height": null,
            "padding": null,
            "grid_auto_rows": null,
            "grid_gap": null,
            "max_width": null,
            "order": null,
            "_view_module_version": "1.2.0",
            "grid_template_areas": null,
            "object_position": null,
            "object_fit": null,
            "grid_auto_columns": null,
            "margin": null,
            "display": null,
            "left": null
          }
        },
        "d6cb91dfbfd24e3f87136b74913c3a0f": {
          "model_module": "@jupyter-widgets/controls",
          "model_name": "DescriptionStyleModel",
          "state": {
            "_view_name": "StyleView",
            "_model_name": "DescriptionStyleModel",
            "description_width": "",
            "_view_module": "@jupyter-widgets/base",
            "_model_module_version": "1.5.0",
            "_view_count": null,
            "_view_module_version": "1.2.0",
            "_model_module": "@jupyter-widgets/controls"
          }
        },
        "12a725b84697432791a725a1b6922c35": {
          "model_module": "@jupyter-widgets/base",
          "model_name": "LayoutModel",
          "state": {
            "_view_name": "LayoutView",
            "grid_template_rows": null,
            "right": null,
            "justify_content": null,
            "_view_module": "@jupyter-widgets/base",
            "overflow": null,
            "_model_module_version": "1.2.0",
            "_view_count": null,
            "flex_flow": null,
            "width": null,
            "min_width": null,
            "border": null,
            "align_items": null,
            "bottom": null,
            "_model_module": "@jupyter-widgets/base",
            "top": null,
            "grid_column": null,
            "overflow_y": null,
            "overflow_x": null,
            "grid_auto_flow": null,
            "grid_area": null,
            "grid_template_columns": null,
            "flex": null,
            "_model_name": "LayoutModel",
            "justify_items": null,
            "grid_row": null,
            "max_height": null,
            "align_content": null,
            "visibility": null,
            "align_self": null,
            "height": null,
            "min_height": null,
            "padding": null,
            "grid_auto_rows": null,
            "grid_gap": null,
            "max_width": null,
            "order": null,
            "_view_module_version": "1.2.0",
            "grid_template_areas": null,
            "object_position": null,
            "object_fit": null,
            "grid_auto_columns": null,
            "margin": null,
            "display": null,
            "left": null
          }
        }
      }
    }
  },
  "cells": [
    {
      "cell_type": "markdown",
      "metadata": {
        "id": "0o5XQka_oMhk"
      },
      "source": [
        "# Comparando *Neural Prophet* e *Facebook Prophet*\r\n",
        "\r\n",
        "Complemento de projeto onde irei comparar as bibliotecas *Neural Prophet* e *Facebook Prophet*.\r\n",
        "\r\n",
        "## Instalando a biblioteca *Neural Prophet*"
      ]
    },
    {
      "cell_type": "code",
      "metadata": {
        "colab": {
          "base_uri": "https://localhost:8080/"
        },
        "id": "XrQCTcHEoKDz",
        "outputId": "dfa32810-9ef5-4999-a0a4-fa49e05513c7"
      },
      "source": [
        "!pip install git+https://github.com/ourownstory/neural_prophet.git\r\n"
      ],
      "execution_count": 1,
      "outputs": [
        {
          "output_type": "stream",
          "text": [
            "Collecting git+https://github.com/ourownstory/neural_prophet.git\n",
            "  Cloning https://github.com/ourownstory/neural_prophet.git to /tmp/pip-req-build-omhxmf8x\n",
            "  Running command git clone -q https://github.com/ourownstory/neural_prophet.git /tmp/pip-req-build-omhxmf8x\n",
            "  Installing build dependencies ... \u001b[?25l\u001b[?25hdone\n",
            "  Getting requirements to build wheel ... \u001b[?25l\u001b[?25hdone\n",
            "    Preparing wheel metadata ... \u001b[?25l\u001b[?25hdone\n",
            "Requirement already satisfied: matplotlib>=2.0.0 in /usr/local/lib/python3.6/dist-packages (from neuralprophet==0.2.8) (3.2.2)\n",
            "Requirement already satisfied: convertdate>=2.1.2 in /usr/local/lib/python3.6/dist-packages (from neuralprophet==0.2.8) (2.2.0)\n",
            "Requirement already satisfied: ipywidgets>=7.5.1 in /usr/local/lib/python3.6/dist-packages (from neuralprophet==0.2.8) (7.6.3)\n",
            "Requirement already satisfied: LunarCalendar>=0.0.9 in /usr/local/lib/python3.6/dist-packages (from neuralprophet==0.2.8) (0.0.9)\n",
            "Requirement already satisfied: dataclasses>=0.6 in /usr/local/lib/python3.6/dist-packages (from neuralprophet==0.2.8) (0.8)\n",
            "Requirement already satisfied: numpy>=1.15.4 in /usr/local/lib/python3.6/dist-packages (from neuralprophet==0.2.8) (1.19.5)\n",
            "Collecting torch-lr-finder>=0.2.1\n",
            "  Downloading https://files.pythonhosted.org/packages/ea/51/1a869067989a0fdaf18e49f0ee3aebfcb63470525245aac7dc390cfc676a/torch_lr_finder-0.2.1-py3-none-any.whl\n",
            "Collecting tqdm>=4.50.2\n",
            "\u001b[?25l  Downloading https://files.pythonhosted.org/packages/80/02/8f8880a4fd6625461833abcf679d4c12a44c76f9925f92bf212bb6cefaad/tqdm-4.56.0-py2.py3-none-any.whl (72kB)\n",
            "\u001b[K     |████████████████████████████████| 81kB 5.7MB/s \n",
            "\u001b[?25hRequirement already satisfied: torch>=1.4.0 in /usr/local/lib/python3.6/dist-packages (from neuralprophet==0.2.8) (1.7.0+cu101)\n",
            "Requirement already satisfied: python-dateutil>=2.8.0 in /usr/local/lib/python3.6/dist-packages (from neuralprophet==0.2.8) (2.8.1)\n",
            "Collecting attrdict>=2.0.1\n",
            "  Downloading https://files.pythonhosted.org/packages/ef/97/28fe7e68bc7adfce67d4339756e85e9fcf3c6fd7f0c0781695352b70472c/attrdict-2.0.1-py2.py3-none-any.whl\n",
            "Requirement already satisfied: pandas>=1.0.4 in /usr/local/lib/python3.6/dist-packages (from neuralprophet==0.2.8) (1.1.5)\n",
            "Requirement already satisfied: holidays>=0.10.2 in /usr/local/lib/python3.6/dist-packages (from neuralprophet==0.2.8) (0.10.4)\n",
            "Requirement already satisfied: kiwisolver>=1.0.1 in /usr/local/lib/python3.6/dist-packages (from matplotlib>=2.0.0->neuralprophet==0.2.8) (1.3.1)\n",
            "Requirement already satisfied: cycler>=0.10 in /usr/local/lib/python3.6/dist-packages (from matplotlib>=2.0.0->neuralprophet==0.2.8) (0.10.0)\n",
            "Requirement already satisfied: pyparsing!=2.0.4,!=2.1.2,!=2.1.6,>=2.0.1 in /usr/local/lib/python3.6/dist-packages (from matplotlib>=2.0.0->neuralprophet==0.2.8) (2.4.7)\n",
            "Requirement already satisfied: pymeeus<=1,>=0.3.6 in /usr/local/lib/python3.6/dist-packages (from convertdate>=2.1.2->neuralprophet==0.2.8) (0.3.7)\n",
            "Requirement already satisfied: pytz<2020,>=2014.10 in /usr/local/lib/python3.6/dist-packages (from convertdate>=2.1.2->neuralprophet==0.2.8) (2018.9)\n",
            "Requirement already satisfied: widgetsnbextension~=3.5.0 in /usr/local/lib/python3.6/dist-packages (from ipywidgets>=7.5.1->neuralprophet==0.2.8) (3.5.1)\n",
            "Requirement already satisfied: nbformat>=4.2.0 in /usr/local/lib/python3.6/dist-packages (from ipywidgets>=7.5.1->neuralprophet==0.2.8) (5.0.8)\n",
            "Requirement already satisfied: ipykernel>=4.5.1 in /usr/local/lib/python3.6/dist-packages (from ipywidgets>=7.5.1->neuralprophet==0.2.8) (4.10.1)\n",
            "Requirement already satisfied: jupyterlab-widgets>=1.0.0; python_version >= \"3.6\" in /usr/local/lib/python3.6/dist-packages (from ipywidgets>=7.5.1->neuralprophet==0.2.8) (1.0.0)\n",
            "Requirement already satisfied: traitlets>=4.3.1 in /usr/local/lib/python3.6/dist-packages (from ipywidgets>=7.5.1->neuralprophet==0.2.8) (4.3.3)\n",
            "Requirement already satisfied: ipython>=4.0.0; python_version >= \"3.3\" in /usr/local/lib/python3.6/dist-packages (from ipywidgets>=7.5.1->neuralprophet==0.2.8) (5.5.0)\n",
            "Requirement already satisfied: ephem>=3.7.5.3 in /usr/local/lib/python3.6/dist-packages (from LunarCalendar>=0.0.9->neuralprophet==0.2.8) (3.7.7.1)\n",
            "Requirement already satisfied: packaging in /usr/local/lib/python3.6/dist-packages (from torch-lr-finder>=0.2.1->neuralprophet==0.2.8) (20.8)\n",
            "Requirement already satisfied: future in /usr/local/lib/python3.6/dist-packages (from torch>=1.4.0->neuralprophet==0.2.8) (0.16.0)\n",
            "Requirement already satisfied: typing-extensions in /usr/local/lib/python3.6/dist-packages (from torch>=1.4.0->neuralprophet==0.2.8) (3.7.4.3)\n",
            "Requirement already satisfied: six>=1.5 in /usr/local/lib/python3.6/dist-packages (from python-dateutil>=2.8.0->neuralprophet==0.2.8) (1.15.0)\n",
            "Requirement already satisfied: korean-lunar-calendar in /usr/local/lib/python3.6/dist-packages (from holidays>=0.10.2->neuralprophet==0.2.8) (0.2.1)\n",
            "Requirement already satisfied: notebook>=4.4.1 in /usr/local/lib/python3.6/dist-packages (from widgetsnbextension~=3.5.0->ipywidgets>=7.5.1->neuralprophet==0.2.8) (5.3.1)\n",
            "Requirement already satisfied: jsonschema!=2.5.0,>=2.4 in /usr/local/lib/python3.6/dist-packages (from nbformat>=4.2.0->ipywidgets>=7.5.1->neuralprophet==0.2.8) (2.6.0)\n",
            "Requirement already satisfied: jupyter-core in /usr/local/lib/python3.6/dist-packages (from nbformat>=4.2.0->ipywidgets>=7.5.1->neuralprophet==0.2.8) (4.7.0)\n",
            "Requirement already satisfied: ipython-genutils in /usr/local/lib/python3.6/dist-packages (from nbformat>=4.2.0->ipywidgets>=7.5.1->neuralprophet==0.2.8) (0.2.0)\n",
            "Requirement already satisfied: jupyter-client in /usr/local/lib/python3.6/dist-packages (from ipykernel>=4.5.1->ipywidgets>=7.5.1->neuralprophet==0.2.8) (5.3.5)\n",
            "Requirement already satisfied: tornado>=4.0 in /usr/local/lib/python3.6/dist-packages (from ipykernel>=4.5.1->ipywidgets>=7.5.1->neuralprophet==0.2.8) (5.1.1)\n",
            "Requirement already satisfied: decorator in /usr/local/lib/python3.6/dist-packages (from traitlets>=4.3.1->ipywidgets>=7.5.1->neuralprophet==0.2.8) (4.4.2)\n",
            "Requirement already satisfied: prompt-toolkit<2.0.0,>=1.0.4 in /usr/local/lib/python3.6/dist-packages (from ipython>=4.0.0; python_version >= \"3.3\"->ipywidgets>=7.5.1->neuralprophet==0.2.8) (1.0.18)\n",
            "Requirement already satisfied: pickleshare in /usr/local/lib/python3.6/dist-packages (from ipython>=4.0.0; python_version >= \"3.3\"->ipywidgets>=7.5.1->neuralprophet==0.2.8) (0.7.5)\n",
            "Requirement already satisfied: setuptools>=18.5 in /usr/local/lib/python3.6/dist-packages (from ipython>=4.0.0; python_version >= \"3.3\"->ipywidgets>=7.5.1->neuralprophet==0.2.8) (51.3.3)\n",
            "Requirement already satisfied: simplegeneric>0.8 in /usr/local/lib/python3.6/dist-packages (from ipython>=4.0.0; python_version >= \"3.3\"->ipywidgets>=7.5.1->neuralprophet==0.2.8) (0.8.1)\n",
            "Requirement already satisfied: pexpect; sys_platform != \"win32\" in /usr/local/lib/python3.6/dist-packages (from ipython>=4.0.0; python_version >= \"3.3\"->ipywidgets>=7.5.1->neuralprophet==0.2.8) (4.8.0)\n",
            "Requirement already satisfied: pygments in /usr/local/lib/python3.6/dist-packages (from ipython>=4.0.0; python_version >= \"3.3\"->ipywidgets>=7.5.1->neuralprophet==0.2.8) (2.6.1)\n",
            "Requirement already satisfied: nbconvert in /usr/local/lib/python3.6/dist-packages (from notebook>=4.4.1->widgetsnbextension~=3.5.0->ipywidgets>=7.5.1->neuralprophet==0.2.8) (5.6.1)\n",
            "Requirement already satisfied: terminado>=0.8.1 in /usr/local/lib/python3.6/dist-packages (from notebook>=4.4.1->widgetsnbextension~=3.5.0->ipywidgets>=7.5.1->neuralprophet==0.2.8) (0.9.2)\n",
            "Requirement already satisfied: jinja2 in /usr/local/lib/python3.6/dist-packages (from notebook>=4.4.1->widgetsnbextension~=3.5.0->ipywidgets>=7.5.1->neuralprophet==0.2.8) (2.11.2)\n",
            "Requirement already satisfied: Send2Trash in /usr/local/lib/python3.6/dist-packages (from notebook>=4.4.1->widgetsnbextension~=3.5.0->ipywidgets>=7.5.1->neuralprophet==0.2.8) (1.5.0)\n",
            "Requirement already satisfied: pyzmq>=13 in /usr/local/lib/python3.6/dist-packages (from jupyter-client->ipykernel>=4.5.1->ipywidgets>=7.5.1->neuralprophet==0.2.8) (20.0.0)\n",
            "Requirement already satisfied: wcwidth in /usr/local/lib/python3.6/dist-packages (from prompt-toolkit<2.0.0,>=1.0.4->ipython>=4.0.0; python_version >= \"3.3\"->ipywidgets>=7.5.1->neuralprophet==0.2.8) (0.2.5)\n",
            "Requirement already satisfied: ptyprocess>=0.5 in /usr/local/lib/python3.6/dist-packages (from pexpect; sys_platform != \"win32\"->ipython>=4.0.0; python_version >= \"3.3\"->ipywidgets>=7.5.1->neuralprophet==0.2.8) (0.7.0)\n",
            "Requirement already satisfied: mistune<2,>=0.8.1 in /usr/local/lib/python3.6/dist-packages (from nbconvert->notebook>=4.4.1->widgetsnbextension~=3.5.0->ipywidgets>=7.5.1->neuralprophet==0.2.8) (0.8.4)\n",
            "Requirement already satisfied: entrypoints>=0.2.2 in /usr/local/lib/python3.6/dist-packages (from nbconvert->notebook>=4.4.1->widgetsnbextension~=3.5.0->ipywidgets>=7.5.1->neuralprophet==0.2.8) (0.3)\n",
            "Requirement already satisfied: bleach in /usr/local/lib/python3.6/dist-packages (from nbconvert->notebook>=4.4.1->widgetsnbextension~=3.5.0->ipywidgets>=7.5.1->neuralprophet==0.2.8) (3.2.1)\n",
            "Requirement already satisfied: defusedxml in /usr/local/lib/python3.6/dist-packages (from nbconvert->notebook>=4.4.1->widgetsnbextension~=3.5.0->ipywidgets>=7.5.1->neuralprophet==0.2.8) (0.6.0)\n",
            "Requirement already satisfied: testpath in /usr/local/lib/python3.6/dist-packages (from nbconvert->notebook>=4.4.1->widgetsnbextension~=3.5.0->ipywidgets>=7.5.1->neuralprophet==0.2.8) (0.4.4)\n",
            "Requirement already satisfied: pandocfilters>=1.4.1 in /usr/local/lib/python3.6/dist-packages (from nbconvert->notebook>=4.4.1->widgetsnbextension~=3.5.0->ipywidgets>=7.5.1->neuralprophet==0.2.8) (1.4.3)\n",
            "Requirement already satisfied: MarkupSafe>=0.23 in /usr/local/lib/python3.6/dist-packages (from jinja2->notebook>=4.4.1->widgetsnbextension~=3.5.0->ipywidgets>=7.5.1->neuralprophet==0.2.8) (1.1.1)\n",
            "Requirement already satisfied: webencodings in /usr/local/lib/python3.6/dist-packages (from bleach->nbconvert->notebook>=4.4.1->widgetsnbextension~=3.5.0->ipywidgets>=7.5.1->neuralprophet==0.2.8) (0.5.1)\n",
            "Building wheels for collected packages: neuralprophet\n",
            "  Building wheel for neuralprophet (PEP 517) ... \u001b[?25l\u001b[?25hdone\n",
            "  Created wheel for neuralprophet: filename=neuralprophet-0.2.8-cp36-none-any.whl size=56717 sha256=b983471a23db3d28050470eb613b0fb8e9a8a6da7e0a729f0fe351d0f581de9b\n",
            "  Stored in directory: /tmp/pip-ephem-wheel-cache-qqkq7pdi/wheels/5a/29/25/58347b486c135e3aaa41f629bace08cfb3e92d08c65d2b4acf\n",
            "Successfully built neuralprophet\n",
            "Installing collected packages: tqdm, torch-lr-finder, attrdict, neuralprophet\n",
            "  Found existing installation: tqdm 4.41.1\n",
            "    Uninstalling tqdm-4.41.1:\n",
            "      Successfully uninstalled tqdm-4.41.1\n",
            "Successfully installed attrdict-2.0.1 neuralprophet-0.2.8 torch-lr-finder-0.2.1 tqdm-4.56.0\n"
          ],
          "name": "stdout"
        }
      ]
    },
    {
      "cell_type": "markdown",
      "metadata": {
        "id": "812YrNmmAlCS"
      },
      "source": [
        "## Importando as biblioteca"
      ]
    },
    {
      "cell_type": "code",
      "metadata": {
        "colab": {
          "base_uri": "https://localhost:8080/"
        },
        "id": "ZfawYkVloLpw",
        "outputId": "4509f76f-dd44-4e01-b85e-b390123fa7f6"
      },
      "source": [
        "import pandas as pd\r\n",
        "import numpy as np\r\n",
        "import seaborn as sns\r\n",
        "import matplotlib.pyplot as plt\r\n",
        "from fbprophet import Prophet\r\n",
        "from neuralprophet import NeuralProphet\r\n",
        "from statsmodels.stats.stattools import jarque_bera\r\n",
        "from sklearn.metrics import mean_squared_error, mean_absolute_error, explained_variance_score, r2_score\r\n",
        "from sklearn.metrics import max_error, mean_squared_log_error, median_absolute_error"
      ],
      "execution_count": 2,
      "outputs": [
        {
          "output_type": "stream",
          "text": [
            "WARNING - (py.warnings._showwarnmsg) - /usr/local/lib/python3.6/dist-packages/statsmodels/tools/_testing.py:19: FutureWarning:\n",
            "\n",
            "pandas.util.testing is deprecated. Use the functions in the public API at pandas.testing instead.\n",
            "\n",
            "\n"
          ],
          "name": "stderr"
        }
      ]
    },
    {
      "cell_type": "markdown",
      "metadata": {
        "id": "fnvOa0wAAnw7"
      },
      "source": [
        "## Importando a base de dados\r\n",
        "\r\n"
      ]
    },
    {
      "cell_type": "code",
      "metadata": {
        "id": "F-TpTHu2oLr1"
      },
      "source": [
        "bebidas = pd.read_csv('MRTSSM4453USN.csv')"
      ],
      "execution_count": 3,
      "outputs": []
    },
    {
      "cell_type": "markdown",
      "metadata": {
        "id": "x5oLifWvBLk0"
      },
      "source": [
        "Renomeando as colunas."
      ]
    },
    {
      "cell_type": "code",
      "metadata": {
        "id": "eBQViOf2pXJK"
      },
      "source": [
        "bebidas.columns = ['ds','y']"
      ],
      "execution_count": 4,
      "outputs": []
    },
    {
      "cell_type": "markdown",
      "metadata": {
        "id": "xf11KfaYBQOl"
      },
      "source": [
        "Separando dados de treino e validação (últimos 24 meses)."
      ]
    },
    {
      "cell_type": "code",
      "metadata": {
        "id": "pXVhbmsVoLt7"
      },
      "source": [
        "bebida_treino = bebidas[:322]\r\n",
        "bebida_valida = bebidas[323:347]"
      ],
      "execution_count": 6,
      "outputs": []
    },
    {
      "cell_type": "markdown",
      "metadata": {
        "id": "sHJ1tCgYBUhi"
      },
      "source": [
        "## Criando os modelos\r\n",
        "\r\n",
        "Instanciando e treinando modelo da biblioteca **Neural Prophet**."
      ]
    },
    {
      "cell_type": "code",
      "metadata": {
        "colab": {
          "base_uri": "https://localhost:8080/",
          "height": 794,
          "referenced_widgets": [
            "580b4b934ac241ada65472e6f196a9b6",
            "77ef0536ce1c47a1a5ff5bd24beff29b",
            "5bbec6288d7142458279152ea1b53bd4",
            "568d36e69320446dab6a40a4cc7f8fa3",
            "af5a39c2aaec411eb9e41ba927eae77b",
            "f8d3efd8f6b6498090c4cf4edeb488f5",
            "007c781a91794d858bd824d1ad11e472",
            "a837793d2a2e4f78831686ed7c512fde",
            "87bcb75229a1433c9f24e362ffbdf177",
            "d6cb91dfbfd24e3f87136b74913c3a0f",
            "12a725b84697432791a725a1b6922c35"
          ]
        },
        "id": "IJSNgYuvoLvu",
        "outputId": "fd2f74d0-5c5b-480a-b3c9-0e2718b12ab7"
      },
      "source": [
        "m1 = NeuralProphet(seasonality_mode='multiplicative')\r\n",
        "m1.fit(bebida_treino, freq='M')"
      ],
      "execution_count": 7,
      "outputs": [
        {
          "output_type": "stream",
          "text": [
            "WARNING - (py.warnings._showwarnmsg) - /usr/local/lib/python3.6/dist-packages/pandas/core/indexing.py:1743: SettingWithCopyWarning:\n",
            "\n",
            "\n",
            "A value is trying to be set on a copy of a slice from a DataFrame.\n",
            "Try using .loc[row_indexer,col_indexer] = value instead\n",
            "\n",
            "See the caveats in the documentation: https://pandas.pydata.org/pandas-docs/stable/user_guide/indexing.html#returning-a-view-versus-a-copy\n",
            "\n",
            "\n",
            "INFO - (NP.utils.set_auto_seasonalities) - Disabling weekly seasonality. Run NeuralProphet with weekly_seasonality=True to override this.\n",
            "INFO - (NP.utils.set_auto_seasonalities) - Disabling daily seasonality. Run NeuralProphet with daily_seasonality=True to override this.\n",
            "INFO - (NP.config.set_auto_batch_epoch) - Auto-set batch_size to 8\n",
            "INFO - (NP.config.set_auto_batch_epoch) - Auto-set epochs to 99\n",
            "WARNING - (py.warnings._showwarnmsg) - /usr/local/lib/python3.6/dist-packages/torch/nn/modules/container.py:550: UserWarning:\n",
            "\n",
            "Setting attributes on ParameterDict is not supported.\n",
            "\n",
            "\n"
          ],
          "name": "stderr"
        },
        {
          "output_type": "display_data",
          "data": {
            "application/vnd.jupyter.widget-view+json": {
              "model_id": "580b4b934ac241ada65472e6f196a9b6",
              "version_minor": 0,
              "version_major": 2
            },
            "text/plain": [
              "  0%|          | 0/100 [00:00<?, ?it/s]"
            ]
          },
          "metadata": {
            "tags": []
          }
        },
        {
          "output_type": "stream",
          "text": [
            "INFO - (NP.forecaster._lr_range_test) - learning rate range test found optimal lr: 1.23E-01\n",
            "Epoch[99/99]: 100%|██████████| 99/99 [00:08<00:00, 12.29it/s, SmoothL1Loss=0.000458, MAE=84.1, RegLoss=0]\n"
          ],
          "name": "stderr"
        },
        {
          "output_type": "execute_result",
          "data": {
            "text/html": [
              "<div>\n",
              "<style scoped>\n",
              "    .dataframe tbody tr th:only-of-type {\n",
              "        vertical-align: middle;\n",
              "    }\n",
              "\n",
              "    .dataframe tbody tr th {\n",
              "        vertical-align: top;\n",
              "    }\n",
              "\n",
              "    .dataframe thead th {\n",
              "        text-align: right;\n",
              "    }\n",
              "</style>\n",
              "<table border=\"1\" class=\"dataframe\">\n",
              "  <thead>\n",
              "    <tr style=\"text-align: right;\">\n",
              "      <th></th>\n",
              "      <th>SmoothL1Loss</th>\n",
              "      <th>MAE</th>\n",
              "      <th>RegLoss</th>\n",
              "    </tr>\n",
              "  </thead>\n",
              "  <tbody>\n",
              "    <tr>\n",
              "      <th>0</th>\n",
              "      <td>0.314987</td>\n",
              "      <td>2422.271884</td>\n",
              "      <td>0.0</td>\n",
              "    </tr>\n",
              "    <tr>\n",
              "      <th>1</th>\n",
              "      <td>0.161992</td>\n",
              "      <td>1701.210223</td>\n",
              "      <td>0.0</td>\n",
              "    </tr>\n",
              "    <tr>\n",
              "      <th>2</th>\n",
              "      <td>0.099898</td>\n",
              "      <td>1332.228293</td>\n",
              "      <td>0.0</td>\n",
              "    </tr>\n",
              "    <tr>\n",
              "      <th>3</th>\n",
              "      <td>0.062508</td>\n",
              "      <td>1055.101053</td>\n",
              "      <td>0.0</td>\n",
              "    </tr>\n",
              "    <tr>\n",
              "      <th>4</th>\n",
              "      <td>0.039620</td>\n",
              "      <td>838.409780</td>\n",
              "      <td>0.0</td>\n",
              "    </tr>\n",
              "    <tr>\n",
              "      <th>...</th>\n",
              "      <td>...</td>\n",
              "      <td>...</td>\n",
              "      <td>...</td>\n",
              "    </tr>\n",
              "    <tr>\n",
              "      <th>94</th>\n",
              "      <td>0.000472</td>\n",
              "      <td>85.769923</td>\n",
              "      <td>0.0</td>\n",
              "    </tr>\n",
              "    <tr>\n",
              "      <th>95</th>\n",
              "      <td>0.000470</td>\n",
              "      <td>84.799793</td>\n",
              "      <td>0.0</td>\n",
              "    </tr>\n",
              "    <tr>\n",
              "      <th>96</th>\n",
              "      <td>0.000461</td>\n",
              "      <td>84.291160</td>\n",
              "      <td>0.0</td>\n",
              "    </tr>\n",
              "    <tr>\n",
              "      <th>97</th>\n",
              "      <td>0.000458</td>\n",
              "      <td>84.133292</td>\n",
              "      <td>0.0</td>\n",
              "    </tr>\n",
              "    <tr>\n",
              "      <th>98</th>\n",
              "      <td>0.000458</td>\n",
              "      <td>84.051760</td>\n",
              "      <td>0.0</td>\n",
              "    </tr>\n",
              "  </tbody>\n",
              "</table>\n",
              "<p>99 rows × 3 columns</p>\n",
              "</div>"
            ],
            "text/plain": [
              "    SmoothL1Loss          MAE  RegLoss\n",
              "0       0.314987  2422.271884      0.0\n",
              "1       0.161992  1701.210223      0.0\n",
              "2       0.099898  1332.228293      0.0\n",
              "3       0.062508  1055.101053      0.0\n",
              "4       0.039620   838.409780      0.0\n",
              "..           ...          ...      ...\n",
              "94      0.000472    85.769923      0.0\n",
              "95      0.000470    84.799793      0.0\n",
              "96      0.000461    84.291160      0.0\n",
              "97      0.000458    84.133292      0.0\n",
              "98      0.000458    84.051760      0.0\n",
              "\n",
              "[99 rows x 3 columns]"
            ]
          },
          "metadata": {
            "tags": []
          },
          "execution_count": 7
        }
      ]
    },
    {
      "cell_type": "markdown",
      "metadata": {
        "id": "uRbSMROKBlvb"
      },
      "source": [
        "Treinando o modelo da biblioteca **Facebook Prophet**."
      ]
    },
    {
      "cell_type": "code",
      "metadata": {
        "colab": {
          "base_uri": "https://localhost:8080/"
        },
        "id": "6NKCzaWkoLxm",
        "outputId": "003e79cc-b8cd-4ac2-ec52-4157e542f146"
      },
      "source": [
        "m2 = Prophet(seasonality_mode='multiplicative').fit(bebida_treino)"
      ],
      "execution_count": 8,
      "outputs": [
        {
          "output_type": "stream",
          "text": [
            "INFO:fbprophet:Disabling weekly seasonality. Run prophet with weekly_seasonality=True to override this.\n",
            "INFO:fbprophet:Disabling daily seasonality. Run prophet with daily_seasonality=True to override this.\n"
          ],
          "name": "stderr"
        }
      ]
    },
    {
      "cell_type": "markdown",
      "metadata": {
        "id": "eZbe6T64Cn63"
      },
      "source": [
        "### Gerando as previsões\r\n",
        "\r\n",
        "Previsões do modelo **Neural Prophet**."
      ]
    },
    {
      "cell_type": "code",
      "metadata": {
        "colab": {
          "base_uri": "https://localhost:8080/"
        },
        "id": "W_y1yupPp50Q",
        "outputId": "d4608673-04ce-4ca5-e328-d42a2b968077"
      },
      "source": [
        "future = m1.make_future_dataframe(bebida_treino, periods=24)\r\n",
        "forecast = m1.predict(future)"
      ],
      "execution_count": 9,
      "outputs": [
        {
          "output_type": "stream",
          "text": [
            "WARNING - (py.warnings._showwarnmsg) - /usr/local/lib/python3.6/dist-packages/torch/nn/modules/container.py:550: UserWarning:\n",
            "\n",
            "Setting attributes on ParameterDict is not supported.\n",
            "\n",
            "\n",
            "WARNING:py.warnings:/usr/local/lib/python3.6/dist-packages/torch/nn/modules/container.py:550: UserWarning:\n",
            "\n",
            "Setting attributes on ParameterDict is not supported.\n",
            "\n",
            "\n"
          ],
          "name": "stderr"
        }
      ]
    },
    {
      "cell_type": "code",
      "metadata": {
        "colab": {
          "base_uri": "https://localhost:8080/",
          "height": 785
        },
        "id": "ttEiOI6Hp57j",
        "outputId": "59b89eda-727e-417a-f3ad-9f37dc3e2dd5"
      },
      "source": [
        "forecast"
      ],
      "execution_count": 11,
      "outputs": [
        {
          "output_type": "execute_result",
          "data": {
            "text/html": [
              "<div>\n",
              "<style scoped>\n",
              "    .dataframe tbody tr th:only-of-type {\n",
              "        vertical-align: middle;\n",
              "    }\n",
              "\n",
              "    .dataframe tbody tr th {\n",
              "        vertical-align: top;\n",
              "    }\n",
              "\n",
              "    .dataframe thead th {\n",
              "        text-align: right;\n",
              "    }\n",
              "</style>\n",
              "<table border=\"1\" class=\"dataframe\">\n",
              "  <thead>\n",
              "    <tr style=\"text-align: right;\">\n",
              "      <th></th>\n",
              "      <th>ds</th>\n",
              "      <th>y</th>\n",
              "      <th>yhat1</th>\n",
              "      <th>residual1</th>\n",
              "      <th>trend</th>\n",
              "      <th>season_yearly</th>\n",
              "    </tr>\n",
              "  </thead>\n",
              "  <tbody>\n",
              "    <tr>\n",
              "      <th>0</th>\n",
              "      <td>2018-10-31</td>\n",
              "      <td>None</td>\n",
              "      <td>4771.498047</td>\n",
              "      <td>NaN</td>\n",
              "      <td>4771.474121</td>\n",
              "      <td>0.000007</td>\n",
              "    </tr>\n",
              "    <tr>\n",
              "      <th>1</th>\n",
              "      <td>2018-11-30</td>\n",
              "      <td>None</td>\n",
              "      <td>6820.742676</td>\n",
              "      <td>NaN</td>\n",
              "      <td>4784.704102</td>\n",
              "      <td>0.558495</td>\n",
              "    </tr>\n",
              "    <tr>\n",
              "      <th>2</th>\n",
              "      <td>2018-12-31</td>\n",
              "      <td>None</td>\n",
              "      <td>3993.007568</td>\n",
              "      <td>NaN</td>\n",
              "      <td>4798.374512</td>\n",
              "      <td>-0.220091</td>\n",
              "    </tr>\n",
              "    <tr>\n",
              "      <th>3</th>\n",
              "      <td>2019-01-31</td>\n",
              "      <td>None</td>\n",
              "      <td>3958.254395</td>\n",
              "      <td>NaN</td>\n",
              "      <td>4812.045898</td>\n",
              "      <td>-0.232456</td>\n",
              "    </tr>\n",
              "    <tr>\n",
              "      <th>4</th>\n",
              "      <td>2019-02-28</td>\n",
              "      <td>None</td>\n",
              "      <td>4453.195312</td>\n",
              "      <td>NaN</td>\n",
              "      <td>4824.393555</td>\n",
              "      <td>-0.100725</td>\n",
              "    </tr>\n",
              "    <tr>\n",
              "      <th>5</th>\n",
              "      <td>2019-03-31</td>\n",
              "      <td>None</td>\n",
              "      <td>4487.868164</td>\n",
              "      <td>NaN</td>\n",
              "      <td>4838.064453</td>\n",
              "      <td>-0.094675</td>\n",
              "    </tr>\n",
              "    <tr>\n",
              "      <th>6</th>\n",
              "      <td>2019-04-30</td>\n",
              "      <td>None</td>\n",
              "      <td>4914.353027</td>\n",
              "      <td>NaN</td>\n",
              "      <td>4851.294434</td>\n",
              "      <td>0.016987</td>\n",
              "    </tr>\n",
              "    <tr>\n",
              "      <th>7</th>\n",
              "      <td>2019-05-31</td>\n",
              "      <td>None</td>\n",
              "      <td>4986.614258</td>\n",
              "      <td>NaN</td>\n",
              "      <td>4864.965820</td>\n",
              "      <td>0.032650</td>\n",
              "    </tr>\n",
              "    <tr>\n",
              "      <th>8</th>\n",
              "      <td>2019-06-30</td>\n",
              "      <td>None</td>\n",
              "      <td>5095.814453</td>\n",
              "      <td>NaN</td>\n",
              "      <td>4878.195801</td>\n",
              "      <td>0.058201</td>\n",
              "    </tr>\n",
              "    <tr>\n",
              "      <th>9</th>\n",
              "      <td>2019-07-31</td>\n",
              "      <td>None</td>\n",
              "      <td>5088.747070</td>\n",
              "      <td>NaN</td>\n",
              "      <td>4891.866211</td>\n",
              "      <td>0.052463</td>\n",
              "    </tr>\n",
              "    <tr>\n",
              "      <th>10</th>\n",
              "      <td>2019-08-31</td>\n",
              "      <td>None</td>\n",
              "      <td>4613.109375</td>\n",
              "      <td>NaN</td>\n",
              "      <td>4905.537109</td>\n",
              "      <td>-0.077641</td>\n",
              "    </tr>\n",
              "    <tr>\n",
              "      <th>11</th>\n",
              "      <td>2019-09-30</td>\n",
              "      <td>None</td>\n",
              "      <td>4941.568848</td>\n",
              "      <td>NaN</td>\n",
              "      <td>4918.767578</td>\n",
              "      <td>0.006033</td>\n",
              "    </tr>\n",
              "    <tr>\n",
              "      <th>12</th>\n",
              "      <td>2019-10-31</td>\n",
              "      <td>None</td>\n",
              "      <td>4906.293945</td>\n",
              "      <td>NaN</td>\n",
              "      <td>4932.437500</td>\n",
              "      <td>-0.006892</td>\n",
              "    </tr>\n",
              "    <tr>\n",
              "      <th>13</th>\n",
              "      <td>2019-11-30</td>\n",
              "      <td>None</td>\n",
              "      <td>7082.283203</td>\n",
              "      <td>NaN</td>\n",
              "      <td>4945.667969</td>\n",
              "      <td>0.561301</td>\n",
              "    </tr>\n",
              "    <tr>\n",
              "      <th>14</th>\n",
              "      <td>2019-12-31</td>\n",
              "      <td>None</td>\n",
              "      <td>4133.783203</td>\n",
              "      <td>NaN</td>\n",
              "      <td>4959.338867</td>\n",
              "      <td>-0.216102</td>\n",
              "    </tr>\n",
              "    <tr>\n",
              "      <th>15</th>\n",
              "      <td>2020-01-31</td>\n",
              "      <td>None</td>\n",
              "      <td>4077.136963</td>\n",
              "      <td>NaN</td>\n",
              "      <td>4973.009277</td>\n",
              "      <td>-0.233672</td>\n",
              "    </tr>\n",
              "    <tr>\n",
              "      <th>16</th>\n",
              "      <td>2020-02-29</td>\n",
              "      <td>None</td>\n",
              "      <td>4613.491699</td>\n",
              "      <td>NaN</td>\n",
              "      <td>4985.798828</td>\n",
              "      <td>-0.096787</td>\n",
              "    </tr>\n",
              "    <tr>\n",
              "      <th>17</th>\n",
              "      <td>2020-03-31</td>\n",
              "      <td>None</td>\n",
              "      <td>4621.498047</td>\n",
              "      <td>NaN</td>\n",
              "      <td>4999.469727</td>\n",
              "      <td>-0.097911</td>\n",
              "    </tr>\n",
              "    <tr>\n",
              "      <th>18</th>\n",
              "      <td>2020-04-30</td>\n",
              "      <td>None</td>\n",
              "      <td>5111.134277</td>\n",
              "      <td>NaN</td>\n",
              "      <td>5012.699219</td>\n",
              "      <td>0.025412</td>\n",
              "    </tr>\n",
              "    <tr>\n",
              "      <th>19</th>\n",
              "      <td>2020-05-31</td>\n",
              "      <td>None</td>\n",
              "      <td>5122.671387</td>\n",
              "      <td>NaN</td>\n",
              "      <td>5026.370117</td>\n",
              "      <td>0.024774</td>\n",
              "    </tr>\n",
              "    <tr>\n",
              "      <th>20</th>\n",
              "      <td>2020-06-30</td>\n",
              "      <td>None</td>\n",
              "      <td>5306.346191</td>\n",
              "      <td>NaN</td>\n",
              "      <td>5039.600586</td>\n",
              "      <td>0.068388</td>\n",
              "    </tr>\n",
              "    <tr>\n",
              "      <th>21</th>\n",
              "      <td>2020-07-31</td>\n",
              "      <td>None</td>\n",
              "      <td>5207.326172</td>\n",
              "      <td>NaN</td>\n",
              "      <td>5053.270996</td>\n",
              "      <td>0.039359</td>\n",
              "    </tr>\n",
              "    <tr>\n",
              "      <th>22</th>\n",
              "      <td>2020-08-31</td>\n",
              "      <td>None</td>\n",
              "      <td>4805.207031</td>\n",
              "      <td>NaN</td>\n",
              "      <td>5066.942383</td>\n",
              "      <td>-0.066636</td>\n",
              "    </tr>\n",
              "    <tr>\n",
              "      <th>23</th>\n",
              "      <td>2020-09-30</td>\n",
              "      <td>None</td>\n",
              "      <td>5056.365723</td>\n",
              "      <td>NaN</td>\n",
              "      <td>5080.171875</td>\n",
              "      <td>-0.006041</td>\n",
              "    </tr>\n",
              "  </tbody>\n",
              "</table>\n",
              "</div>"
            ],
            "text/plain": [
              "           ds     y        yhat1 residual1        trend  season_yearly\n",
              "0  2018-10-31  None  4771.498047       NaN  4771.474121       0.000007\n",
              "1  2018-11-30  None  6820.742676       NaN  4784.704102       0.558495\n",
              "2  2018-12-31  None  3993.007568       NaN  4798.374512      -0.220091\n",
              "3  2019-01-31  None  3958.254395       NaN  4812.045898      -0.232456\n",
              "4  2019-02-28  None  4453.195312       NaN  4824.393555      -0.100725\n",
              "5  2019-03-31  None  4487.868164       NaN  4838.064453      -0.094675\n",
              "6  2019-04-30  None  4914.353027       NaN  4851.294434       0.016987\n",
              "7  2019-05-31  None  4986.614258       NaN  4864.965820       0.032650\n",
              "8  2019-06-30  None  5095.814453       NaN  4878.195801       0.058201\n",
              "9  2019-07-31  None  5088.747070       NaN  4891.866211       0.052463\n",
              "10 2019-08-31  None  4613.109375       NaN  4905.537109      -0.077641\n",
              "11 2019-09-30  None  4941.568848       NaN  4918.767578       0.006033\n",
              "12 2019-10-31  None  4906.293945       NaN  4932.437500      -0.006892\n",
              "13 2019-11-30  None  7082.283203       NaN  4945.667969       0.561301\n",
              "14 2019-12-31  None  4133.783203       NaN  4959.338867      -0.216102\n",
              "15 2020-01-31  None  4077.136963       NaN  4973.009277      -0.233672\n",
              "16 2020-02-29  None  4613.491699       NaN  4985.798828      -0.096787\n",
              "17 2020-03-31  None  4621.498047       NaN  4999.469727      -0.097911\n",
              "18 2020-04-30  None  5111.134277       NaN  5012.699219       0.025412\n",
              "19 2020-05-31  None  5122.671387       NaN  5026.370117       0.024774\n",
              "20 2020-06-30  None  5306.346191       NaN  5039.600586       0.068388\n",
              "21 2020-07-31  None  5207.326172       NaN  5053.270996       0.039359\n",
              "22 2020-08-31  None  4805.207031       NaN  5066.942383      -0.066636\n",
              "23 2020-09-30  None  5056.365723       NaN  5080.171875      -0.006041"
            ]
          },
          "metadata": {
            "tags": []
          },
          "execution_count": 11
        }
      ]
    },
    {
      "cell_type": "markdown",
      "metadata": {
        "id": "AEnYhq3rC1UB"
      },
      "source": [
        "Previsões do **Facebook Prophet**."
      ]
    },
    {
      "cell_type": "code",
      "metadata": {
        "id": "iOCdg6V8p550"
      },
      "source": [
        "futuro=m2.make_future_dataframe(periods=24, freq='M')\r\n",
        "previsoes=m2.predict(futuro)"
      ],
      "execution_count": 10,
      "outputs": []
    },
    {
      "cell_type": "code",
      "metadata": {
        "colab": {
          "base_uri": "https://localhost:8080/",
          "height": 609
        },
        "id": "w6wgJMDDp58q",
        "outputId": "b9d2227c-5ff9-45bb-eac2-c33629299847"
      },
      "source": [
        "previsoes"
      ],
      "execution_count": 12,
      "outputs": [
        {
          "output_type": "execute_result",
          "data": {
            "text/html": [
              "<div>\n",
              "<style scoped>\n",
              "    .dataframe tbody tr th:only-of-type {\n",
              "        vertical-align: middle;\n",
              "    }\n",
              "\n",
              "    .dataframe tbody tr th {\n",
              "        vertical-align: top;\n",
              "    }\n",
              "\n",
              "    .dataframe thead th {\n",
              "        text-align: right;\n",
              "    }\n",
              "</style>\n",
              "<table border=\"1\" class=\"dataframe\">\n",
              "  <thead>\n",
              "    <tr style=\"text-align: right;\">\n",
              "      <th></th>\n",
              "      <th>ds</th>\n",
              "      <th>trend</th>\n",
              "      <th>yhat_lower</th>\n",
              "      <th>yhat_upper</th>\n",
              "      <th>trend_lower</th>\n",
              "      <th>trend_upper</th>\n",
              "      <th>multiplicative_terms</th>\n",
              "      <th>multiplicative_terms_lower</th>\n",
              "      <th>multiplicative_terms_upper</th>\n",
              "      <th>yearly</th>\n",
              "      <th>yearly_lower</th>\n",
              "      <th>yearly_upper</th>\n",
              "      <th>additive_terms</th>\n",
              "      <th>additive_terms_lower</th>\n",
              "      <th>additive_terms_upper</th>\n",
              "      <th>yhat</th>\n",
              "    </tr>\n",
              "  </thead>\n",
              "  <tbody>\n",
              "    <tr>\n",
              "      <th>0</th>\n",
              "      <td>1992-01-01</td>\n",
              "      <td>1777.500350</td>\n",
              "      <td>1407.991937</td>\n",
              "      <td>1570.798169</td>\n",
              "      <td>1777.500350</td>\n",
              "      <td>1777.500350</td>\n",
              "      <td>-0.159490</td>\n",
              "      <td>-0.159490</td>\n",
              "      <td>-0.159490</td>\n",
              "      <td>-0.159490</td>\n",
              "      <td>-0.159490</td>\n",
              "      <td>-0.159490</td>\n",
              "      <td>0.0</td>\n",
              "      <td>0.0</td>\n",
              "      <td>0.0</td>\n",
              "      <td>1494.007400</td>\n",
              "    </tr>\n",
              "    <tr>\n",
              "      <th>1</th>\n",
              "      <td>1992-02-01</td>\n",
              "      <td>1779.532645</td>\n",
              "      <td>1439.097164</td>\n",
              "      <td>1605.740308</td>\n",
              "      <td>1779.532645</td>\n",
              "      <td>1779.532645</td>\n",
              "      <td>-0.144602</td>\n",
              "      <td>-0.144602</td>\n",
              "      <td>-0.144602</td>\n",
              "      <td>-0.144602</td>\n",
              "      <td>-0.144602</td>\n",
              "      <td>-0.144602</td>\n",
              "      <td>0.0</td>\n",
              "      <td>0.0</td>\n",
              "      <td>0.0</td>\n",
              "      <td>1522.208510</td>\n",
              "    </tr>\n",
              "    <tr>\n",
              "      <th>2</th>\n",
              "      <td>1992-03-01</td>\n",
              "      <td>1781.433824</td>\n",
              "      <td>1593.096571</td>\n",
              "      <td>1757.900155</td>\n",
              "      <td>1781.433824</td>\n",
              "      <td>1781.433824</td>\n",
              "      <td>-0.060161</td>\n",
              "      <td>-0.060161</td>\n",
              "      <td>-0.060161</td>\n",
              "      <td>-0.060161</td>\n",
              "      <td>-0.060161</td>\n",
              "      <td>-0.060161</td>\n",
              "      <td>0.0</td>\n",
              "      <td>0.0</td>\n",
              "      <td>0.0</td>\n",
              "      <td>1674.261102</td>\n",
              "    </tr>\n",
              "    <tr>\n",
              "      <th>3</th>\n",
              "      <td>1992-04-01</td>\n",
              "      <td>1783.466119</td>\n",
              "      <td>1583.521676</td>\n",
              "      <td>1752.401781</td>\n",
              "      <td>1783.466119</td>\n",
              "      <td>1783.466119</td>\n",
              "      <td>-0.065617</td>\n",
              "      <td>-0.065617</td>\n",
              "      <td>-0.065617</td>\n",
              "      <td>-0.065617</td>\n",
              "      <td>-0.065617</td>\n",
              "      <td>-0.065617</td>\n",
              "      <td>0.0</td>\n",
              "      <td>0.0</td>\n",
              "      <td>0.0</td>\n",
              "      <td>1666.440676</td>\n",
              "    </tr>\n",
              "    <tr>\n",
              "      <th>4</th>\n",
              "      <td>1992-05-01</td>\n",
              "      <td>1785.432856</td>\n",
              "      <td>1737.667997</td>\n",
              "      <td>1902.532584</td>\n",
              "      <td>1785.432856</td>\n",
              "      <td>1785.432856</td>\n",
              "      <td>0.019184</td>\n",
              "      <td>0.019184</td>\n",
              "      <td>0.019184</td>\n",
              "      <td>0.019184</td>\n",
              "      <td>0.019184</td>\n",
              "      <td>0.019184</td>\n",
              "      <td>0.0</td>\n",
              "      <td>0.0</td>\n",
              "      <td>0.0</td>\n",
              "      <td>1819.684562</td>\n",
              "    </tr>\n",
              "    <tr>\n",
              "      <th>...</th>\n",
              "      <td>...</td>\n",
              "      <td>...</td>\n",
              "      <td>...</td>\n",
              "      <td>...</td>\n",
              "      <td>...</td>\n",
              "      <td>...</td>\n",
              "      <td>...</td>\n",
              "      <td>...</td>\n",
              "      <td>...</td>\n",
              "      <td>...</td>\n",
              "      <td>...</td>\n",
              "      <td>...</td>\n",
              "      <td>...</td>\n",
              "      <td>...</td>\n",
              "      <td>...</td>\n",
              "      <td>...</td>\n",
              "    </tr>\n",
              "    <tr>\n",
              "      <th>341</th>\n",
              "      <td>2020-05-31</td>\n",
              "      <td>5199.145250</td>\n",
              "      <td>5143.528927</td>\n",
              "      <td>5329.779258</td>\n",
              "      <td>5173.036522</td>\n",
              "      <td>5226.503501</td>\n",
              "      <td>0.007173</td>\n",
              "      <td>0.007173</td>\n",
              "      <td>0.007173</td>\n",
              "      <td>0.007173</td>\n",
              "      <td>0.007173</td>\n",
              "      <td>0.007173</td>\n",
              "      <td>0.0</td>\n",
              "      <td>0.0</td>\n",
              "      <td>0.0</td>\n",
              "      <td>5236.439364</td>\n",
              "    </tr>\n",
              "    <tr>\n",
              "      <th>342</th>\n",
              "      <td>2020-06-30</td>\n",
              "      <td>5215.234738</td>\n",
              "      <td>5392.223250</td>\n",
              "      <td>5575.344836</td>\n",
              "      <td>5186.324260</td>\n",
              "      <td>5245.146558</td>\n",
              "      <td>0.051184</td>\n",
              "      <td>0.051184</td>\n",
              "      <td>0.051184</td>\n",
              "      <td>0.051184</td>\n",
              "      <td>0.051184</td>\n",
              "      <td>0.051184</td>\n",
              "      <td>0.0</td>\n",
              "      <td>0.0</td>\n",
              "      <td>0.0</td>\n",
              "      <td>5482.170808</td>\n",
              "    </tr>\n",
              "    <tr>\n",
              "      <th>343</th>\n",
              "      <td>2020-07-31</td>\n",
              "      <td>5231.860542</td>\n",
              "      <td>5223.609503</td>\n",
              "      <td>5403.923847</td>\n",
              "      <td>5200.707003</td>\n",
              "      <td>5264.059331</td>\n",
              "      <td>0.015620</td>\n",
              "      <td>0.015620</td>\n",
              "      <td>0.015620</td>\n",
              "      <td>0.015620</td>\n",
              "      <td>0.015620</td>\n",
              "      <td>0.015620</td>\n",
              "      <td>0.0</td>\n",
              "      <td>0.0</td>\n",
              "      <td>0.0</td>\n",
              "      <td>5313.580448</td>\n",
              "    </tr>\n",
              "    <tr>\n",
              "      <th>344</th>\n",
              "      <td>2020-08-31</td>\n",
              "      <td>5248.486346</td>\n",
              "      <td>4963.356127</td>\n",
              "      <td>5151.652777</td>\n",
              "      <td>5214.550230</td>\n",
              "      <td>5284.261599</td>\n",
              "      <td>-0.036355</td>\n",
              "      <td>-0.036355</td>\n",
              "      <td>-0.036355</td>\n",
              "      <td>-0.036355</td>\n",
              "      <td>-0.036355</td>\n",
              "      <td>-0.036355</td>\n",
              "      <td>0.0</td>\n",
              "      <td>0.0</td>\n",
              "      <td>0.0</td>\n",
              "      <td>5057.676103</td>\n",
              "    </tr>\n",
              "    <tr>\n",
              "      <th>345</th>\n",
              "      <td>2020-09-30</td>\n",
              "      <td>5264.575834</td>\n",
              "      <td>5113.887656</td>\n",
              "      <td>5310.175781</td>\n",
              "      <td>5228.721586</td>\n",
              "      <td>5302.575185</td>\n",
              "      <td>-0.010615</td>\n",
              "      <td>-0.010615</td>\n",
              "      <td>-0.010615</td>\n",
              "      <td>-0.010615</td>\n",
              "      <td>-0.010615</td>\n",
              "      <td>-0.010615</td>\n",
              "      <td>0.0</td>\n",
              "      <td>0.0</td>\n",
              "      <td>0.0</td>\n",
              "      <td>5208.692838</td>\n",
              "    </tr>\n",
              "  </tbody>\n",
              "</table>\n",
              "<p>346 rows × 16 columns</p>\n",
              "</div>"
            ],
            "text/plain": [
              "            ds        trend  ...  additive_terms_upper         yhat\n",
              "0   1992-01-01  1777.500350  ...                   0.0  1494.007400\n",
              "1   1992-02-01  1779.532645  ...                   0.0  1522.208510\n",
              "2   1992-03-01  1781.433824  ...                   0.0  1674.261102\n",
              "3   1992-04-01  1783.466119  ...                   0.0  1666.440676\n",
              "4   1992-05-01  1785.432856  ...                   0.0  1819.684562\n",
              "..         ...          ...  ...                   ...          ...\n",
              "341 2020-05-31  5199.145250  ...                   0.0  5236.439364\n",
              "342 2020-06-30  5215.234738  ...                   0.0  5482.170808\n",
              "343 2020-07-31  5231.860542  ...                   0.0  5313.580448\n",
              "344 2020-08-31  5248.486346  ...                   0.0  5057.676103\n",
              "345 2020-09-30  5264.575834  ...                   0.0  5208.692838\n",
              "\n",
              "[346 rows x 16 columns]"
            ]
          },
          "metadata": {
            "tags": []
          },
          "execution_count": 12
        }
      ]
    },
    {
      "cell_type": "markdown",
      "metadata": {
        "id": "IZhfMjRTDB5b"
      },
      "source": [
        "### Comparando os resultados.\r\n",
        "\r\n",
        "Primeiro irei reindexar as previsões do **Facebook Prophet** para que tenham o mesmo índice da base de validação."
      ]
    },
    {
      "cell_type": "code",
      "metadata": {
        "id": "0jsSjVM3p5_O"
      },
      "source": [
        "validacao=pd.DataFrame({'ds':bebida_valida['ds']})\r\n",
        "saida=m2.predict(validacao)\r\n",
        "saida.index=bebida_valida.index"
      ],
      "execution_count": 13,
      "outputs": []
    },
    {
      "cell_type": "code",
      "metadata": {
        "colab": {
          "base_uri": "https://localhost:8080/",
          "height": 785
        },
        "id": "rD5UNIqlp6Ah",
        "outputId": "5dcb08bd-49b5-47fe-d96d-d0f3afe8163f"
      },
      "source": [
        "saida[['ds','yhat','yhat_lower','yhat_upper']]"
      ],
      "execution_count": 14,
      "outputs": [
        {
          "output_type": "execute_result",
          "data": {
            "text/html": [
              "<div>\n",
              "<style scoped>\n",
              "    .dataframe tbody tr th:only-of-type {\n",
              "        vertical-align: middle;\n",
              "    }\n",
              "\n",
              "    .dataframe tbody tr th {\n",
              "        vertical-align: top;\n",
              "    }\n",
              "\n",
              "    .dataframe thead th {\n",
              "        text-align: right;\n",
              "    }\n",
              "</style>\n",
              "<table border=\"1\" class=\"dataframe\">\n",
              "  <thead>\n",
              "    <tr style=\"text-align: right;\">\n",
              "      <th></th>\n",
              "      <th>ds</th>\n",
              "      <th>yhat</th>\n",
              "      <th>yhat_lower</th>\n",
              "      <th>yhat_upper</th>\n",
              "    </tr>\n",
              "  </thead>\n",
              "  <tbody>\n",
              "    <tr>\n",
              "      <th>323</th>\n",
              "      <td>2018-12-01</td>\n",
              "      <td>6694.329937</td>\n",
              "      <td>6606.650873</td>\n",
              "      <td>6776.444295</td>\n",
              "    </tr>\n",
              "    <tr>\n",
              "      <th>324</th>\n",
              "      <td>2019-01-01</td>\n",
              "      <td>4148.792440</td>\n",
              "      <td>4068.030825</td>\n",
              "      <td>4233.443539</td>\n",
              "    </tr>\n",
              "    <tr>\n",
              "      <th>325</th>\n",
              "      <td>2019-02-01</td>\n",
              "      <td>4194.834317</td>\n",
              "      <td>4107.950523</td>\n",
              "      <td>4277.625968</td>\n",
              "    </tr>\n",
              "    <tr>\n",
              "      <th>326</th>\n",
              "      <td>2019-03-01</td>\n",
              "      <td>4616.277360</td>\n",
              "      <td>4533.828127</td>\n",
              "      <td>4700.313792</td>\n",
              "    </tr>\n",
              "    <tr>\n",
              "      <th>327</th>\n",
              "      <td>2019-04-01</td>\n",
              "      <td>4615.181562</td>\n",
              "      <td>4534.728802</td>\n",
              "      <td>4708.876324</td>\n",
              "    </tr>\n",
              "    <tr>\n",
              "      <th>328</th>\n",
              "      <td>2019-05-01</td>\n",
              "      <td>5073.195054</td>\n",
              "      <td>4994.914135</td>\n",
              "      <td>5153.117412</td>\n",
              "    </tr>\n",
              "    <tr>\n",
              "      <th>329</th>\n",
              "      <td>2019-06-01</td>\n",
              "      <td>5040.988144</td>\n",
              "      <td>4952.928700</td>\n",
              "      <td>5126.387550</td>\n",
              "    </tr>\n",
              "    <tr>\n",
              "      <th>330</th>\n",
              "      <td>2019-07-01</td>\n",
              "      <td>5269.841353</td>\n",
              "      <td>5186.364042</td>\n",
              "      <td>5353.360428</td>\n",
              "    </tr>\n",
              "    <tr>\n",
              "      <th>331</th>\n",
              "      <td>2019-08-01</td>\n",
              "      <td>5114.503887</td>\n",
              "      <td>5026.961747</td>\n",
              "      <td>5195.533775</td>\n",
              "    </tr>\n",
              "    <tr>\n",
              "      <th>332</th>\n",
              "      <td>2019-09-01</td>\n",
              "      <td>4863.345273</td>\n",
              "      <td>4774.359012</td>\n",
              "      <td>4948.018249</td>\n",
              "    </tr>\n",
              "    <tr>\n",
              "      <th>333</th>\n",
              "      <td>2019-10-01</td>\n",
              "      <td>5009.144792</td>\n",
              "      <td>4924.017766</td>\n",
              "      <td>5091.210493</td>\n",
              "    </tr>\n",
              "    <tr>\n",
              "      <th>334</th>\n",
              "      <td>2019-11-01</td>\n",
              "      <td>5129.521120</td>\n",
              "      <td>5044.434047</td>\n",
              "      <td>5217.015328</td>\n",
              "    </tr>\n",
              "    <tr>\n",
              "      <th>335</th>\n",
              "      <td>2019-12-01</td>\n",
              "      <td>6983.559409</td>\n",
              "      <td>6904.098826</td>\n",
              "      <td>7070.205520</td>\n",
              "    </tr>\n",
              "    <tr>\n",
              "      <th>336</th>\n",
              "      <td>2020-01-01</td>\n",
              "      <td>4301.867593</td>\n",
              "      <td>4216.558294</td>\n",
              "      <td>4384.529225</td>\n",
              "    </tr>\n",
              "    <tr>\n",
              "      <th>337</th>\n",
              "      <td>2020-02-01</td>\n",
              "      <td>4392.286337</td>\n",
              "      <td>4305.387735</td>\n",
              "      <td>4475.840497</td>\n",
              "    </tr>\n",
              "    <tr>\n",
              "      <th>338</th>\n",
              "      <td>2020-03-01</td>\n",
              "      <td>4840.491181</td>\n",
              "      <td>4755.223077</td>\n",
              "      <td>4922.991156</td>\n",
              "    </tr>\n",
              "    <tr>\n",
              "      <th>339</th>\n",
              "      <td>2020-04-01</td>\n",
              "      <td>4827.926183</td>\n",
              "      <td>4741.609772</td>\n",
              "      <td>4912.910565</td>\n",
              "    </tr>\n",
              "    <tr>\n",
              "      <th>340</th>\n",
              "      <td>2020-05-01</td>\n",
              "      <td>5282.487393</td>\n",
              "      <td>5196.655200</td>\n",
              "      <td>5369.432620</td>\n",
              "    </tr>\n",
              "    <tr>\n",
              "      <th>341</th>\n",
              "      <td>2020-06-01</td>\n",
              "      <td>5245.503605</td>\n",
              "      <td>5157.661425</td>\n",
              "      <td>5332.297880</td>\n",
              "    </tr>\n",
              "    <tr>\n",
              "      <th>342</th>\n",
              "      <td>2020-07-01</td>\n",
              "      <td>5455.453638</td>\n",
              "      <td>5361.568205</td>\n",
              "      <td>5542.190942</td>\n",
              "    </tr>\n",
              "    <tr>\n",
              "      <th>343</th>\n",
              "      <td>2020-08-01</td>\n",
              "      <td>5312.838392</td>\n",
              "      <td>5214.695449</td>\n",
              "      <td>5402.136632</td>\n",
              "    </tr>\n",
              "    <tr>\n",
              "      <th>344</th>\n",
              "      <td>2020-09-01</td>\n",
              "      <td>5034.796370</td>\n",
              "      <td>4948.187364</td>\n",
              "      <td>5124.986837</td>\n",
              "    </tr>\n",
              "    <tr>\n",
              "      <th>345</th>\n",
              "      <td>2020-10-01</td>\n",
              "      <td>5182.094860</td>\n",
              "      <td>5084.717201</td>\n",
              "      <td>5279.594092</td>\n",
              "    </tr>\n",
              "    <tr>\n",
              "      <th>346</th>\n",
              "      <td>2020-11-01</td>\n",
              "      <td>5440.192187</td>\n",
              "      <td>5339.711971</td>\n",
              "      <td>5536.546450</td>\n",
              "    </tr>\n",
              "  </tbody>\n",
              "</table>\n",
              "</div>"
            ],
            "text/plain": [
              "            ds         yhat   yhat_lower   yhat_upper\n",
              "323 2018-12-01  6694.329937  6606.650873  6776.444295\n",
              "324 2019-01-01  4148.792440  4068.030825  4233.443539\n",
              "325 2019-02-01  4194.834317  4107.950523  4277.625968\n",
              "326 2019-03-01  4616.277360  4533.828127  4700.313792\n",
              "327 2019-04-01  4615.181562  4534.728802  4708.876324\n",
              "328 2019-05-01  5073.195054  4994.914135  5153.117412\n",
              "329 2019-06-01  5040.988144  4952.928700  5126.387550\n",
              "330 2019-07-01  5269.841353  5186.364042  5353.360428\n",
              "331 2019-08-01  5114.503887  5026.961747  5195.533775\n",
              "332 2019-09-01  4863.345273  4774.359012  4948.018249\n",
              "333 2019-10-01  5009.144792  4924.017766  5091.210493\n",
              "334 2019-11-01  5129.521120  5044.434047  5217.015328\n",
              "335 2019-12-01  6983.559409  6904.098826  7070.205520\n",
              "336 2020-01-01  4301.867593  4216.558294  4384.529225\n",
              "337 2020-02-01  4392.286337  4305.387735  4475.840497\n",
              "338 2020-03-01  4840.491181  4755.223077  4922.991156\n",
              "339 2020-04-01  4827.926183  4741.609772  4912.910565\n",
              "340 2020-05-01  5282.487393  5196.655200  5369.432620\n",
              "341 2020-06-01  5245.503605  5157.661425  5332.297880\n",
              "342 2020-07-01  5455.453638  5361.568205  5542.190942\n",
              "343 2020-08-01  5312.838392  5214.695449  5402.136632\n",
              "344 2020-09-01  5034.796370  4948.187364  5124.986837\n",
              "345 2020-10-01  5182.094860  5084.717201  5279.594092\n",
              "346 2020-11-01  5440.192187  5339.711971  5536.546450"
            ]
          },
          "metadata": {
            "tags": []
          },
          "execution_count": 14
        }
      ]
    },
    {
      "cell_type": "markdown",
      "metadata": {
        "id": "tLpGprHWDW1V"
      },
      "source": [
        "reindexarei também as previsões do modelo **Neural Prophet**."
      ]
    },
    {
      "cell_type": "code",
      "metadata": {
        "id": "KjBXwPBZoL3R"
      },
      "source": [
        "forecast.index = bebida_valida.index"
      ],
      "execution_count": 15,
      "outputs": []
    },
    {
      "cell_type": "markdown",
      "metadata": {
        "id": "5nlGOn1TDdZA"
      },
      "source": [
        "Comparando visualmente os resultados vemos que as previsões do **Facebook Prophet** estão mais alinhadas com a base de validação."
      ]
    },
    {
      "cell_type": "code",
      "metadata": {
        "colab": {
          "base_uri": "https://localhost:8080/",
          "height": 592
        },
        "id": "9bhUU1v2DlDO",
        "outputId": "eef308f2-37c1-46ec-d795-782704648cd2"
      },
      "source": [
        "forecast['yhat1'].plot(figsize=(20,10))\r\n",
        "saida['yhat'].plot()\r\n",
        "bebida_valida['y'].plot()\r\n",
        "bebida_treino['y'].plot()\r\n",
        "plt.legend(['Previsões do Neural Prophet','Previsões do Facebook Prophet','Valores reais'], fontsize=10);"
      ],
      "execution_count": 16,
      "outputs": [
        {
          "output_type": "display_data",
          "data": {
            "image/png": "[encoded data removed]",
            "text/plain": [
              "<Figure size 1440x720 with 1 Axes>"
            ]
          },
          "metadata": {
            "tags": [],
            "needs_background": "light"
          }
        }
      ]
    },
    {
      "cell_type": "markdown",
      "metadata": {
        "id": "KOdluHt7EAmX"
      },
      "source": [
        "Visualizando com uma maior proximidade."
      ]
    },
    {
      "cell_type": "code",
      "metadata": {
        "colab": {
          "base_uri": "https://localhost:8080/",
          "height": 592
        },
        "id": "7v31V3OYp5-G",
        "outputId": "a13cf128-46c0-44d2-c5e3-470b6113c7ff"
      },
      "source": [
        "forecast['yhat1'].plot(figsize=(20,10))\r\n",
        "saida['yhat'].plot()\r\n",
        "bebida_valida['y'].plot()\r\n",
        "plt.legend(['Previsões do Neural Prophet','Previsões do Facebook Prophet','Valores reais'], fontsize=10);"
      ],
      "execution_count": 17,
      "outputs": [
        {
          "output_type": "display_data",
          "data": {
            "image/png": "[encoded data removed]",
            "text/plain": [
              "<Figure size 1440x720 with 1 Axes>"
            ]
          },
          "metadata": {
            "tags": [],
            "needs_background": "light"
          }
        }
      ]
    },
    {
      "cell_type": "markdown",
      "metadata": {
        "id": "ygiHGQuSE4KB"
      },
      "source": [
        "Com o histograma podemos ver que o histogram das previsões do **Facebook Prophet** estão mais próximo do histograma dos valores de validação, do que o histograma das previsões do **Neural Prophet**."
      ]
    },
    {
      "cell_type": "code",
      "metadata": {
        "colab": {
          "base_uri": "https://localhost:8080/",
          "height": 606
        },
        "id": "osz6DkcUEZsX",
        "outputId": "df1f0b58-4005-486a-84a5-b74f4e1f2c99"
      },
      "source": [
        "plt.figure(figsize=(20,10))\r\n",
        "sns.histplot(forecast['yhat1'], color = 'red')\r\n",
        "sns.histplot(saida['yhat'], color = 'green')\r\n",
        "sns.histplot(bebida_valida['y'])\r\n",
        "plt.legend(['Histograma das previsões NP','Histograma das previsões do FP','Histograma dos dados de validação'], fontsize=10);"
      ],
      "execution_count": 22,
      "outputs": [
        {
          "output_type": "display_data",
          "data": {
            "image/png": "[encoded data removed]",
            "text/plain": [
              "<Figure size 1440x720 with 1 Axes>"
            ]
          },
          "metadata": {
            "tags": [],
            "needs_background": "light"
          }
        }
      ]
    },
    {
      "cell_type": "markdown",
      "metadata": {
        "id": "-C7OaFjnEOaJ"
      },
      "source": [
        "#### Comparação métrica\r\n",
        "\r\n",
        "Usarei agora alguma métricas de avaliação para ter um comparação mais objetiva.\r\n",
        "\r\n",
        "Comparando as métricas, vê-se que o desempenho do **Facebook Prophet** foi bem melhor que o do **Neural Prophet**."
      ]
    },
    {
      "cell_type": "code",
      "metadata": {
        "colab": {
          "base_uri": "https://localhost:8080/"
        },
        "id": "ag_ZZdd5EqSV",
        "outputId": "3167fadf-63c0-42b3-b751-e85b2023dd1e"
      },
      "source": [
        "print('Métricas de Avaliação do Neural Prophet')\r\n",
        "print(''*254)\r\n",
        "print('Erro logarítmico médio quadrático :',mean_squared_log_error(bebida_valida['y'],forecast['yhat1']))\r\n",
        "print('Erro médio quadrático :',mean_squared_error(bebida_valida['y'],forecast['yhat1']))\r\n",
        "print('Raiz do erro médio quadrático :',mean_squared_error(bebida_valida['y'],forecast['yhat1'])**0.5)\r\n",
        "print('Erro absoluto médio :',mean_absolute_error(bebida_valida['y'],forecast['yhat1']))\r\n",
        "print('Erro absoluto mediano :',median_absolute_error(bebida_valida['y'],forecast['yhat1']))\r\n",
        "print(''*254)\r\n",
        "print('Métricas de Avaliação do Fcaebook Prophet')\r\n",
        "print(''*254)\r\n",
        "print('Erro logarítmico médio quadrático :',mean_squared_log_error(bebida_valida['y'],saida['yhat']))\r\n",
        "print('Erro médio quadrático :',mean_squared_error(bebida_valida['y'],saida['yhat']))\r\n",
        "print('Raiz do erro médio quadrático :',mean_squared_error(bebida_valida['y'],saida['yhat'])**0.5)\r\n",
        "print('Erro absoluto médio :',mean_absolute_error(bebida_valida['y'],saida['yhat']))\r\n",
        "print('Erro absoluto mediano :',median_absolute_error(bebida_valida['y'],saida['yhat']))"
      ],
      "execution_count": 27,
      "outputs": [
        {
          "output_type": "stream",
          "text": [
            "Métricas de Avaliação do Neural Prophet\n",
            "\n",
            "Erro logarítmico médio quadrático : 0.04733474228835797\n",
            "Erro médio quadrático : 1385455.6583631188\n",
            "Raiz do erro médio quadrático : 1177.053804362026\n",
            "Erro absoluto médio : 918.1347859700521\n",
            "Erro absoluto mediano : 681.209716796875\n",
            "\n",
            "Métricas de Avaliação do Fcaebook Prophet\n",
            "\n",
            "Erro logarítmico médio quadrático : 0.007878730421569358\n",
            "Erro médio quadrático : 249752.30258414705\n",
            "Raiz do erro médio quadrático : 499.7522411997239\n",
            "Erro absoluto médio : 362.19091942775157\n",
            "Erro absoluto mediano : 182.91207625210154\n"
          ],
          "name": "stdout"
        }
      ]
    }
  ]
}